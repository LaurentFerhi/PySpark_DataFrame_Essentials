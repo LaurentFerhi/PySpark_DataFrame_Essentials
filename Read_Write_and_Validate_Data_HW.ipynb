{
 "cells": [
  {
   "cell_type": "markdown",
   "metadata": {},
   "source": [
    "# Reading, Writing and Validating Data in PySpark HW\n",
    "\n",
    "Welcome to your first coding homework assignment in PySpark! I hope you enjoyed the lecture on Reading, Writing and Validating dataframes. Now it's time to put what you've learned into action! \n",
    "\n",
    "I've included several instructions below to help guide you through this homework assignment which I hope will get you feeling even comfortable reading, writing and validating dataframes. If you get stuck at any point, feel free to jump to the next lecture where I will guide you through my solutions to the HW assignment. \n",
    "\n",
    "Have fun!\n",
    "\n",
    "Let's dig right in!\n",
    "\n",
    "\n",
    "## But first things first.....\n",
    "We need to always begin every Spark session by creating a Spark instance. Let's go ahead and use the method we learned in the lecture in the cell below. Also see if you can remember how to open the Spark UI (using a link that automatically guides you there). "
   ]
  },
  {
   "cell_type": "code",
   "execution_count": 2,
   "metadata": {},
   "outputs": [],
   "source": [
    "import findspark\n",
    "findspark.init()\n",
    "\n",
    "from pyspark.sql import SparkSession\n",
    "spark = SparkSession.builder.appName('HW1').getOrCreate()"
   ]
  },
  {
   "cell_type": "markdown",
   "metadata": {},
   "source": [
    "## Next let's start by reading a basic csv dataset\n",
    "\n",
    "Download the pga_tour_historical dataset that is attached to this lecture and save it whatever folder you want, then read it in. \n",
    "\n",
    "**Data Source:** https://www.kaggle.com/bradklassen/pga-tour-20102018-data\n",
    "\n",
    "Rememer to try letting Spark infer the header and infer the Schema types!"
   ]
  },
  {
   "cell_type": "code",
   "execution_count": 4,
   "metadata": {},
   "outputs": [],
   "source": [
    "path = \"Datasets/\"\n",
    "df = spark.read.csv(path+'pga_tour_historical.csv',header=True,inferSchema=True)"
   ]
  },
  {
   "cell_type": "markdown",
   "metadata": {},
   "source": [
    "## 1. View first 5 lines of dataframe\n",
    "First generate a view of the first 5 lines of the dataframe to get an idea of what is inside. We went over two ways of doing this... see if you can remember BOTH ways. "
   ]
  },
  {
   "cell_type": "code",
   "execution_count": 5,
   "metadata": {},
   "outputs": [
    {
     "output_type": "stream",
     "name": "stdout",
     "text": [
      "+---------------+------+----------------+--------------------+-----+\n|    Player Name|Season|       Statistic|            Variable|Value|\n+---------------+------+----------------+--------------------+-----+\n|Robert Garrigus|  2010|Driving Distance|Driving Distance ...|   71|\n|   Bubba Watson|  2010|Driving Distance|Driving Distance ...|   77|\n| Dustin Johnson|  2010|Driving Distance|Driving Distance ...|   83|\n|Brett Wetterich|  2010|Driving Distance|Driving Distance ...|   54|\n|    J.B. Holmes|  2010|Driving Distance|Driving Distance ...|  100|\n+---------------+------+----------------+--------------------+-----+\nonly showing top 5 rows\n\n"
     ]
    }
   ],
   "source": [
    "df.show(5)"
   ]
  },
  {
   "cell_type": "code",
   "execution_count": 7,
   "metadata": {},
   "outputs": [
    {
     "output_type": "execute_result",
     "data": {
      "text/plain": [
       "[Row(Player Name='Robert Garrigus', Season=2010, Statistic='Driving Distance', Variable='Driving Distance - (ROUNDS)', Value='71'),\n",
       " Row(Player Name='Bubba Watson', Season=2010, Statistic='Driving Distance', Variable='Driving Distance - (ROUNDS)', Value='77'),\n",
       " Row(Player Name='Dustin Johnson', Season=2010, Statistic='Driving Distance', Variable='Driving Distance - (ROUNDS)', Value='83'),\n",
       " Row(Player Name='Brett Wetterich', Season=2010, Statistic='Driving Distance', Variable='Driving Distance - (ROUNDS)', Value='54'),\n",
       " Row(Player Name='J.B. Holmes', Season=2010, Statistic='Driving Distance', Variable='Driving Distance - (ROUNDS)', Value='100')]"
      ]
     },
     "metadata": {},
     "execution_count": 7
    }
   ],
   "source": [
    "df.head(5)"
   ]
  },
  {
   "cell_type": "markdown",
   "metadata": {},
   "source": [
    "## 2. Print the schema details\n",
    "\n",
    "Now print the details of the dataframes schema that Spark infered to ensure that it was infered correctly. Sometimes it is not infered correctly, so we need to watch out!"
   ]
  },
  {
   "cell_type": "code",
   "execution_count": 8,
   "metadata": {},
   "outputs": [
    {
     "output_type": "stream",
     "name": "stdout",
     "text": [
      "root\n |-- Player Name: string (nullable = true)\n |-- Season: integer (nullable = true)\n |-- Statistic: string (nullable = true)\n |-- Variable: string (nullable = true)\n |-- Value: string (nullable = true)\n\n"
     ]
    }
   ],
   "source": [
    "df.printSchema()"
   ]
  },
  {
   "cell_type": "markdown",
   "metadata": {},
   "source": [
    "## 3. Edit the schema during the read in\n",
    "\n",
    "We can see from the output above that Spark did not correctly infer that the \"value\" column was an integer value. Let's try specifying the schema this time to let spark know what the schema should be.\n",
    "\n",
    "Here is a link to see a list of PySpark data types in case you need it (also attached to the lecture): \n",
    "https://spark.apache.org/docs/latest/sql-ref-datatypes.html"
   ]
  },
  {
   "cell_type": "code",
   "execution_count": 9,
   "metadata": {},
   "outputs": [],
   "source": [
    "from pyspark.sql.types import *"
   ]
  },
  {
   "cell_type": "code",
   "execution_count": 10,
   "metadata": {},
   "outputs": [],
   "source": [
    "data_schema = [\n",
    "    StructField(\"Player_Name\", StringType(),True),\n",
    "    StructField(\"Season\", IntegerType(),True),\n",
    "    StructField(\"Statistic\", StringType(),True),\n",
    "    StructField(\"Variable\", StringType(),True),\n",
    "    StructField(\"Value\", IntegerType(),True),\n",
    "    ]\n",
    "\n",
    "final_struct = StructType(fields=data_schema)"
   ]
  },
  {
   "cell_type": "code",
   "execution_count": 11,
   "metadata": {},
   "outputs": [],
   "source": [
    "df = spark.read.csv(path+'pga_tour_historical.csv',schema=final_struct)"
   ]
  },
  {
   "cell_type": "code",
   "execution_count": 12,
   "metadata": {},
   "outputs": [
    {
     "output_type": "stream",
     "name": "stdout",
     "text": [
      "root\n |-- Player_Name: string (nullable = true)\n |-- Season: integer (nullable = true)\n |-- Statistic: string (nullable = true)\n |-- Variable: string (nullable = true)\n |-- Value: integer (nullable = true)\n\n"
     ]
    }
   ],
   "source": [
    "df.printSchema()"
   ]
  },
  {
   "cell_type": "markdown",
   "metadata": {},
   "source": [
    "## 4. Generate summary statistics for only one variable\n",
    "\n",
    "See if you can generate summary statistics for only the \"Value\" column using the .describe function\n",
    "\n",
    "(count, mean, stddev, min, max) "
   ]
  },
  {
   "cell_type": "code",
   "execution_count": 16,
   "metadata": {},
   "outputs": [
    {
     "output_type": "stream",
     "name": "stdout",
     "text": [
      "+-------+------------------+\n|summary|             Value|\n+-------+------------------+\n|  count|           1657247|\n|   mean|12494.388998743096|\n| stddev|157274.75673570848|\n|    min|              -178|\n|    max|           3564954|\n+-------+------------------+\n\n"
     ]
    }
   ],
   "source": [
    "df.select(\"Value\").describe().show()"
   ]
  },
  {
   "cell_type": "markdown",
   "metadata": {},
   "source": [
    "## 5. Generate summary statistics for TWO variables\n",
    "Now try to generate ONLY the count min and max for BOTH the \"Value\" and \"Season\" variable using the select. You can't use the .describe function for this one but see if you can remember which function you CAN use. "
   ]
  },
  {
   "cell_type": "code",
   "execution_count": 14,
   "metadata": {},
   "outputs": [
    {
     "output_type": "stream",
     "name": "stdout",
     "text": [
      "+-------+-------+------+\n|summary|  Value|Season|\n+-------+-------+------+\n|    min|   -178|  2010|\n|    max|3564954|  2018|\n+-------+-------+------+\n\n"
     ]
    }
   ],
   "source": [
    "df.select(\"Value\",\"Season\").summary('min','max').show()"
   ]
  },
  {
   "cell_type": "markdown",
   "metadata": {},
   "source": [
    "## 6. Write a parquet file\n",
    "\n",
    "Now try writing a parquet file (not partitioned) from the pga dataset. But first create a new dataframe containing ONLY the the \"Season\" and \"Value\" fields (using the \"select command you used in the question above) and write a parquet file partitioned by \"Season\". This is a bit of a challenge aimed at getting you ready for material that will be covered later on in the course. Don't feel bad if you can't figure it out.\n",
    "\n",
    "*Note that if any of your variable names contain spaces, spark will produce an error message with this call. That is why we are selecting ONLY the \"Season\" and \"Value\" fields. Ideally we should renamed those columns but we haven't gotten to that yet in this course but we will soon!*"
   ]
  },
  {
   "cell_type": "code",
   "execution_count": 22,
   "metadata": {},
   "outputs": [],
   "source": [
    "extract = df.select(\"Value\",\"Season\")\n",
    "extract.write.mode('overwrite').parquet(\"partition_parquet/\")"
   ]
  },
  {
   "cell_type": "markdown",
   "metadata": {},
   "source": [
    "## 7. Write a partioned parquet file\n",
    "\n",
    "You will need to use the same limited dataframe that you created in the previous question to accomplish this task as well. "
   ]
  },
  {
   "cell_type": "code",
   "execution_count": 23,
   "metadata": {},
   "outputs": [],
   "source": [
    "extract.write.mode('overwrite').partitionBy('Season').parquet(\"partition_parquet/\")"
   ]
  },
  {
   "cell_type": "markdown",
   "metadata": {},
   "source": [
    "## 8. Read in a partitioned parquet file\n",
    "\n",
    "Now try reading in the partitioned parquet file you just created above. "
   ]
  },
  {
   "cell_type": "code",
   "execution_count": 24,
   "metadata": {},
   "outputs": [],
   "source": [
    "parquet = spark.read.parquet('partition_parquet/')"
   ]
  },
  {
   "cell_type": "code",
   "execution_count": 25,
   "metadata": {},
   "outputs": [
    {
     "output_type": "stream",
     "name": "stdout",
     "text": [
      "+-----+------+\n|Value|Season|\n+-----+------+\n|   71|  2010|\n|   77|  2010|\n|   83|  2010|\n|   54|  2010|\n|  100|  2010|\n+-----+------+\nonly showing top 5 rows\n\n"
     ]
    }
   ],
   "source": [
    "parquet.show(5)"
   ]
  },
  {
   "cell_type": "markdown",
   "metadata": {},
   "source": [
    "## 9. Reading in a set of paritioned parquet files\n",
    "\n",
    "Now try only reading Seasons 2010, 2011 and 2012."
   ]
  },
  {
   "cell_type": "code",
   "execution_count": 26,
   "metadata": {},
   "outputs": [],
   "source": [
    "path_parquet = \"partition_parquet/\"\n",
    "\n",
    "part_df = spark.read.option(\"basePath\",path_parquet).parquet(\n",
    "    path_parquet+'Season=2010/',\n",
    "    path_parquet+'Season=2011/',\n",
    "    path_parquet+'Season=2012/',\n",
    ")"
   ]
  },
  {
   "cell_type": "code",
   "execution_count": 27,
   "metadata": {},
   "outputs": [
    {
     "output_type": "stream",
     "name": "stdout",
     "text": [
      "+------+------+\n|Season| count|\n+------+------+\n|  2012|311658|\n|  2010|323083|\n|  2011|305112|\n+------+------+\n\n"
     ]
    }
   ],
   "source": [
    "part_df.groupBy(\"Season\").count().show()"
   ]
  },
  {
   "cell_type": "markdown",
   "metadata": {},
   "source": [
    "## 10. Create your own dataframe\n",
    "\n",
    "Try creating your own dataframe below using PySparks *.createDataFrame* function. See if you can make one that contains 4 variables and at least 3 rows. \n",
    "\n",
    "Let's see how creative you can get on the content of the dataframe :)"
   ]
  },
  {
   "cell_type": "code",
   "execution_count": 18,
   "metadata": {},
   "outputs": [],
   "source": [
    "pets = spark.createDataFrame([\n",
    "    ['Ginko','cat',2,'06-06-2019'],\n",
    "    ['Alistair','dog',3,'02-19-2018'],\n",
    "    ['Noiraude','cat',10,'11-23-2010'],\n",
    "    ],['name','type','age','birth'])"
   ]
  },
  {
   "cell_type": "code",
   "execution_count": 20,
   "metadata": {},
   "outputs": [
    {
     "output_type": "stream",
     "name": "stdout",
     "text": [
      "+--------+----+---+----------+\n|    name|type|age|     birth|\n+--------+----+---+----------+\n|   Ginko| cat|  2|06-06-2019|\n|Alistair| dog|  3|02-19-2018|\n|Noiraude| cat| 10|11-23-2010|\n+--------+----+---+----------+\n\n"
     ]
    }
   ],
   "source": [
    "pets.show()"
   ]
  },
  {
   "cell_type": "code",
   "execution_count": 21,
   "metadata": {},
   "outputs": [
    {
     "output_type": "stream",
     "name": "stdout",
     "text": [
      "root\n |-- name: string (nullable = true)\n |-- type: string (nullable = true)\n |-- age: long (nullable = true)\n |-- birth: string (nullable = true)\n\n"
     ]
    }
   ],
   "source": [
    "pets.printSchema()"
   ]
  },
  {
   "cell_type": "markdown",
   "metadata": {},
   "source": [
    "## We're done! Great job!"
   ]
  }
 ],
 "metadata": {
  "kernelspec": {
   "display_name": "Python 3",
   "language": "python",
   "name": "python3"
  },
  "language_info": {
   "codemirror_mode": {
    "name": "ipython",
    "version": 3
   },
   "file_extension": ".py",
   "mimetype": "text/x-python",
   "name": "python",
   "nbconvert_exporter": "python",
   "pygments_lexer": "ipython3",
   "version": "3.7.6-final"
  }
 },
 "nbformat": 4,
 "nbformat_minor": 2
}