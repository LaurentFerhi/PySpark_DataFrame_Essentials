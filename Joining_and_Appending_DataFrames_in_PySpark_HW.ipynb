{
 "cells": [
  {
   "cell_type": "markdown",
   "metadata": {},
   "source": [
    "# Joining and Appending DataFrames in PySpark HW\n",
    "\n",
    "Now it's time to test your knowledge and further engrain the concepts we touched on in the lectures. Let's go ahead and get started.\n",
    "\n",
    "\n",
    "\n",
    "\n",
    "**As always let's start our Spark instance.**"
   ]
  },
  {
   "cell_type": "code",
   "execution_count": 3,
   "metadata": {},
   "outputs": [],
   "source": [
    "import findspark\n",
    "findspark.init()\n",
    "\n",
    "from pyspark.sql import SparkSession\n",
    "spark = SparkSession.builder.appName('HW').getOrCreate()"
   ]
  },
  {
   "cell_type": "code",
   "execution_count": 4,
   "metadata": {},
   "outputs": [],
   "source": [
    "import os\n",
    "from pyspark.sql.functions import *\n",
    "from pyspark.sql.types import *"
   ]
  },
  {
   "cell_type": "markdown",
   "metadata": {},
   "source": [
    "## Read in the database\n",
    "\n",
    "Let cotinue working with our college courses dataframe to get some more insights and practice what we have learned!Let's read in the whole database using the loop function that we learned about in the lecture to automatically read in all the datasets from the uw-madision-courses folder (there are too many datasets to each one individually."
   ]
  },
  {
   "cell_type": "code",
   "execution_count": 6,
   "metadata": {},
   "outputs": [],
   "source": [
    "path = 'Datasets/uw-madison-courses/'\n",
    "df_list=[]\n",
    "\n",
    "for filename in os.listdir(path):\n",
    "    if filename.endswith('.csv'):\n",
    "        filename_list = filename.split(\".\")\n",
    "        df_name = filename_list[0]\n",
    "        df = spark.read.csv(path+filename, inferSchema=True, header=True)\n",
    "        df.name = df_name\n",
    "        df_list.append(df_name)\n",
    "        exec(df_name+' = df')"
   ]
  },
  {
   "cell_type": "code",
   "execution_count": 7,
   "metadata": {},
   "outputs": [
    {
     "output_type": "execute_result",
     "data": {
      "text/plain": [
       "['courses',\n",
       " 'course_offerings',\n",
       " 'grade_distributions',\n",
       " 'instructors',\n",
       " 'rooms',\n",
       " 'schedules',\n",
       " 'sections',\n",
       " 'subjects',\n",
       " 'subject_memberships',\n",
       " 'teachings']"
      ]
     },
     "metadata": {},
     "execution_count": 7
    }
   ],
   "source": [
    "df_list"
   ]
  },
  {
   "cell_type": "markdown",
   "metadata": {},
   "source": [
    "Now check the contents of a few of the dataframses that were read in above."
   ]
  },
  {
   "cell_type": "code",
   "execution_count": 10,
   "metadata": {},
   "outputs": [
    {
     "output_type": "execute_result",
     "data": {
      "text/plain": [
       "        id                name\n",
       "0   761703    JOHN ARCHAMBAULT\n",
       "1  3677061      STEPHANIE KANN\n",
       "2   788586          KATHY PREM\n",
       "3  1600463  KRISTIN KLARKOWSKI\n",
       "4   693634      DAVID BOHNHOFF"
      ],
      "text/html": "<div>\n<style scoped>\n    .dataframe tbody tr th:only-of-type {\n        vertical-align: middle;\n    }\n\n    .dataframe tbody tr th {\n        vertical-align: top;\n    }\n\n    .dataframe thead th {\n        text-align: right;\n    }\n</style>\n<table border=\"1\" class=\"dataframe\">\n  <thead>\n    <tr style=\"text-align: right;\">\n      <th></th>\n      <th>id</th>\n      <th>name</th>\n    </tr>\n  </thead>\n  <tbody>\n    <tr>\n      <th>0</th>\n      <td>761703</td>\n      <td>JOHN ARCHAMBAULT</td>\n    </tr>\n    <tr>\n      <th>1</th>\n      <td>3677061</td>\n      <td>STEPHANIE KANN</td>\n    </tr>\n    <tr>\n      <th>2</th>\n      <td>788586</td>\n      <td>KATHY PREM</td>\n    </tr>\n    <tr>\n      <th>3</th>\n      <td>1600463</td>\n      <td>KRISTIN KLARKOWSKI</td>\n    </tr>\n    <tr>\n      <th>4</th>\n      <td>693634</td>\n      <td>DAVID BOHNHOFF</td>\n    </tr>\n  </tbody>\n</table>\n</div>"
     },
     "metadata": {},
     "execution_count": 10
    }
   ],
   "source": [
    "def look(df):\n",
    "    return df.limit(5).toPandas()\n",
    "\n",
    "look(instructors)"
   ]
  },
  {
   "cell_type": "markdown",
   "metadata": {},
   "source": [
    "## Recap: About this database\n",
    "\n",
    "You will notice that there are several more tables in the uw-madision-courses folder than there are read in above. This so that you will have a chance to practice your own custom joins and learn about the relationships between a real database work. Sometimes we don't know how they are related and we need to figure it out! I'll save that for the HW :) \n",
    "\n",
    "Here is a look at some of the important variables we can use to join our tables:\n",
    "\n",
    " - course_offerings: uuid, course_uuid, term_code, name\n",
    " - instructors: id, name\n",
    " - schedules: uuid\n",
    " - sections: uuid, course_offering_uuid,room_uuid, schedule_uuid\n",
    " - teachings: instructor_id, section_uuid\n",
    " - courses: uuid\n",
    " - grade_distributions: course_offering_uuid,section_number\n",
    " - rooms: uuid, facility_code, room_code\n",
    " - subjects: code\n",
    " - subject_memberships: subject_code, course_offering_uuid\n",
    " \n",
    " **Source:** https://www.kaggle.com/Madgrades/uw-madison-courses\n",
    " \n",
    "So alright, let's use this information to discover some insights from this data!"
   ]
  },
  {
   "cell_type": "markdown",
   "metadata": {},
   "source": [
    "## 1a. Can you assign the room numbers to each section of each course?\n",
    "\n",
    "Show only the rooms uuid, facility code, room number, term code and the name of the course from the course_offerings table."
   ]
  },
  {
   "cell_type": "code",
   "execution_count": 24,
   "metadata": {},
   "outputs": [
    {
     "output_type": "execute_result",
     "data": {
      "text/plain": [
       "  facility_code  number  term_code                         name\n",
       "0          0140     307       1182       International Business\n",
       "1          0140       3       1174  Intro Managerial Accounting\n",
       "2          0140       3       1174  Intro Managerial Accounting\n",
       "3          0140     311       1174                 Business Law\n",
       "4          0140     309       1182                 Business Law"
      ],
      "text/html": "<div>\n<style scoped>\n    .dataframe tbody tr th:only-of-type {\n        vertical-align: middle;\n    }\n\n    .dataframe tbody tr th {\n        vertical-align: top;\n    }\n\n    .dataframe thead th {\n        text-align: right;\n    }\n</style>\n<table border=\"1\" class=\"dataframe\">\n  <thead>\n    <tr style=\"text-align: right;\">\n      <th></th>\n      <th>facility_code</th>\n      <th>number</th>\n      <th>term_code</th>\n      <th>name</th>\n    </tr>\n  </thead>\n  <tbody>\n    <tr>\n      <th>0</th>\n      <td>0140</td>\n      <td>307</td>\n      <td>1182</td>\n      <td>International Business</td>\n    </tr>\n    <tr>\n      <th>1</th>\n      <td>0140</td>\n      <td>3</td>\n      <td>1174</td>\n      <td>Intro Managerial Accounting</td>\n    </tr>\n    <tr>\n      <th>2</th>\n      <td>0140</td>\n      <td>3</td>\n      <td>1174</td>\n      <td>Intro Managerial Accounting</td>\n    </tr>\n    <tr>\n      <th>3</th>\n      <td>0140</td>\n      <td>311</td>\n      <td>1174</td>\n      <td>Business Law</td>\n    </tr>\n    <tr>\n      <th>4</th>\n      <td>0140</td>\n      <td>309</td>\n      <td>1182</td>\n      <td>Business Law</td>\n    </tr>\n  </tbody>\n</table>\n</div>"
     },
     "metadata": {},
     "execution_count": 24
    }
   ],
   "source": [
    "df1 = rooms.join(sections, rooms.uuid == sections.room_uuid, how='left').select([\n",
    "    rooms.uuid,\n",
    "    rooms.facility_code,\n",
    "    sections.course_offering_uuid,\n",
    "    sections.number\n",
    "])\n",
    "\n",
    "df2 = df1.join(course_offerings, df1.course_offering_uuid == course_offerings.uuid, how='left').select([\n",
    "    df1.facility_code,\n",
    "    df1.number,\n",
    "    course_offerings.term_code,\n",
    "    'name'\n",
    "])\n",
    "\n",
    "look(df2)"
   ]
  },
  {
   "cell_type": "markdown",
   "metadata": {},
   "source": [
    "## 1b. Now show same output as above but for only facility number 0469 (facility_code)"
   ]
  },
  {
   "cell_type": "code",
   "execution_count": 27,
   "metadata": {},
   "outputs": [
    {
     "output_type": "stream",
     "name": "stdout",
     "text": [
      "+-------------+------+---------+--------------------+\n|facility_code|number|term_code|                name|\n+-------------+------+---------+--------------------+\n|         0469|   337|     1082|Introduction to P...|\n|         0469|   352|     1082|Introduction to P...|\n|         0469|   308|     1102|Introduction to P...|\n|         0469|   307|     1102|Introduction to P...|\n|         0469|   371|     1174|Introduction to P...|\n+-------------+------+---------+--------------------+\nonly showing top 5 rows\n\n"
     ]
    }
   ],
   "source": [
    "df2.filter(df2.facility_code == '0469').show(5)"
   ]
  },
  {
   "cell_type": "markdown",
   "metadata": {},
   "source": [
    "## 2. Count how many sections are offered for each subject for each facility\n",
    "\n",
    "*Note: this will involve a groupby*"
   ]
  },
  {
   "cell_type": "code",
   "execution_count": 35,
   "metadata": {},
   "outputs": [
    {
     "output_type": "stream",
     "name": "stdout",
     "text": [
      "+--------------------+-------------+-----+\n|                name|facility_code|count|\n+--------------------+-------------+-----+\n|             Zoology|         0060|   36|\n|   Political Science|         0557|   10|\n|   Computer Sciences|         0402|   69|\n|             Physics|         1485|   31|\n|Scandinavian Studies|         0046|   62|\n|          Physiology|        0451C|   94|\n|Biological System...|       ONLINE|    8|\n|  Communication Arts|         0084|    2|\n|Agricultural and ...|         0055|   45|\n|        Soil Science|   OFF CAMPUS|   20|\n+--------------------+-------------+-----+\nonly showing top 10 rows\n\n"
     ]
    }
   ],
   "source": [
    "df1 = subjects.join(subject_memberships, subjects.code == subject_memberships.subject_code, how='inner')\n",
    "df2 = df1.join(sections, df1.course_offering_uuid == sections.course_offering_uuid, how='left')\n",
    "df3 = df2.join(rooms, df2.room_uuid == rooms.uuid, how='left')\n",
    "\n",
    "df3 = df3.select('name','facility_code','room_code')\n",
    "df3.groupBy('name','facility_code').count().show(10)"
   ]
  },
  {
   "cell_type": "markdown",
   "metadata": {},
   "source": [
    "## 3. What are the hardest classes?\n",
    "\n",
    "Let's see if we can figure out which classes are the hardest by seeing how many students failed. Note that you will first need to aggregate the grades table by the course uuid to include all sections. Show the name of the course as well that you will need to get from the course_offering table."
   ]
  },
  {
   "cell_type": "code",
   "execution_count": 39,
   "metadata": {},
   "outputs": [
    {
     "output_type": "execute_result",
     "data": {
      "text/plain": [
       "                   course_offering_uuid  section_number  a_count  ab_count  \\\n",
       "0  344b3ebe-da7e-314c-83ed-9425269695fd               1      105         0   \n",
       "1  f718e6cd-33f0-3c14-a9a6-834d9c3610a8               1      158         0   \n",
       "2  ea3b717c-d66b-30dc-8b37-964d9688295f               1      139        12   \n",
       "3  075da420-5f49-3dd0-93df-13e3c152e1b1               1       87         0   \n",
       "4  2b4e216d-a728-3713-8c7c-19afffc6b2fd               1       70         0   \n",
       "\n",
       "   b_count  bc_count  c_count  d_count  f_count  s_count  u_count  cr_count  \\\n",
       "0        0         0        0        0        0        0        0         0   \n",
       "1        0         0        0        0        0        0        0         0   \n",
       "2        2         0        3        0        0        0        0         0   \n",
       "3        0         0        0        0        0        0        0         0   \n",
       "4        0         0        0        0        0        0        0         0   \n",
       "\n",
       "   n_count  p_count  i_count  nw_count  nr_count  other_count  \n",
       "0        0        0        0         0         0            0  \n",
       "1        0        0        1         0         0            0  \n",
       "2        0        0        0         0         0            0  \n",
       "3        0        0        1         0         0            0  \n",
       "4        0        0        1         0         0            0  "
      ],
      "text/html": "<div>\n<style scoped>\n    .dataframe tbody tr th:only-of-type {\n        vertical-align: middle;\n    }\n\n    .dataframe tbody tr th {\n        vertical-align: top;\n    }\n\n    .dataframe thead th {\n        text-align: right;\n    }\n</style>\n<table border=\"1\" class=\"dataframe\">\n  <thead>\n    <tr style=\"text-align: right;\">\n      <th></th>\n      <th>course_offering_uuid</th>\n      <th>section_number</th>\n      <th>a_count</th>\n      <th>ab_count</th>\n      <th>b_count</th>\n      <th>bc_count</th>\n      <th>c_count</th>\n      <th>d_count</th>\n      <th>f_count</th>\n      <th>s_count</th>\n      <th>u_count</th>\n      <th>cr_count</th>\n      <th>n_count</th>\n      <th>p_count</th>\n      <th>i_count</th>\n      <th>nw_count</th>\n      <th>nr_count</th>\n      <th>other_count</th>\n    </tr>\n  </thead>\n  <tbody>\n    <tr>\n      <th>0</th>\n      <td>344b3ebe-da7e-314c-83ed-9425269695fd</td>\n      <td>1</td>\n      <td>105</td>\n      <td>0</td>\n      <td>0</td>\n      <td>0</td>\n      <td>0</td>\n      <td>0</td>\n      <td>0</td>\n      <td>0</td>\n      <td>0</td>\n      <td>0</td>\n      <td>0</td>\n      <td>0</td>\n      <td>0</td>\n      <td>0</td>\n      <td>0</td>\n      <td>0</td>\n    </tr>\n    <tr>\n      <th>1</th>\n      <td>f718e6cd-33f0-3c14-a9a6-834d9c3610a8</td>\n      <td>1</td>\n      <td>158</td>\n      <td>0</td>\n      <td>0</td>\n      <td>0</td>\n      <td>0</td>\n      <td>0</td>\n      <td>0</td>\n      <td>0</td>\n      <td>0</td>\n      <td>0</td>\n      <td>0</td>\n      <td>0</td>\n      <td>1</td>\n      <td>0</td>\n      <td>0</td>\n      <td>0</td>\n    </tr>\n    <tr>\n      <th>2</th>\n      <td>ea3b717c-d66b-30dc-8b37-964d9688295f</td>\n      <td>1</td>\n      <td>139</td>\n      <td>12</td>\n      <td>2</td>\n      <td>0</td>\n      <td>3</td>\n      <td>0</td>\n      <td>0</td>\n      <td>0</td>\n      <td>0</td>\n      <td>0</td>\n      <td>0</td>\n      <td>0</td>\n      <td>0</td>\n      <td>0</td>\n      <td>0</td>\n      <td>0</td>\n    </tr>\n    <tr>\n      <th>3</th>\n      <td>075da420-5f49-3dd0-93df-13e3c152e1b1</td>\n      <td>1</td>\n      <td>87</td>\n      <td>0</td>\n      <td>0</td>\n      <td>0</td>\n      <td>0</td>\n      <td>0</td>\n      <td>0</td>\n      <td>0</td>\n      <td>0</td>\n      <td>0</td>\n      <td>0</td>\n      <td>0</td>\n      <td>1</td>\n      <td>0</td>\n      <td>0</td>\n      <td>0</td>\n    </tr>\n    <tr>\n      <th>4</th>\n      <td>2b4e216d-a728-3713-8c7c-19afffc6b2fd</td>\n      <td>1</td>\n      <td>70</td>\n      <td>0</td>\n      <td>0</td>\n      <td>0</td>\n      <td>0</td>\n      <td>0</td>\n      <td>0</td>\n      <td>0</td>\n      <td>0</td>\n      <td>0</td>\n      <td>0</td>\n      <td>0</td>\n      <td>1</td>\n      <td>0</td>\n      <td>0</td>\n      <td>0</td>\n    </tr>\n  </tbody>\n</table>\n</div>"
     },
     "metadata": {},
     "execution_count": 39
    }
   ],
   "source": [
    "look(grade_distributions)"
   ]
  },
  {
   "cell_type": "code",
   "execution_count": 44,
   "metadata": {},
   "outputs": [
    {
     "output_type": "execute_result",
     "data": {
      "text/plain": [
       "                   course_offering_uuid  failed_students\n",
       "0  c939dd5e-43ba-3266-8f74-573f629de75b                0\n",
       "1  75fdf27b-0e52-3544-96eb-d594a5ad969f                0\n",
       "2  cfeba94d-8e0e-320b-a904-ea2c2a31c000                7\n",
       "3  ceabe145-78e5-33c2-9b68-3a1eea9c2864                4\n",
       "4  1ee15e7e-fa91-3205-8999-4cac58a95b61                0"
      ],
      "text/html": "<div>\n<style scoped>\n    .dataframe tbody tr th:only-of-type {\n        vertical-align: middle;\n    }\n\n    .dataframe tbody tr th {\n        vertical-align: top;\n    }\n\n    .dataframe thead th {\n        text-align: right;\n    }\n</style>\n<table border=\"1\" class=\"dataframe\">\n  <thead>\n    <tr style=\"text-align: right;\">\n      <th></th>\n      <th>course_offering_uuid</th>\n      <th>failed_students</th>\n    </tr>\n  </thead>\n  <tbody>\n    <tr>\n      <th>0</th>\n      <td>c939dd5e-43ba-3266-8f74-573f629de75b</td>\n      <td>0</td>\n    </tr>\n    <tr>\n      <th>1</th>\n      <td>75fdf27b-0e52-3544-96eb-d594a5ad969f</td>\n      <td>0</td>\n    </tr>\n    <tr>\n      <th>2</th>\n      <td>cfeba94d-8e0e-320b-a904-ea2c2a31c000</td>\n      <td>7</td>\n    </tr>\n    <tr>\n      <th>3</th>\n      <td>ceabe145-78e5-33c2-9b68-3a1eea9c2864</td>\n      <td>4</td>\n    </tr>\n    <tr>\n      <th>4</th>\n      <td>1ee15e7e-fa91-3205-8999-4cac58a95b61</td>\n      <td>0</td>\n    </tr>\n  </tbody>\n</table>\n</div>"
     },
     "metadata": {},
     "execution_count": 44
    }
   ],
   "source": [
    "df1 = grade_distributions.groupBy('course_offering_uuid').agg(sum('f_count').alias('failed_students'))\n",
    "look(df1)"
   ]
  },
  {
   "cell_type": "code",
   "execution_count": 46,
   "metadata": {},
   "outputs": [
    {
     "output_type": "stream",
     "name": "stdout",
     "text": [
      "+----------------------------+---------------+\n|name                        |failed_students|\n+----------------------------+---------------+\n|Calc--Functns of Variables  |72             |\n|Animal Biology              |70             |\n|Calculus&Analytic Geometry  |67             |\n|Calculus&Analytic Geometry 1|64             |\n|Calculus&Analytic Geometry  |63             |\n+----------------------------+---------------+\nonly showing top 5 rows\n\n"
     ]
    }
   ],
   "source": [
    "df2 = df1.join(course_offerings, df1.course_offering_uuid == course_offerings.uuid, how='left')\n",
    "df2.select(['name','failed_students']).orderBy(desc('failed_students')).show(5, truncate=False)"
   ]
  },
  {
   "cell_type": "markdown",
   "metadata": {},
   "source": [
    "## Challenge Question: Automating data entry errors\n",
    "\n",
    "We see in the dataframe below that there are several typos of various animal names. If this was a large database of several millions of records, correcting these errors would be way too labor intensive. How can we automate correcting these errors?\n",
    "\n",
    "*Hint: Leven...*"
   ]
  },
  {
   "cell_type": "code",
   "execution_count": 47,
   "metadata": {},
   "outputs": [
    {
     "output_type": "stream",
     "name": "stdout",
     "text": [
      "+------------+---+\n|      Animal|age|\n+------------+---+\n|      Monkey| 10|\n|      Monkay| 36|\n|        Mnky|123|\n|    Elephant| 48|\n|     Elefant| 16|\n|    Ellafant|  1|\n|Hippopotamus| 48|\n| Hipopotamus| 16|\n|       Hippo|  1|\n+------------+---+\n\n"
     ]
    }
   ],
   "source": [
    "values = [('Monkey',10),('Monkay',36),('Mnky',123), \\\n",
    "          ('Elephant',48),('Elefant',16),('Ellafant',1), \\\n",
    "          ('Hippopotamus',48),('Hipopotamus',16),('Hippo',1)]\n",
    "zoo = spark.createDataFrame(values,['Animal','age'])\n",
    "zoo.show()"
   ]
  },
  {
   "cell_type": "code",
   "execution_count": 53,
   "metadata": {},
   "outputs": [
    {
     "output_type": "stream",
     "name": "stdout",
     "text": [
      "+------------+---+------------+\n|      Animal|age|       value|\n+------------+---+------------+\n|      Monkey| 10|      Monkey|\n|      Monkay| 36|      Monkey|\n|        Mnky|123|      Monkey|\n|    Elephant| 48|    Elephant|\n|     Elefant| 16|    Elephant|\n|    Ellafant|  1|    Elephant|\n|Hippopotamus| 48|Hippopotamus|\n| Hipopotamus| 16|Hippopotamus|\n|       Hippo|  1|        null|\n+------------+---+------------+\n\n"
     ]
    }
   ],
   "source": [
    "options = spark.createDataFrame(['Monkey','Elephant','Hippopotamus'], StringType())\n",
    "correct_name = zoo.join(options, levenshtein(zoo.Animal, options[\"value\"]) < 5, how='left')\n",
    "correct_name.show()"
   ]
  },
  {
   "cell_type": "markdown",
   "metadata": {},
   "source": [
    "### Great job! "
   ]
  }
 ],
 "metadata": {
  "kernelspec": {
   "display_name": "Python 3",
   "language": "python",
   "name": "python3"
  },
  "language_info": {
   "codemirror_mode": {
    "name": "ipython",
    "version": 3
   },
   "file_extension": ".py",
   "mimetype": "text/x-python",
   "name": "python",
   "nbconvert_exporter": "python",
   "pygments_lexer": "ipython3",
   "version": "3.7.6-final"
  }
 },
 "nbformat": 4,
 "nbformat_minor": 2
}