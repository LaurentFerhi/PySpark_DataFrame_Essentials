{
 "cells": [
  {
   "cell_type": "markdown",
   "metadata": {},
   "source": [
    "# NLP in Pyspark's MLlib Project\n",
    "\n",
    "## Fake Job Posting Predictions\n",
    "\n",
    "Indeed.com has just hired you to create a system that automatically flags suspicious job postings on it's website. It has recently seen an influx of fake job postings that is negativley impacting it's customer experience. Becuase of the high volume of job postings it receives everyday, their employees do have the capacity to check every posting so they would like prioritize which postings to review before deleting it. \n",
    "\n",
    "#### Your task\n",
    "Use the attached dataset with NLP to create an alogorthim which automatically flags suspicious posts for review. \n",
    "\n",
    "#### The data\n",
    "This dataset contains 18K job descriptions out of which about 800 are fake. The data consists of both textual information and meta-information about the jobs.\n",
    "\n",
    "**Data Source:** https://www.kaggle.com/shivamb/real-or-fake-fake-jobposting-prediction\n",
    "\n",
    "#### Have fun!"
   ]
  },
  {
   "cell_type": "code",
   "execution_count": 63,
   "metadata": {},
   "outputs": [],
   "source": [
    "import findspark\n",
    "findspark.init()\n",
    "\n",
    "from pyspark.sql import SparkSession\n",
    "spark = SparkSession.builder.appName('NLP').getOrCreate()"
   ]
  },
  {
   "cell_type": "code",
   "execution_count": 64,
   "metadata": {},
   "outputs": [],
   "source": [
    "from pyspark.sql.functions import *\n",
    "from pyspark.sql.types import *\n",
    "from pyspark.ml.feature import Tokenizer, StopWordsRemover, CountVectorizer, IDF, StringIndexer, VectorAssembler\n",
    "from pyspark.ml.classification import NaiveBayes\n",
    "from pyspark.ml import Pipeline\n",
    "from pyspark.ml.tuning import CrossValidator, ParamGridBuilder\n",
    "from pyspark.ml.evaluation import MulticlassClassificationEvaluator\n",
    "\n",
    "from sklearn.metrics import classification_report"
   ]
  },
  {
   "cell_type": "code",
   "execution_count": 65,
   "metadata": {},
   "outputs": [
    {
     "output_type": "execute_result",
     "data": {
      "text/plain": [
       "   job_id                                      title            location  \\\n",
       "0       1                           Marketing Intern    US, NY, New York   \n",
       "1       2  Customer Service - Cloud Video Production      NZ, , Auckland   \n",
       "2       3    Commissioning Machinery Assistant (CMA)       US, IA, Wever   \n",
       "3       4          Account Executive - Washington DC  US, DC, Washington   \n",
       "4       5                        Bill Review Manager  US, FL, Fort Worth   \n",
       "\n",
       "  department salary_range                                    company_profile  \\\n",
       "0  Marketing         None  We're Food52, and we've created a groundbreaki...   \n",
       "1    Success         None  90 Seconds, the worlds Cloud Video Production ...   \n",
       "2       None         None  Valor Services provides Workforce Solutions th...   \n",
       "3      Sales         None  Our passion for improving quality of life thro...   \n",
       "4       None         None  SpotSource Solutions LLC is a Global Human Cap...   \n",
       "\n",
       "                                         description  \\\n",
       "0  Food52, a fast-growing, James Beard Award-winn...   \n",
       "1  Organised - Focused - Vibrant - Awesome!Do you...   \n",
       "2  Our client, located in Houston, is actively se...   \n",
       "3  THE COMPANY: ESRI – Environmental Systems Rese...   \n",
       "4  JOB TITLE: Itemization Review ManagerLOCATION:...   \n",
       "\n",
       "                                        requirements  \\\n",
       "0  Experience with content management systems a m...   \n",
       "1  What we expect from you:Your key responsibilit...   \n",
       "2  Implement pre-commissioning and commissioning ...   \n",
       "3  EDUCATION: Bachelor’s or Master’s in GIS, busi...   \n",
       "4  QUALIFICATIONS:RN license in the State of Texa...   \n",
       "\n",
       "                                            benefits telecommuting  \\\n",
       "0                                               None             0   \n",
       "1  What you will get from usThrough being part of...             0   \n",
       "2                                               None             0   \n",
       "3  Our culture is anything but corporate—we have ...             0   \n",
       "4                              Full Benefits Offered             0   \n",
       "\n",
       "  has_company_logo has_questions employment_type required_experience  \\\n",
       "0                1             0           Other          Internship   \n",
       "1                1             0       Full-time      Not Applicable   \n",
       "2                1             0            None                None   \n",
       "3                1             0       Full-time    Mid-Senior level   \n",
       "4                1             1       Full-time    Mid-Senior level   \n",
       "\n",
       "  required_education                   industry              function  \\\n",
       "0               None                       None             Marketing   \n",
       "1               None  Marketing and Advertising      Customer Service   \n",
       "2               None                       None                  None   \n",
       "3  Bachelor's Degree          Computer Software                 Sales   \n",
       "4  Bachelor's Degree     Hospital & Health Care  Health Care Provider   \n",
       "\n",
       "  fraudulent  \n",
       "0          0  \n",
       "1          0  \n",
       "2          0  \n",
       "3          0  \n",
       "4          0  "
      ],
      "text/html": "<div>\n<style scoped>\n    .dataframe tbody tr th:only-of-type {\n        vertical-align: middle;\n    }\n\n    .dataframe tbody tr th {\n        vertical-align: top;\n    }\n\n    .dataframe thead th {\n        text-align: right;\n    }\n</style>\n<table border=\"1\" class=\"dataframe\">\n  <thead>\n    <tr style=\"text-align: right;\">\n      <th></th>\n      <th>job_id</th>\n      <th>title</th>\n      <th>location</th>\n      <th>department</th>\n      <th>salary_range</th>\n      <th>company_profile</th>\n      <th>description</th>\n      <th>requirements</th>\n      <th>benefits</th>\n      <th>telecommuting</th>\n      <th>has_company_logo</th>\n      <th>has_questions</th>\n      <th>employment_type</th>\n      <th>required_experience</th>\n      <th>required_education</th>\n      <th>industry</th>\n      <th>function</th>\n      <th>fraudulent</th>\n    </tr>\n  </thead>\n  <tbody>\n    <tr>\n      <th>0</th>\n      <td>1</td>\n      <td>Marketing Intern</td>\n      <td>US, NY, New York</td>\n      <td>Marketing</td>\n      <td>None</td>\n      <td>We're Food52, and we've created a groundbreaki...</td>\n      <td>Food52, a fast-growing, James Beard Award-winn...</td>\n      <td>Experience with content management systems a m...</td>\n      <td>None</td>\n      <td>0</td>\n      <td>1</td>\n      <td>0</td>\n      <td>Other</td>\n      <td>Internship</td>\n      <td>None</td>\n      <td>None</td>\n      <td>Marketing</td>\n      <td>0</td>\n    </tr>\n    <tr>\n      <th>1</th>\n      <td>2</td>\n      <td>Customer Service - Cloud Video Production</td>\n      <td>NZ, , Auckland</td>\n      <td>Success</td>\n      <td>None</td>\n      <td>90 Seconds, the worlds Cloud Video Production ...</td>\n      <td>Organised - Focused - Vibrant - Awesome!Do you...</td>\n      <td>What we expect from you:Your key responsibilit...</td>\n      <td>What you will get from usThrough being part of...</td>\n      <td>0</td>\n      <td>1</td>\n      <td>0</td>\n      <td>Full-time</td>\n      <td>Not Applicable</td>\n      <td>None</td>\n      <td>Marketing and Advertising</td>\n      <td>Customer Service</td>\n      <td>0</td>\n    </tr>\n    <tr>\n      <th>2</th>\n      <td>3</td>\n      <td>Commissioning Machinery Assistant (CMA)</td>\n      <td>US, IA, Wever</td>\n      <td>None</td>\n      <td>None</td>\n      <td>Valor Services provides Workforce Solutions th...</td>\n      <td>Our client, located in Houston, is actively se...</td>\n      <td>Implement pre-commissioning and commissioning ...</td>\n      <td>None</td>\n      <td>0</td>\n      <td>1</td>\n      <td>0</td>\n      <td>None</td>\n      <td>None</td>\n      <td>None</td>\n      <td>None</td>\n      <td>None</td>\n      <td>0</td>\n    </tr>\n    <tr>\n      <th>3</th>\n      <td>4</td>\n      <td>Account Executive - Washington DC</td>\n      <td>US, DC, Washington</td>\n      <td>Sales</td>\n      <td>None</td>\n      <td>Our passion for improving quality of life thro...</td>\n      <td>THE COMPANY: ESRI – Environmental Systems Rese...</td>\n      <td>EDUCATION: Bachelor’s or Master’s in GIS, busi...</td>\n      <td>Our culture is anything but corporate—we have ...</td>\n      <td>0</td>\n      <td>1</td>\n      <td>0</td>\n      <td>Full-time</td>\n      <td>Mid-Senior level</td>\n      <td>Bachelor's Degree</td>\n      <td>Computer Software</td>\n      <td>Sales</td>\n      <td>0</td>\n    </tr>\n    <tr>\n      <th>4</th>\n      <td>5</td>\n      <td>Bill Review Manager</td>\n      <td>US, FL, Fort Worth</td>\n      <td>None</td>\n      <td>None</td>\n      <td>SpotSource Solutions LLC is a Global Human Cap...</td>\n      <td>JOB TITLE: Itemization Review ManagerLOCATION:...</td>\n      <td>QUALIFICATIONS:RN license in the State of Texa...</td>\n      <td>Full Benefits Offered</td>\n      <td>0</td>\n      <td>1</td>\n      <td>1</td>\n      <td>Full-time</td>\n      <td>Mid-Senior level</td>\n      <td>Bachelor's Degree</td>\n      <td>Hospital &amp; Health Care</td>\n      <td>Health Care Provider</td>\n      <td>0</td>\n    </tr>\n  </tbody>\n</table>\n</div>"
     },
     "metadata": {},
     "execution_count": 65
    }
   ],
   "source": [
    "df = spark.read.csv('Datasets/fake_job_postings.csv',inferSchema=True,header=True)\n",
    "df.limit(5).toPandas()"
   ]
  },
  {
   "cell_type": "code",
   "execution_count": 66,
   "metadata": {},
   "outputs": [
    {
     "output_type": "stream",
     "name": "stdout",
     "text": [
      "root\n |-- job_id: integer (nullable = true)\n |-- title: string (nullable = true)\n |-- location: string (nullable = true)\n |-- department: string (nullable = true)\n |-- salary_range: string (nullable = true)\n |-- company_profile: string (nullable = true)\n |-- description: string (nullable = true)\n |-- requirements: string (nullable = true)\n |-- benefits: string (nullable = true)\n |-- telecommuting: string (nullable = true)\n |-- has_company_logo: string (nullable = true)\n |-- has_questions: string (nullable = true)\n |-- employment_type: string (nullable = true)\n |-- required_experience: string (nullable = true)\n |-- required_education: string (nullable = true)\n |-- industry: string (nullable = true)\n |-- function: string (nullable = true)\n |-- fraudulent: string (nullable = true)\n\n"
     ]
    }
   ],
   "source": [
    "df.printSchema()"
   ]
  },
  {
   "cell_type": "code",
   "execution_count": 67,
   "metadata": {},
   "outputs": [
    {
     "output_type": "execute_result",
     "data": {
      "text/plain": [
       "17880"
      ]
     },
     "metadata": {},
     "execution_count": 67
    }
   ],
   "source": [
    "df.count()"
   ]
  },
  {
   "cell_type": "code",
   "execution_count": 68,
   "metadata": {},
   "outputs": [
    {
     "output_type": "execute_result",
     "data": {
      "text/plain": [
       "                         0\n",
       "salary_range         15011\n",
       "department           11547\n",
       "required_education    7748\n",
       "benefits              6966\n",
       "required_experience   6723\n",
       "function              6317\n",
       "industry              4831\n",
       "company_profile       3308\n",
       "employment_type       3292\n",
       "requirements          2573\n",
       "location               346\n",
       "fraudulent             176\n",
       "telecommuting           89\n",
       "has_questions           30\n",
       "has_company_logo        29\n",
       "description              1\n",
       "title                    0\n",
       "job_id                   0"
      ],
      "text/html": "<div>\n<style scoped>\n    .dataframe tbody tr th:only-of-type {\n        vertical-align: middle;\n    }\n\n    .dataframe tbody tr th {\n        vertical-align: top;\n    }\n\n    .dataframe thead th {\n        text-align: right;\n    }\n</style>\n<table border=\"1\" class=\"dataframe\">\n  <thead>\n    <tr style=\"text-align: right;\">\n      <th></th>\n      <th>0</th>\n    </tr>\n  </thead>\n  <tbody>\n    <tr>\n      <th>salary_range</th>\n      <td>15011</td>\n    </tr>\n    <tr>\n      <th>department</th>\n      <td>11547</td>\n    </tr>\n    <tr>\n      <th>required_education</th>\n      <td>7748</td>\n    </tr>\n    <tr>\n      <th>benefits</th>\n      <td>6966</td>\n    </tr>\n    <tr>\n      <th>required_experience</th>\n      <td>6723</td>\n    </tr>\n    <tr>\n      <th>function</th>\n      <td>6317</td>\n    </tr>\n    <tr>\n      <th>industry</th>\n      <td>4831</td>\n    </tr>\n    <tr>\n      <th>company_profile</th>\n      <td>3308</td>\n    </tr>\n    <tr>\n      <th>employment_type</th>\n      <td>3292</td>\n    </tr>\n    <tr>\n      <th>requirements</th>\n      <td>2573</td>\n    </tr>\n    <tr>\n      <th>location</th>\n      <td>346</td>\n    </tr>\n    <tr>\n      <th>fraudulent</th>\n      <td>176</td>\n    </tr>\n    <tr>\n      <th>telecommuting</th>\n      <td>89</td>\n    </tr>\n    <tr>\n      <th>has_questions</th>\n      <td>30</td>\n    </tr>\n    <tr>\n      <th>has_company_logo</th>\n      <td>29</td>\n    </tr>\n    <tr>\n      <th>description</th>\n      <td>1</td>\n    </tr>\n    <tr>\n      <th>title</th>\n      <td>0</td>\n    </tr>\n    <tr>\n      <th>job_id</th>\n      <td>0</td>\n    </tr>\n  </tbody>\n</table>\n</div>"
     },
     "metadata": {},
     "execution_count": 68
    }
   ],
   "source": [
    "df.select([count(when(isnan(c) | col(c).isNull(), c)).alias(c) for c in df.columns]).toPandas().T.sort_values(0, ascending=False)"
   ]
  },
  {
   "cell_type": "code",
   "execution_count": 69,
   "metadata": {},
   "outputs": [
    {
     "output_type": "stream",
     "name": "stdout",
     "text": [
      "+--------------------+--------------------+--------------------+----------------+-------------+-------------+----------+\n|               title|         description|        requirements|has_company_logo|has_questions|telecommuting|fraudulent|\n+--------------------+--------------------+--------------------+----------------+-------------+-------------+----------+\n|    Marketing Intern|Food52, a fast-gr...|Experience with c...|               1|            0|            0|         0|\n|Customer Service ...|Organised - Focus...|What we expect fr...|               1|            0|            0|         0|\n|Commissioning Mac...|Our client, locat...|Implement pre-com...|               1|            0|            0|         0|\n|Account Executive...|THE COMPANY: ESRI...|EDUCATION: Bachel...|               1|            0|            0|         0|\n| Bill Review Manager|JOB TITLE: Itemiz...|QUALIFICATIONS:RN...|               1|            1|            0|         0|\n+--------------------+--------------------+--------------------+----------------+-------------+-------------+----------+\nonly showing top 5 rows\n\n"
     ]
    }
   ],
   "source": [
    "cleaned_df = df.select(\n",
    "    'title',\n",
    "    'description',\n",
    "    'requirements',\n",
    "    'has_company_logo',\n",
    "    'has_questions',\n",
    "    'telecommuting',\n",
    "    'fraudulent'\n",
    "    ).dropna()\n",
    "\n",
    "cleaned_df.show(5)"
   ]
  },
  {
   "cell_type": "code",
   "execution_count": 70,
   "metadata": {},
   "outputs": [
    {
     "output_type": "stream",
     "name": "stdout",
     "text": [
      "+-----------------+-----+\n|       fraudulent|count|\n+-----------------+-----+\n|                0|13659|\n|                1|  736|\n|        Full-time|   73|\n|Bachelor's Degree|   50|\n|      Engineering|   20|\n+-----------------+-----+\nonly showing top 5 rows\n\n"
     ]
    }
   ],
   "source": [
    "cleaned_df.groupBy('fraudulent').count().orderBy(desc('count')).show(5)"
   ]
  },
  {
   "cell_type": "code",
   "execution_count": 71,
   "metadata": {},
   "outputs": [
    {
     "output_type": "stream",
     "name": "stdout",
     "text": [
      "+----------+-----+\n|fraudulent|count|\n+----------+-----+\n|         0|13591|\n|         1|  682|\n+----------+-----+\n\n"
     ]
    }
   ],
   "source": [
    "cleaned_df = cleaned_df.filter(\n",
    "    (df.fraudulent.isin([0,1]))\n",
    "    & (df.has_company_logo.isin([0,1]))\n",
    "    & (df.has_questions.isin([0,1]))\n",
    "    & (df.telecommuting.isin([0,1]))\n",
    "    )\n",
    "\n",
    "cleaned_df.groupBy('fraudulent').count().orderBy(desc('count')).show(5)"
   ]
  },
  {
   "cell_type": "code",
   "execution_count": 72,
   "metadata": {},
   "outputs": [],
   "source": [
    "cleaned_df = cleaned_df.withColumn('has_company_logo', cleaned_df.has_company_logo.cast(IntegerType())) \\\n",
    "    .withColumn('has_questions', cleaned_df.has_questions.cast(IntegerType())) \\\n",
    "    .withColumn('telecommuting', cleaned_df.telecommuting.cast(IntegerType())) \\\n",
    "    .withColumn('fraudulent', cleaned_df.fraudulent.cast(IntegerType()))"
   ]
  },
  {
   "cell_type": "code",
   "execution_count": 73,
   "metadata": {},
   "outputs": [
    {
     "output_type": "stream",
     "name": "stdout",
     "text": [
      "root\n |-- title: string (nullable = true)\n |-- description: string (nullable = true)\n |-- requirements: string (nullable = true)\n |-- has_company_logo: integer (nullable = true)\n |-- has_questions: integer (nullable = true)\n |-- telecommuting: integer (nullable = true)\n |-- fraudulent: integer (nullable = true)\n\n"
     ]
    }
   ],
   "source": [
    "cleaned_df.printSchema()"
   ]
  },
  {
   "source": [
    "cleaned_df.select([count(when(isnan(c) | col(c).isNull(), c)).alias(c) for c in cleaned_df.columns]).toPandas().T.sort_values(0, ascending=False)"
   ],
   "cell_type": "code",
   "metadata": {},
   "execution_count": 74,
   "outputs": [
    {
     "output_type": "execute_result",
     "data": {
      "text/plain": [
       "                  0\n",
       "title             0\n",
       "description       0\n",
       "requirements      0\n",
       "has_company_logo  0\n",
       "has_questions     0\n",
       "telecommuting     0\n",
       "fraudulent        0"
      ],
      "text/html": "<div>\n<style scoped>\n    .dataframe tbody tr th:only-of-type {\n        vertical-align: middle;\n    }\n\n    .dataframe tbody tr th {\n        vertical-align: top;\n    }\n\n    .dataframe thead th {\n        text-align: right;\n    }\n</style>\n<table border=\"1\" class=\"dataframe\">\n  <thead>\n    <tr style=\"text-align: right;\">\n      <th></th>\n      <th>0</th>\n    </tr>\n  </thead>\n  <tbody>\n    <tr>\n      <th>title</th>\n      <td>0</td>\n    </tr>\n    <tr>\n      <th>description</th>\n      <td>0</td>\n    </tr>\n    <tr>\n      <th>requirements</th>\n      <td>0</td>\n    </tr>\n    <tr>\n      <th>has_company_logo</th>\n      <td>0</td>\n    </tr>\n    <tr>\n      <th>has_questions</th>\n      <td>0</td>\n    </tr>\n    <tr>\n      <th>telecommuting</th>\n      <td>0</td>\n    </tr>\n    <tr>\n      <th>fraudulent</th>\n      <td>0</td>\n    </tr>\n  </tbody>\n</table>\n</div>"
     },
     "metadata": {},
     "execution_count": 74
    }
   ]
  },
  {
   "source": [
    "cleaned_df = cleaned_df.withColumn('text',concat_ws(' ','title','description','requirements'))"
   ],
   "cell_type": "code",
   "metadata": {},
   "execution_count": 75,
   "outputs": []
  },
  {
   "cell_type": "code",
   "execution_count": 76,
   "metadata": {},
   "outputs": [],
   "source": [
    "# NLP tools\n",
    "tokenizer = Tokenizer(inputCol='text', outputCol='token_text')\n",
    "stop_rm = StopWordsRemover(inputCol='token_text', outputCol='stop_token')\n",
    "count_vect = CountVectorizer(inputCol='stop_token', outputCol=('c_vec'), vocabSize=20000)\n",
    "idf = IDF(inputCol='c_vec', outputCol='tf_idf')\n",
    "\n",
    "# Vector assembler\n",
    "featured_data = VectorAssembler(inputCols=[\n",
    "    'tf_idf',\n",
    "    'has_company_logo',\n",
    "    'has_questions',\n",
    "    'telecommuting',\n",
    "    ], outputCol='features')\n",
    "\n",
    "# Pre-process data\n",
    "pre_processor = Pipeline(stages=[tokenizer, stop_rm, count_vect, idf, featured_data])\n",
    "\n",
    "cleaner = pre_processor.fit(cleaned_df)\n",
    "cleaned_df = cleaner.transform(cleaned_df)"
   ]
  },
  {
   "cell_type": "code",
   "execution_count": 77,
   "metadata": {},
   "outputs": [
    {
     "output_type": "stream",
     "name": "stdout",
     "text": [
      "root\n |-- features: vector (nullable = true)\n |-- fraudulent: integer (nullable = true)\n\n"
     ]
    }
   ],
   "source": [
    "df_for_ml = cleaned_df.select('features','fraudulent')\n",
    "df_for_ml.printSchema()"
   ]
  },
  {
   "cell_type": "code",
   "execution_count": 78,
   "metadata": {},
   "outputs": [
    {
     "output_type": "stream",
     "name": "stdout",
     "text": [
      "+--------------------+----------+\n|            features|fraudulent|\n+--------------------+----------+\n|(20003,[0,1,2,6,9...|         0|\n|(20003,[0,1,2,3,4...|         0|\n|(20003,[1,8,22,28...|         0|\n|(20003,[0,1,2,3,4...|         0|\n|(20003,[0,1,2,3,6...|         0|\n+--------------------+----------+\nonly showing top 5 rows\n\n"
     ]
    }
   ],
   "source": [
    "df_for_ml.show(5)"
   ]
  },
  {
   "cell_type": "code",
   "execution_count": 79,
   "metadata": {},
   "outputs": [
    {
     "output_type": "stream",
     "name": "stdout",
     "text": [
      "+--------------------+----------+--------------------+--------------------+----------+\n",
      "|            features|fraudulent|       rawPrediction|         probability|prediction|\n",
      "+--------------------+----------+--------------------+--------------------+----------+\n",
      "|(20003,[0,1,2,3,4...|         0|[-6212.6779657376...|[1.0,1.0110119636...|       0.0|\n",
      "|(20003,[0,1,2,3,4...|         0|[-10995.457086747...|[1.0,5.7780640703...|       0.0|\n",
      "|(20003,[0,1,2,3,4...|         0|[-3492.7624269515...|[1.0,3.0333622710...|       0.0|\n",
      "|(20003,[0,1,2,3,4...|         1|[-6491.3744842387...|[1.0,5.2431242827...|       0.0|\n",
      "|(20003,[0,1,2,3,4...|         0|[-11706.139477914...|           [1.0,0.0]|       0.0|\n",
      "+--------------------+----------+--------------------+--------------------+----------+\n",
      "only showing top 5 rows\n",
      "\n",
      "None\n",
      "              precision    recall  f1-score   support\n",
      "\n",
      "         0.0       0.97      0.99      0.98      3997\n",
      "         1.0       0.80      0.56      0.65       293\n",
      "\n",
      "    accuracy                           0.96      4290\n",
      "   macro avg       0.88      0.77      0.82      4290\n",
      "weighted avg       0.96      0.96      0.96      4290\n",
      "\n"
     ]
    }
   ],
   "source": [
    "train, test = df_for_ml.randomSplit([0.7,0.3])\n",
    "\n",
    "# Evaluator precises the target column and the kind of metrics to use \n",
    "evaluator = MulticlassClassificationEvaluator(labelCol='fraudulent', metricName='f1')\n",
    "\n",
    "# Define transformtions stages to throw in the pipeline\n",
    "nb = NaiveBayes(featuresCol='features', labelCol='fraudulent')\n",
    "\n",
    "# Definition of pipeline\n",
    "pipeline_nb = Pipeline(stages=[nb])\n",
    "\n",
    "# Definition of the grid parameters\n",
    "paramGrid = ParamGridBuilder().\\\n",
    "            addGrid(nb.modelType, [\"multinomial\"]).\\\n",
    "            build()\n",
    "\n",
    "# Definition of the cross validator\n",
    "cv = CrossValidator(\n",
    "  estimator=pipeline_nb,\n",
    "  estimatorParamMaps=paramGrid, \n",
    "  evaluator=evaluator, \n",
    "  numFolds=3)\n",
    "\n",
    "# Train the model\n",
    "model = cv.fit(train)\n",
    "\n",
    "# Predict classes on test part\n",
    "predictions = model.transform(test)\n",
    "print(predictions.show(5))\n",
    "\n",
    "predictions_pd = predictions.toPandas()\n",
    "print(classification_report(predictions_pd.prediction, predictions_pd.fraudulent))"
   ]
  },
  {
   "cell_type": "code",
   "execution_count": 80,
   "metadata": {},
   "outputs": [
    {
     "output_type": "stream",
     "name": "stdout",
     "text": [
      "Prediction of genuine offers:\n",
      "+----------+----------+------------------+\n",
      "|fraudulent|prediction|prediction_results|\n",
      "+----------+----------+------------------+\n",
      "|         0|       0.0|              true|\n",
      "|         0|       0.0|              true|\n",
      "|         0|       0.0|              true|\n",
      "|         0|       0.0|              true|\n",
      "|         0|       0.0|              true|\n",
      "|         0|       0.0|              true|\n",
      "|         0|       0.0|              true|\n",
      "|         0|       0.0|              true|\n",
      "|         0|       0.0|              true|\n",
      "|         0|       0.0|              true|\n",
      "+----------+----------+------------------+\n",
      "only showing top 10 rows\n",
      "\n",
      "None\n",
      "\n",
      "Prediction of fraudulent offers:\n",
      "+----------+----------+------------------+\n",
      "|fraudulent|prediction|prediction_results|\n",
      "+----------+----------+------------------+\n",
      "|         1|       1.0|              true|\n",
      "|         1|       1.0|              true|\n",
      "|         1|       1.0|              true|\n",
      "|         1|       1.0|              true|\n",
      "|         1|       1.0|              true|\n",
      "|         1|       1.0|              true|\n",
      "|         1|       1.0|              true|\n",
      "|         1|       0.0|             false|\n",
      "|         1|       1.0|              true|\n",
      "|         1|       1.0|              true|\n",
      "+----------+----------+------------------+\n",
      "only showing top 10 rows\n",
      "\n",
      "None\n"
     ]
    }
   ],
   "source": [
    "result_test = predictions.withColumn('prediction_results', predictions.fraudulent - predictions.prediction)\n",
    "res = udf(lambda x: True if x==0 else False)\n",
    "result_test = result_test.withColumn('prediction_results', res(result_test.prediction_results))\n",
    "\n",
    "print('Prediction of genuine offers:')\n",
    "print(result_test.select('fraudulent','prediction','prediction_results').orderBy(rand()).filter('fraudulent == 0').show(10))\n",
    "print('\\nPrediction of fraudulent offers:')\n",
    "print(result_test.select('fraudulent','prediction','prediction_results').orderBy(rand()).filter('fraudulent == 1').show(10))"
   ]
  },
  {
   "cell_type": "code",
   "execution_count": null,
   "metadata": {},
   "outputs": [],
   "source": []
  }
 ],
 "metadata": {
  "kernelspec": {
   "display_name": "Python 3",
   "language": "python",
   "name": "python3"
  },
  "language_info": {
   "codemirror_mode": {
    "name": "ipython",
    "version": 3
   },
   "file_extension": ".py",
   "mimetype": "text/x-python",
   "name": "python",
   "nbconvert_exporter": "python",
   "pygments_lexer": "ipython3",
   "version": "3.7.6-final"
  }
 },
 "nbformat": 4,
 "nbformat_minor": 2
}