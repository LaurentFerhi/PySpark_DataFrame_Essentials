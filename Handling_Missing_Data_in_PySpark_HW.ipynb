{
 "cells": [
  {
   "cell_type": "markdown",
   "metadata": {},
   "source": [
    "# Handling Missing Data in PySpark HW Solutions\n",
    "\n",
    "In this HW assignment you will be strengthening your skill sets dealing with missing data.\n",
    " \n",
    "**Review:** you have 2 basic options for filling in missing data (you will personally have to make the decision for what is the right approach:\n",
    "\n",
    "1. Drop the missing data points (including the entire row)\n",
    "2. Fill them in with some other value.\n",
    "\n",
    "Let's practice some examples of each of these methods!\n",
    "\n",
    "\n",
    "#### But first!\n",
    "\n",
    "Start your Spark session"
   ]
  },
  {
   "cell_type": "code",
   "execution_count": 3,
   "metadata": {},
   "outputs": [],
   "source": [
    "import findspark\n",
    "findspark.init()\n",
    "\n",
    "from pyspark.sql import SparkSession\n",
    "spark = SparkSession.builder.appName('HW').getOrCreate()"
   ]
  },
  {
   "cell_type": "code",
   "execution_count": 4,
   "metadata": {},
   "outputs": [],
   "source": [
    "from pyspark.sql.functions import *\n",
    "from pyspark.sql.types import *"
   ]
  },
  {
   "cell_type": "markdown",
   "metadata": {},
   "source": [
    "## Read in the dataset for this Notebook\n",
    "\n",
    "Weather.csv attached to this lecture. "
   ]
  },
  {
   "cell_type": "code",
   "execution_count": 12,
   "metadata": {},
   "outputs": [],
   "source": [
    "df = spark.read.csv('Datasets/Weather.csv', inferSchema=True, header=True)"
   ]
  },
  {
   "cell_type": "markdown",
   "metadata": {},
   "source": [
    "## About this dataset\n",
    "\n",
    "**New York City Taxi Trip - Hourly Weather Data**\n",
    "\n",
    "Here is some detailed weather data for the New York City Taxi Trips.\n",
    "\n",
    "**Source:** https://www.kaggle.com/meinertsen/new-york-city-taxi-trip-hourly-weather-data"
   ]
  },
  {
   "cell_type": "markdown",
   "metadata": {},
   "source": [
    "### Print a view of the first several lines of the dataframe to see what our data looks like"
   ]
  },
  {
   "cell_type": "code",
   "execution_count": 13,
   "metadata": {},
   "outputs": [
    {
     "output_type": "execute_result",
     "data": {
      "text/plain": [
       "       pickup_datetime  tempm  tempi  dewptm  dewpti   hum  wspdm  wspdi  \\\n",
       "0  2015-12-31 00:15:00    7.8   46.0     6.1    43.0  89.0    7.4    4.6   \n",
       "1  2015-12-31 00:42:00    7.8   46.0     6.1    43.0  89.0    7.4    4.6   \n",
       "2  2015-12-31 00:51:00    7.8   46.0     6.1    43.0  89.0    5.6    3.5   \n",
       "3  2015-12-31 01:51:00    7.2   45.0     5.6    42.1  90.0    7.4    4.6   \n",
       "4  2015-12-31 02:51:00    7.2   45.0     5.6    42.1  90.0    0.0    0.0   \n",
       "\n",
       "   wgustm  wgusti  ...  precipm precipi       conds    icon  fog  rain  snow  \\\n",
       "0     NaN     NaN  ...      0.5    0.02  Light Rain    rain    0     1     0   \n",
       "1     NaN     NaN  ...      0.8    0.03    Overcast  cloudy    0     0     0   \n",
       "2     NaN     NaN  ...      0.8    0.03    Overcast  cloudy    0     0     0   \n",
       "3     NaN     NaN  ...      0.3    0.01    Overcast  cloudy    0     0     0   \n",
       "4     NaN     NaN  ...      NaN     NaN    Overcast  cloudy    0     0     0   \n",
       "\n",
       "   hail  thunder  tornado  \n",
       "0     0        0        0  \n",
       "1     0        0        0  \n",
       "2     0        0        0  \n",
       "3     0        0        0  \n",
       "4     0        0        0  \n",
       "\n",
       "[5 rows x 30 columns]"
      ],
      "text/html": "<div>\n<style scoped>\n    .dataframe tbody tr th:only-of-type {\n        vertical-align: middle;\n    }\n\n    .dataframe tbody tr th {\n        vertical-align: top;\n    }\n\n    .dataframe thead th {\n        text-align: right;\n    }\n</style>\n<table border=\"1\" class=\"dataframe\">\n  <thead>\n    <tr style=\"text-align: right;\">\n      <th></th>\n      <th>pickup_datetime</th>\n      <th>tempm</th>\n      <th>tempi</th>\n      <th>dewptm</th>\n      <th>dewpti</th>\n      <th>hum</th>\n      <th>wspdm</th>\n      <th>wspdi</th>\n      <th>wgustm</th>\n      <th>wgusti</th>\n      <th>...</th>\n      <th>precipm</th>\n      <th>precipi</th>\n      <th>conds</th>\n      <th>icon</th>\n      <th>fog</th>\n      <th>rain</th>\n      <th>snow</th>\n      <th>hail</th>\n      <th>thunder</th>\n      <th>tornado</th>\n    </tr>\n  </thead>\n  <tbody>\n    <tr>\n      <th>0</th>\n      <td>2015-12-31 00:15:00</td>\n      <td>7.8</td>\n      <td>46.0</td>\n      <td>6.1</td>\n      <td>43.0</td>\n      <td>89.0</td>\n      <td>7.4</td>\n      <td>4.6</td>\n      <td>NaN</td>\n      <td>NaN</td>\n      <td>...</td>\n      <td>0.5</td>\n      <td>0.02</td>\n      <td>Light Rain</td>\n      <td>rain</td>\n      <td>0</td>\n      <td>1</td>\n      <td>0</td>\n      <td>0</td>\n      <td>0</td>\n      <td>0</td>\n    </tr>\n    <tr>\n      <th>1</th>\n      <td>2015-12-31 00:42:00</td>\n      <td>7.8</td>\n      <td>46.0</td>\n      <td>6.1</td>\n      <td>43.0</td>\n      <td>89.0</td>\n      <td>7.4</td>\n      <td>4.6</td>\n      <td>NaN</td>\n      <td>NaN</td>\n      <td>...</td>\n      <td>0.8</td>\n      <td>0.03</td>\n      <td>Overcast</td>\n      <td>cloudy</td>\n      <td>0</td>\n      <td>0</td>\n      <td>0</td>\n      <td>0</td>\n      <td>0</td>\n      <td>0</td>\n    </tr>\n    <tr>\n      <th>2</th>\n      <td>2015-12-31 00:51:00</td>\n      <td>7.8</td>\n      <td>46.0</td>\n      <td>6.1</td>\n      <td>43.0</td>\n      <td>89.0</td>\n      <td>5.6</td>\n      <td>3.5</td>\n      <td>NaN</td>\n      <td>NaN</td>\n      <td>...</td>\n      <td>0.8</td>\n      <td>0.03</td>\n      <td>Overcast</td>\n      <td>cloudy</td>\n      <td>0</td>\n      <td>0</td>\n      <td>0</td>\n      <td>0</td>\n      <td>0</td>\n      <td>0</td>\n    </tr>\n    <tr>\n      <th>3</th>\n      <td>2015-12-31 01:51:00</td>\n      <td>7.2</td>\n      <td>45.0</td>\n      <td>5.6</td>\n      <td>42.1</td>\n      <td>90.0</td>\n      <td>7.4</td>\n      <td>4.6</td>\n      <td>NaN</td>\n      <td>NaN</td>\n      <td>...</td>\n      <td>0.3</td>\n      <td>0.01</td>\n      <td>Overcast</td>\n      <td>cloudy</td>\n      <td>0</td>\n      <td>0</td>\n      <td>0</td>\n      <td>0</td>\n      <td>0</td>\n      <td>0</td>\n    </tr>\n    <tr>\n      <th>4</th>\n      <td>2015-12-31 02:51:00</td>\n      <td>7.2</td>\n      <td>45.0</td>\n      <td>5.6</td>\n      <td>42.1</td>\n      <td>90.0</td>\n      <td>0.0</td>\n      <td>0.0</td>\n      <td>NaN</td>\n      <td>NaN</td>\n      <td>...</td>\n      <td>NaN</td>\n      <td>NaN</td>\n      <td>Overcast</td>\n      <td>cloudy</td>\n      <td>0</td>\n      <td>0</td>\n      <td>0</td>\n      <td>0</td>\n      <td>0</td>\n      <td>0</td>\n    </tr>\n  </tbody>\n</table>\n<p>5 rows × 30 columns</p>\n</div>"
     },
     "metadata": {},
     "execution_count": 13
    }
   ],
   "source": [
    "df.limit(5).toPandas()"
   ]
  },
  {
   "cell_type": "markdown",
   "metadata": {},
   "source": [
    "### Print the schema \n",
    "\n",
    "So that we can see if we need to make any corrections to the data types."
   ]
  },
  {
   "cell_type": "code",
   "execution_count": 14,
   "metadata": {},
   "outputs": [
    {
     "output_type": "stream",
     "name": "stdout",
     "text": [
      "root\n |-- pickup_datetime: string (nullable = true)\n |-- tempm: double (nullable = true)\n |-- tempi: double (nullable = true)\n |-- dewptm: double (nullable = true)\n |-- dewpti: double (nullable = true)\n |-- hum: double (nullable = true)\n |-- wspdm: double (nullable = true)\n |-- wspdi: double (nullable = true)\n |-- wgustm: double (nullable = true)\n |-- wgusti: double (nullable = true)\n |-- wdird: integer (nullable = true)\n |-- wdire: string (nullable = true)\n |-- vism: double (nullable = true)\n |-- visi: double (nullable = true)\n |-- pressurem: double (nullable = true)\n |-- pressurei: double (nullable = true)\n |-- windchillm: double (nullable = true)\n |-- windchilli: double (nullable = true)\n |-- heatindexm: double (nullable = true)\n |-- heatindexi: double (nullable = true)\n |-- precipm: double (nullable = true)\n |-- precipi: double (nullable = true)\n |-- conds: string (nullable = true)\n |-- icon: string (nullable = true)\n |-- fog: integer (nullable = true)\n |-- rain: integer (nullable = true)\n |-- snow: integer (nullable = true)\n |-- hail: integer (nullable = true)\n |-- thunder: integer (nullable = true)\n |-- tornado: integer (nullable = true)\n\n"
     ]
    }
   ],
   "source": [
    "df.printSchema()"
   ]
  },
  {
   "cell_type": "markdown",
   "metadata": {},
   "source": [
    "## 1. How much missing data are we working with?\n",
    "\n",
    "Get a count and percentage of each variable in the dataset to answer this question."
   ]
  },
  {
   "cell_type": "code",
   "execution_count": 57,
   "metadata": {},
   "outputs": [],
   "source": [
    "def null_value_calc(df):\n",
    "    null_columns_counts = []\n",
    "    numRows = df.count()\n",
    "    for k in df.columns:\n",
    "        nullRows = df.where(col(k).isNull()).count()\n",
    "        if(nullRows > 0):\n",
    "            temp = k,nullRows,(nullRows/numRows)*100\n",
    "            null_columns_counts.append(temp)\n",
    "    null_columns_calc_list = (null_columns_counts)\n",
    "    return spark.createDataFrame(null_columns_calc_list, ['Column_Name', 'Null_Values_Count','Null_Value_Percent']).toPandas()"
   ]
  },
  {
   "cell_type": "code",
   "execution_count": 58,
   "metadata": {},
   "outputs": [
    {
     "output_type": "execute_result",
     "data": {
      "text/plain": [
       "   Column_Name  Null_Values_Count  Null_Value_Percent\n",
       "0        tempm                  5            0.047705\n",
       "1        tempi                  5            0.047705\n",
       "2       dewptm                  5            0.047705\n",
       "3       dewpti                  5            0.047705\n",
       "4          hum                  5            0.047705\n",
       "5        wspdm                737            7.031772\n",
       "6        wspdi                737            7.031772\n",
       "7       wgustm               8605           82.100945\n",
       "8       wgusti               8605           82.100945\n",
       "9         vism                245            2.337563\n",
       "10        visi                245            2.337563\n",
       "11   pressurem                239            2.280317\n",
       "12   pressurei                239            2.280317\n",
       "13  windchillm               7775           74.181853\n",
       "14  windchilli               7775           74.181853\n",
       "15  heatindexm               9644           92.014121\n",
       "16  heatindexi               9644           92.014121\n",
       "17     precipm               8775           83.722927\n",
       "18     precipi               8775           83.722927"
      ],
      "text/html": "<div>\n<style scoped>\n    .dataframe tbody tr th:only-of-type {\n        vertical-align: middle;\n    }\n\n    .dataframe tbody tr th {\n        vertical-align: top;\n    }\n\n    .dataframe thead th {\n        text-align: right;\n    }\n</style>\n<table border=\"1\" class=\"dataframe\">\n  <thead>\n    <tr style=\"text-align: right;\">\n      <th></th>\n      <th>Column_Name</th>\n      <th>Null_Values_Count</th>\n      <th>Null_Value_Percent</th>\n    </tr>\n  </thead>\n  <tbody>\n    <tr>\n      <th>0</th>\n      <td>tempm</td>\n      <td>5</td>\n      <td>0.047705</td>\n    </tr>\n    <tr>\n      <th>1</th>\n      <td>tempi</td>\n      <td>5</td>\n      <td>0.047705</td>\n    </tr>\n    <tr>\n      <th>2</th>\n      <td>dewptm</td>\n      <td>5</td>\n      <td>0.047705</td>\n    </tr>\n    <tr>\n      <th>3</th>\n      <td>dewpti</td>\n      <td>5</td>\n      <td>0.047705</td>\n    </tr>\n    <tr>\n      <th>4</th>\n      <td>hum</td>\n      <td>5</td>\n      <td>0.047705</td>\n    </tr>\n    <tr>\n      <th>5</th>\n      <td>wspdm</td>\n      <td>737</td>\n      <td>7.031772</td>\n    </tr>\n    <tr>\n      <th>6</th>\n      <td>wspdi</td>\n      <td>737</td>\n      <td>7.031772</td>\n    </tr>\n    <tr>\n      <th>7</th>\n      <td>wgustm</td>\n      <td>8605</td>\n      <td>82.100945</td>\n    </tr>\n    <tr>\n      <th>8</th>\n      <td>wgusti</td>\n      <td>8605</td>\n      <td>82.100945</td>\n    </tr>\n    <tr>\n      <th>9</th>\n      <td>vism</td>\n      <td>245</td>\n      <td>2.337563</td>\n    </tr>\n    <tr>\n      <th>10</th>\n      <td>visi</td>\n      <td>245</td>\n      <td>2.337563</td>\n    </tr>\n    <tr>\n      <th>11</th>\n      <td>pressurem</td>\n      <td>239</td>\n      <td>2.280317</td>\n    </tr>\n    <tr>\n      <th>12</th>\n      <td>pressurei</td>\n      <td>239</td>\n      <td>2.280317</td>\n    </tr>\n    <tr>\n      <th>13</th>\n      <td>windchillm</td>\n      <td>7775</td>\n      <td>74.181853</td>\n    </tr>\n    <tr>\n      <th>14</th>\n      <td>windchilli</td>\n      <td>7775</td>\n      <td>74.181853</td>\n    </tr>\n    <tr>\n      <th>15</th>\n      <td>heatindexm</td>\n      <td>9644</td>\n      <td>92.014121</td>\n    </tr>\n    <tr>\n      <th>16</th>\n      <td>heatindexi</td>\n      <td>9644</td>\n      <td>92.014121</td>\n    </tr>\n    <tr>\n      <th>17</th>\n      <td>precipm</td>\n      <td>8775</td>\n      <td>83.722927</td>\n    </tr>\n    <tr>\n      <th>18</th>\n      <td>precipi</td>\n      <td>8775</td>\n      <td>83.722927</td>\n    </tr>\n  </tbody>\n</table>\n</div>"
     },
     "metadata": {},
     "execution_count": 58
    }
   ],
   "source": [
    "null_value_calc(df)"
   ]
  },
  {
   "cell_type": "code",
   "execution_count": 61,
   "metadata": {},
   "outputs": [
    {
     "output_type": "execute_result",
     "data": {
      "text/plain": [
       "                    0\n",
       "pickup_datetime     0\n",
       "tempm               5\n",
       "tempi               5\n",
       "dewptm              5\n",
       "dewpti              5\n",
       "hum                 5\n",
       "wspdm             737\n",
       "wspdi             737\n",
       "wgustm           8605\n",
       "wgusti           8605\n",
       "wdird               0\n",
       "wdire               0\n",
       "vism              245\n",
       "visi              245\n",
       "pressurem         239\n",
       "pressurei         239\n",
       "windchillm       7775\n",
       "windchilli       7775\n",
       "heatindexm       9644\n",
       "heatindexi       9644\n",
       "precipm          8775\n",
       "precipi          8775\n",
       "conds               0\n",
       "icon                0\n",
       "fog                 0\n",
       "rain                0\n",
       "snow                0\n",
       "hail                0\n",
       "thunder             0\n",
       "tornado             0"
      ],
      "text/html": "<div>\n<style scoped>\n    .dataframe tbody tr th:only-of-type {\n        vertical-align: middle;\n    }\n\n    .dataframe tbody tr th {\n        vertical-align: top;\n    }\n\n    .dataframe thead th {\n        text-align: right;\n    }\n</style>\n<table border=\"1\" class=\"dataframe\">\n  <thead>\n    <tr style=\"text-align: right;\">\n      <th></th>\n      <th>0</th>\n    </tr>\n  </thead>\n  <tbody>\n    <tr>\n      <th>pickup_datetime</th>\n      <td>0</td>\n    </tr>\n    <tr>\n      <th>tempm</th>\n      <td>5</td>\n    </tr>\n    <tr>\n      <th>tempi</th>\n      <td>5</td>\n    </tr>\n    <tr>\n      <th>dewptm</th>\n      <td>5</td>\n    </tr>\n    <tr>\n      <th>dewpti</th>\n      <td>5</td>\n    </tr>\n    <tr>\n      <th>hum</th>\n      <td>5</td>\n    </tr>\n    <tr>\n      <th>wspdm</th>\n      <td>737</td>\n    </tr>\n    <tr>\n      <th>wspdi</th>\n      <td>737</td>\n    </tr>\n    <tr>\n      <th>wgustm</th>\n      <td>8605</td>\n    </tr>\n    <tr>\n      <th>wgusti</th>\n      <td>8605</td>\n    </tr>\n    <tr>\n      <th>wdird</th>\n      <td>0</td>\n    </tr>\n    <tr>\n      <th>wdire</th>\n      <td>0</td>\n    </tr>\n    <tr>\n      <th>vism</th>\n      <td>245</td>\n    </tr>\n    <tr>\n      <th>visi</th>\n      <td>245</td>\n    </tr>\n    <tr>\n      <th>pressurem</th>\n      <td>239</td>\n    </tr>\n    <tr>\n      <th>pressurei</th>\n      <td>239</td>\n    </tr>\n    <tr>\n      <th>windchillm</th>\n      <td>7775</td>\n    </tr>\n    <tr>\n      <th>windchilli</th>\n      <td>7775</td>\n    </tr>\n    <tr>\n      <th>heatindexm</th>\n      <td>9644</td>\n    </tr>\n    <tr>\n      <th>heatindexi</th>\n      <td>9644</td>\n    </tr>\n    <tr>\n      <th>precipm</th>\n      <td>8775</td>\n    </tr>\n    <tr>\n      <th>precipi</th>\n      <td>8775</td>\n    </tr>\n    <tr>\n      <th>conds</th>\n      <td>0</td>\n    </tr>\n    <tr>\n      <th>icon</th>\n      <td>0</td>\n    </tr>\n    <tr>\n      <th>fog</th>\n      <td>0</td>\n    </tr>\n    <tr>\n      <th>rain</th>\n      <td>0</td>\n    </tr>\n    <tr>\n      <th>snow</th>\n      <td>0</td>\n    </tr>\n    <tr>\n      <th>hail</th>\n      <td>0</td>\n    </tr>\n    <tr>\n      <th>thunder</th>\n      <td>0</td>\n    </tr>\n    <tr>\n      <th>tornado</th>\n      <td>0</td>\n    </tr>\n  </tbody>\n</table>\n</div>"
     },
     "metadata": {},
     "execution_count": 61
    }
   ],
   "source": [
    "# Other way\n",
    "df.select([count(when(isnan(c) | col(c).isNull(), c)).alias(c) for c in df.columns]).toPandas().T"
   ]
  },
  {
   "cell_type": "markdown",
   "metadata": {},
   "source": [
    "## 2. How many rows contain at least one null value?\n",
    "\n",
    "We want to know, if we use the df.na option, how many rows will we loose. "
   ]
  },
  {
   "cell_type": "code",
   "execution_count": 38,
   "metadata": {},
   "outputs": [
    {
     "output_type": "stream",
     "name": "stdout",
     "text": [
      "Total remaining rows: 0\n"
     ]
    }
   ],
   "source": [
    "print('Total remaining rows: {}'.format(df.na.drop().count()))"
   ]
  },
  {
   "cell_type": "markdown",
   "metadata": {},
   "source": [
    "## 3. Drop the missing data\n",
    "\n",
    "Drop any row that contains missing data across the whole dataset"
   ]
  },
  {
   "cell_type": "code",
   "execution_count": 40,
   "metadata": {},
   "outputs": [
    {
     "output_type": "execute_result",
     "data": {
      "text/plain": [
       "Empty DataFrame\n",
       "Columns: [pickup_datetime, tempm, tempi, dewptm, dewpti, hum, wspdm, wspdi, wgustm, wgusti, wdird, wdire, vism, visi, pressurem, pressurei, windchillm, windchilli, heatindexm, heatindexi, precipm, precipi, conds, icon, fog, rain, snow, hail, thunder, tornado]\n",
       "Index: []\n",
       "\n",
       "[0 rows x 30 columns]"
      ],
      "text/html": "<div>\n<style scoped>\n    .dataframe tbody tr th:only-of-type {\n        vertical-align: middle;\n    }\n\n    .dataframe tbody tr th {\n        vertical-align: top;\n    }\n\n    .dataframe thead th {\n        text-align: right;\n    }\n</style>\n<table border=\"1\" class=\"dataframe\">\n  <thead>\n    <tr style=\"text-align: right;\">\n      <th></th>\n      <th>pickup_datetime</th>\n      <th>tempm</th>\n      <th>tempi</th>\n      <th>dewptm</th>\n      <th>dewpti</th>\n      <th>hum</th>\n      <th>wspdm</th>\n      <th>wspdi</th>\n      <th>wgustm</th>\n      <th>wgusti</th>\n      <th>...</th>\n      <th>precipm</th>\n      <th>precipi</th>\n      <th>conds</th>\n      <th>icon</th>\n      <th>fog</th>\n      <th>rain</th>\n      <th>snow</th>\n      <th>hail</th>\n      <th>thunder</th>\n      <th>tornado</th>\n    </tr>\n  </thead>\n  <tbody>\n  </tbody>\n</table>\n<p>0 rows × 30 columns</p>\n</div>"
     },
     "metadata": {},
     "execution_count": 40
    }
   ],
   "source": [
    "df.na.drop().toPandas()"
   ]
  },
  {
   "cell_type": "markdown",
   "metadata": {},
   "source": [
    "## 4. Drop with a threshold\n",
    "\n",
    "Count how many rows would be dropped if we only dropped rows that had a least 12 NON-Null values"
   ]
  },
  {
   "cell_type": "code",
   "execution_count": 46,
   "metadata": {},
   "outputs": [
    {
     "output_type": "stream",
     "name": "stdout",
     "text": [
      "Dropped rows: 5\n"
     ]
    }
   ],
   "source": [
    "print('Dropped rows: {}'.format(df.count() - df.na.drop(thresh=12).count()))"
   ]
  },
  {
   "cell_type": "markdown",
   "metadata": {},
   "source": [
    "## 5. Drop rows according to specific column value\n",
    "\n",
    "Now count how many rows would be dropped if you only drop rows whose values in the tempm column are null/NaN"
   ]
  },
  {
   "cell_type": "code",
   "execution_count": 47,
   "metadata": {},
   "outputs": [
    {
     "output_type": "stream",
     "name": "stdout",
     "text": [
      "Dropped rows: 5\n"
     ]
    }
   ],
   "source": [
    "print('Dropped rows: {}'.format(df.count() - df.na.drop(subset=['tempm']).count()))"
   ]
  },
  {
   "cell_type": "markdown",
   "metadata": {},
   "source": [
    "## 6. Drop rows that are null accross all columns\n",
    "\n",
    "Count how many rows would be dropped if you only dropped rows where ALL the values are null"
   ]
  },
  {
   "cell_type": "code",
   "execution_count": 48,
   "metadata": {},
   "outputs": [
    {
     "output_type": "stream",
     "name": "stdout",
     "text": [
      "Dropped rows: 0\n"
     ]
    }
   ],
   "source": [
    "print('Dropped rows: {}'.format(df.count() - df.na.drop(how='all').count()))"
   ]
  },
  {
   "cell_type": "markdown",
   "metadata": {},
   "source": [
    "## 7. Fill in all the string columns missing values with the word \"N/A\"\n",
    "\n",
    "Make sure you don't edit the df dataframe itself. Create a copy of the df then edit that one."
   ]
  },
  {
   "cell_type": "code",
   "execution_count": 64,
   "metadata": {},
   "outputs": [
    {
     "output_type": "execute_result",
     "data": {
      "text/plain": [
       "       pickup_datetime  tempm  tempi  dewptm  dewpti   hum  wspdm  wspdi  \\\n",
       "0  2015-12-31 00:15:00    7.8   46.0     6.1    43.0  89.0    7.4    4.6   \n",
       "1  2015-12-31 00:42:00    7.8   46.0     6.1    43.0  89.0    7.4    4.6   \n",
       "2  2015-12-31 00:51:00    7.8   46.0     6.1    43.0  89.0    5.6    3.5   \n",
       "3  2015-12-31 01:51:00    7.2   45.0     5.6    42.1  90.0    7.4    4.6   \n",
       "4  2015-12-31 02:51:00    7.2   45.0     5.6    42.1  90.0    0.0    0.0   \n",
       "\n",
       "   wgustm  wgusti  ...  precipm precipi       conds    icon  fog  rain  snow  \\\n",
       "0     NaN     NaN  ...      0.5    0.02  Light Rain    rain    0     1     0   \n",
       "1     NaN     NaN  ...      0.8    0.03    Overcast  cloudy    0     0     0   \n",
       "2     NaN     NaN  ...      0.8    0.03    Overcast  cloudy    0     0     0   \n",
       "3     NaN     NaN  ...      0.3    0.01    Overcast  cloudy    0     0     0   \n",
       "4     NaN     NaN  ...      NaN     NaN    Overcast  cloudy    0     0     0   \n",
       "\n",
       "   hail  thunder  tornado  \n",
       "0     0        0        0  \n",
       "1     0        0        0  \n",
       "2     0        0        0  \n",
       "3     0        0        0  \n",
       "4     0        0        0  \n",
       "\n",
       "[5 rows x 30 columns]"
      ],
      "text/html": "<div>\n<style scoped>\n    .dataframe tbody tr th:only-of-type {\n        vertical-align: middle;\n    }\n\n    .dataframe tbody tr th {\n        vertical-align: top;\n    }\n\n    .dataframe thead th {\n        text-align: right;\n    }\n</style>\n<table border=\"1\" class=\"dataframe\">\n  <thead>\n    <tr style=\"text-align: right;\">\n      <th></th>\n      <th>pickup_datetime</th>\n      <th>tempm</th>\n      <th>tempi</th>\n      <th>dewptm</th>\n      <th>dewpti</th>\n      <th>hum</th>\n      <th>wspdm</th>\n      <th>wspdi</th>\n      <th>wgustm</th>\n      <th>wgusti</th>\n      <th>...</th>\n      <th>precipm</th>\n      <th>precipi</th>\n      <th>conds</th>\n      <th>icon</th>\n      <th>fog</th>\n      <th>rain</th>\n      <th>snow</th>\n      <th>hail</th>\n      <th>thunder</th>\n      <th>tornado</th>\n    </tr>\n  </thead>\n  <tbody>\n    <tr>\n      <th>0</th>\n      <td>2015-12-31 00:15:00</td>\n      <td>7.8</td>\n      <td>46.0</td>\n      <td>6.1</td>\n      <td>43.0</td>\n      <td>89.0</td>\n      <td>7.4</td>\n      <td>4.6</td>\n      <td>NaN</td>\n      <td>NaN</td>\n      <td>...</td>\n      <td>0.5</td>\n      <td>0.02</td>\n      <td>Light Rain</td>\n      <td>rain</td>\n      <td>0</td>\n      <td>1</td>\n      <td>0</td>\n      <td>0</td>\n      <td>0</td>\n      <td>0</td>\n    </tr>\n    <tr>\n      <th>1</th>\n      <td>2015-12-31 00:42:00</td>\n      <td>7.8</td>\n      <td>46.0</td>\n      <td>6.1</td>\n      <td>43.0</td>\n      <td>89.0</td>\n      <td>7.4</td>\n      <td>4.6</td>\n      <td>NaN</td>\n      <td>NaN</td>\n      <td>...</td>\n      <td>0.8</td>\n      <td>0.03</td>\n      <td>Overcast</td>\n      <td>cloudy</td>\n      <td>0</td>\n      <td>0</td>\n      <td>0</td>\n      <td>0</td>\n      <td>0</td>\n      <td>0</td>\n    </tr>\n    <tr>\n      <th>2</th>\n      <td>2015-12-31 00:51:00</td>\n      <td>7.8</td>\n      <td>46.0</td>\n      <td>6.1</td>\n      <td>43.0</td>\n      <td>89.0</td>\n      <td>5.6</td>\n      <td>3.5</td>\n      <td>NaN</td>\n      <td>NaN</td>\n      <td>...</td>\n      <td>0.8</td>\n      <td>0.03</td>\n      <td>Overcast</td>\n      <td>cloudy</td>\n      <td>0</td>\n      <td>0</td>\n      <td>0</td>\n      <td>0</td>\n      <td>0</td>\n      <td>0</td>\n    </tr>\n    <tr>\n      <th>3</th>\n      <td>2015-12-31 01:51:00</td>\n      <td>7.2</td>\n      <td>45.0</td>\n      <td>5.6</td>\n      <td>42.1</td>\n      <td>90.0</td>\n      <td>7.4</td>\n      <td>4.6</td>\n      <td>NaN</td>\n      <td>NaN</td>\n      <td>...</td>\n      <td>0.3</td>\n      <td>0.01</td>\n      <td>Overcast</td>\n      <td>cloudy</td>\n      <td>0</td>\n      <td>0</td>\n      <td>0</td>\n      <td>0</td>\n      <td>0</td>\n      <td>0</td>\n    </tr>\n    <tr>\n      <th>4</th>\n      <td>2015-12-31 02:51:00</td>\n      <td>7.2</td>\n      <td>45.0</td>\n      <td>5.6</td>\n      <td>42.1</td>\n      <td>90.0</td>\n      <td>0.0</td>\n      <td>0.0</td>\n      <td>NaN</td>\n      <td>NaN</td>\n      <td>...</td>\n      <td>NaN</td>\n      <td>NaN</td>\n      <td>Overcast</td>\n      <td>cloudy</td>\n      <td>0</td>\n      <td>0</td>\n      <td>0</td>\n      <td>0</td>\n      <td>0</td>\n      <td>0</td>\n    </tr>\n  </tbody>\n</table>\n<p>5 rows × 30 columns</p>\n</div>"
     },
     "metadata": {},
     "execution_count": 64
    }
   ],
   "source": [
    "filledNa = df.na.fill('N/A') # only works for strings\n",
    "filledNa.limit(5).toPandas()"
   ]
  },
  {
   "cell_type": "markdown",
   "metadata": {},
   "source": [
    "## 8. Fill in NaN values with averages for the tempm and tempi columns\n",
    "\n",
    "*Note: you will first need to compute the averages for each column and then fill in with the corresponding value.*"
   ]
  },
  {
   "cell_type": "code",
   "execution_count": 65,
   "metadata": {},
   "outputs": [],
   "source": [
    "def fill_with_mean(df, include=set()): \n",
    "    stats = df.agg(*(avg(c).alias(c) for c in df.columns if c in include))\n",
    "    return df.na.fill(stats.first().asDict())"
   ]
  },
  {
   "cell_type": "code",
   "execution_count": 70,
   "metadata": {},
   "outputs": [
    {
     "output_type": "execute_result",
     "data": {
      "text/plain": [
       "       pickup_datetime  tempm  tempi  dewptm  dewpti   hum  wspdm  wspdi  \\\n",
       "0  2015-12-31 00:15:00    7.8   46.0     6.1    43.0  89.0    7.4    4.6   \n",
       "1  2015-12-31 00:42:00    7.8   46.0     6.1    43.0  89.0    7.4    4.6   \n",
       "2  2015-12-31 00:51:00    7.8   46.0     6.1    43.0  89.0    5.6    3.5   \n",
       "3  2015-12-31 01:51:00    7.2   45.0     5.6    42.1  90.0    7.4    4.6   \n",
       "4  2015-12-31 02:51:00    7.2   45.0     5.6    42.1  90.0    0.0    0.0   \n",
       "\n",
       "      wgustm     wgusti  ...  precipm precipi       conds    icon  fog  rain  \\\n",
       "0  34.969243  21.744296  ...      0.5    0.02  Light Rain    rain    0     1   \n",
       "1  34.969243  21.744296  ...      0.8    0.03    Overcast  cloudy    0     0   \n",
       "2  34.969243  21.744296  ...      0.8    0.03    Overcast  cloudy    0     0   \n",
       "3  34.969243  21.744296  ...      0.3    0.01    Overcast  cloudy    0     0   \n",
       "4  34.969243  21.744296  ...      NaN     NaN    Overcast  cloudy    0     0   \n",
       "\n",
       "   snow  hail  thunder  tornado  \n",
       "0     0     0        0        0  \n",
       "1     0     0        0        0  \n",
       "2     0     0        0        0  \n",
       "3     0     0        0        0  \n",
       "4     0     0        0        0  \n",
       "\n",
       "[5 rows x 30 columns]"
      ],
      "text/html": "<div>\n<style scoped>\n    .dataframe tbody tr th:only-of-type {\n        vertical-align: middle;\n    }\n\n    .dataframe tbody tr th {\n        vertical-align: top;\n    }\n\n    .dataframe thead th {\n        text-align: right;\n    }\n</style>\n<table border=\"1\" class=\"dataframe\">\n  <thead>\n    <tr style=\"text-align: right;\">\n      <th></th>\n      <th>pickup_datetime</th>\n      <th>tempm</th>\n      <th>tempi</th>\n      <th>dewptm</th>\n      <th>dewpti</th>\n      <th>hum</th>\n      <th>wspdm</th>\n      <th>wspdi</th>\n      <th>wgustm</th>\n      <th>wgusti</th>\n      <th>...</th>\n      <th>precipm</th>\n      <th>precipi</th>\n      <th>conds</th>\n      <th>icon</th>\n      <th>fog</th>\n      <th>rain</th>\n      <th>snow</th>\n      <th>hail</th>\n      <th>thunder</th>\n      <th>tornado</th>\n    </tr>\n  </thead>\n  <tbody>\n    <tr>\n      <th>0</th>\n      <td>2015-12-31 00:15:00</td>\n      <td>7.8</td>\n      <td>46.0</td>\n      <td>6.1</td>\n      <td>43.0</td>\n      <td>89.0</td>\n      <td>7.4</td>\n      <td>4.6</td>\n      <td>34.969243</td>\n      <td>21.744296</td>\n      <td>...</td>\n      <td>0.5</td>\n      <td>0.02</td>\n      <td>Light Rain</td>\n      <td>rain</td>\n      <td>0</td>\n      <td>1</td>\n      <td>0</td>\n      <td>0</td>\n      <td>0</td>\n      <td>0</td>\n    </tr>\n    <tr>\n      <th>1</th>\n      <td>2015-12-31 00:42:00</td>\n      <td>7.8</td>\n      <td>46.0</td>\n      <td>6.1</td>\n      <td>43.0</td>\n      <td>89.0</td>\n      <td>7.4</td>\n      <td>4.6</td>\n      <td>34.969243</td>\n      <td>21.744296</td>\n      <td>...</td>\n      <td>0.8</td>\n      <td>0.03</td>\n      <td>Overcast</td>\n      <td>cloudy</td>\n      <td>0</td>\n      <td>0</td>\n      <td>0</td>\n      <td>0</td>\n      <td>0</td>\n      <td>0</td>\n    </tr>\n    <tr>\n      <th>2</th>\n      <td>2015-12-31 00:51:00</td>\n      <td>7.8</td>\n      <td>46.0</td>\n      <td>6.1</td>\n      <td>43.0</td>\n      <td>89.0</td>\n      <td>5.6</td>\n      <td>3.5</td>\n      <td>34.969243</td>\n      <td>21.744296</td>\n      <td>...</td>\n      <td>0.8</td>\n      <td>0.03</td>\n      <td>Overcast</td>\n      <td>cloudy</td>\n      <td>0</td>\n      <td>0</td>\n      <td>0</td>\n      <td>0</td>\n      <td>0</td>\n      <td>0</td>\n    </tr>\n    <tr>\n      <th>3</th>\n      <td>2015-12-31 01:51:00</td>\n      <td>7.2</td>\n      <td>45.0</td>\n      <td>5.6</td>\n      <td>42.1</td>\n      <td>90.0</td>\n      <td>7.4</td>\n      <td>4.6</td>\n      <td>34.969243</td>\n      <td>21.744296</td>\n      <td>...</td>\n      <td>0.3</td>\n      <td>0.01</td>\n      <td>Overcast</td>\n      <td>cloudy</td>\n      <td>0</td>\n      <td>0</td>\n      <td>0</td>\n      <td>0</td>\n      <td>0</td>\n      <td>0</td>\n    </tr>\n    <tr>\n      <th>4</th>\n      <td>2015-12-31 02:51:00</td>\n      <td>7.2</td>\n      <td>45.0</td>\n      <td>5.6</td>\n      <td>42.1</td>\n      <td>90.0</td>\n      <td>0.0</td>\n      <td>0.0</td>\n      <td>34.969243</td>\n      <td>21.744296</td>\n      <td>...</td>\n      <td>NaN</td>\n      <td>NaN</td>\n      <td>Overcast</td>\n      <td>cloudy</td>\n      <td>0</td>\n      <td>0</td>\n      <td>0</td>\n      <td>0</td>\n      <td>0</td>\n      <td>0</td>\n    </tr>\n  </tbody>\n</table>\n<p>5 rows × 30 columns</p>\n</div>"
     },
     "metadata": {},
     "execution_count": 70
    }
   ],
   "source": [
    "fill_with_mean(df, ['tempm','tempi','wgustm','wgusti']).limit(5).toPandas()"
   ]
  },
  {
   "cell_type": "markdown",
   "metadata": {},
   "source": [
    "### That's it! Great Job!"
   ]
  }
 ],
 "metadata": {
  "kernelspec": {
   "display_name": "Python 3",
   "language": "python",
   "name": "python3"
  },
  "language_info": {
   "codemirror_mode": {
    "name": "ipython",
    "version": 3
   },
   "file_extension": ".py",
   "mimetype": "text/x-python",
   "name": "python",
   "nbconvert_exporter": "python",
   "pygments_lexer": "ipython3",
   "version": "3.7.6-final"
  }
 },
 "nbformat": 4,
 "nbformat_minor": 2
}