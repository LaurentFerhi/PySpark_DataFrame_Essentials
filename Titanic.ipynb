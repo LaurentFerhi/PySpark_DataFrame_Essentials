{
  "nbformat": 4,
  "nbformat_minor": 0,
  "metadata": {
    "colab": {
      "name": "Titanic.ipynb",
      "provenance": [],
      "collapsed_sections": []
    },
    "kernelspec": {
      "name": "python3",
      "display_name": "Python 3"
    },
    "language_info": {
      "name": "python"
    }
  },
  "cells": [
    {
      "cell_type": "markdown",
      "metadata": {
        "id": "dg4xCb27P45j"
      },
      "source": [
        "# Spark-tanic"
      ]
    },
    {
      "cell_type": "code",
      "metadata": {
        "id": "u9yn1m6R4UOr"
      },
      "source": [
        "from pyspark.sql import SparkSession\n",
        "spark = SparkSession.builder.appName('wine').getOrCreate()"
      ],
      "execution_count": 4,
      "outputs": []
    },
    {
      "cell_type": "code",
      "metadata": {
        "id": "Dyj9-PcS4ZqB"
      },
      "source": [
        "from pyspark.sql.functions import *\n",
        "from pyspark.sql.types import *\n",
        "\n",
        "import numpy as np\n",
        "from pyspark.ml.feature import StringIndexer, VectorAssembler\n",
        "from pyspark.ml.classification import RandomForestClassifier\n",
        "from pyspark.ml import Pipeline\n",
        "from pyspark.ml.tuning import CrossValidator, ParamGridBuilder\n",
        "from pyspark.ml.evaluation import MulticlassClassificationEvaluator\n",
        "\n",
        "from sklearn.metrics import classification_report"
      ],
      "execution_count": 143,
      "outputs": []
    },
    {
      "cell_type": "code",
      "metadata": {
        "colab": {
          "base_uri": "https://localhost:8080/"
        },
        "id": "AvmgSeQC4v6r",
        "outputId": "54f59d2b-fa9d-4d81-bcc2-a1f7b05bae64"
      },
      "source": [
        "df = spark.read.csv('titanic.csv',header=True,inferSchema=True)\n",
        "df.show(5)"
      ],
      "execution_count": 33,
      "outputs": [
        {
          "output_type": "stream",
          "text": [
            "+-----------+--------+------+--------------------+------+----+-----+-----+----------------+-------+-----+--------+\n",
            "|PassengerId|Survived|Pclass|                Name|   Sex| Age|SibSp|Parch|          Ticket|   Fare|Cabin|Embarked|\n",
            "+-----------+--------+------+--------------------+------+----+-----+-----+----------------+-------+-----+--------+\n",
            "|          1|       0|     3|Braund, Mr. Owen ...|  male|22.0|    1|    0|       A/5 21171|   7.25| null|       S|\n",
            "|          2|       1|     1|Cumings, Mrs. Joh...|female|38.0|    1|    0|        PC 17599|71.2833|  C85|       C|\n",
            "|          3|       1|     3|Heikkinen, Miss. ...|female|26.0|    0|    0|STON/O2. 3101282|  7.925| null|       S|\n",
            "|          4|       1|     1|Futrelle, Mrs. Ja...|female|35.0|    1|    0|          113803|   53.1| C123|       S|\n",
            "|          5|       0|     3|Allen, Mr. Willia...|  male|35.0|    0|    0|          373450|   8.05| null|       S|\n",
            "+-----------+--------+------+--------------------+------+----+-----+-----+----------------+-------+-----+--------+\n",
            "only showing top 5 rows\n",
            "\n"
          ],
          "name": "stdout"
        }
      ]
    },
    {
      "cell_type": "code",
      "metadata": {
        "colab": {
          "base_uri": "https://localhost:8080/"
        },
        "id": "SRE6iCrL5RfH",
        "outputId": "9174f8e6-9ab8-438f-f2a1-8dd135d217b6"
      },
      "source": [
        "print('Number of rows = {}'.format(df.count()))"
      ],
      "execution_count": 34,
      "outputs": [
        {
          "output_type": "stream",
          "text": [
            "Number of rows = 891\n"
          ],
          "name": "stdout"
        }
      ]
    },
    {
      "cell_type": "code",
      "metadata": {
        "colab": {
          "base_uri": "https://localhost:8080/"
        },
        "id": "1ikguPYU4_3t",
        "outputId": "f20726de-be73-4c69-8822-5689cf4217df"
      },
      "source": [
        "df.printSchema()"
      ],
      "execution_count": 35,
      "outputs": [
        {
          "output_type": "stream",
          "text": [
            "root\n",
            " |-- PassengerId: integer (nullable = true)\n",
            " |-- Survived: integer (nullable = true)\n",
            " |-- Pclass: integer (nullable = true)\n",
            " |-- Name: string (nullable = true)\n",
            " |-- Sex: string (nullable = true)\n",
            " |-- Age: double (nullable = true)\n",
            " |-- SibSp: integer (nullable = true)\n",
            " |-- Parch: integer (nullable = true)\n",
            " |-- Ticket: string (nullable = true)\n",
            " |-- Fare: double (nullable = true)\n",
            " |-- Cabin: string (nullable = true)\n",
            " |-- Embarked: string (nullable = true)\n",
            "\n"
          ],
          "name": "stdout"
        }
      ]
    },
    {
      "cell_type": "markdown",
      "metadata": {
        "id": "xTiPpXn3QAHd"
      },
      "source": [
        "## Check nan values"
      ]
    },
    {
      "cell_type": "code",
      "metadata": {
        "colab": {
          "base_uri": "https://localhost:8080/",
          "height": 142
        },
        "id": "k01dBnoB5cXA",
        "outputId": "650fc87c-85a8-4658-b6e1-12e287933768"
      },
      "source": [
        "def null_value_calc(df):\n",
        "    null_columns_counts = []\n",
        "    numRows = df.count()\n",
        "    for k in df.columns:\n",
        "        nullRows = df.where(col(k).isNull()).count()\n",
        "        if(nullRows > 0):\n",
        "            temp = k,nullRows,(nullRows/numRows)*100\n",
        "            null_columns_counts.append(temp)\n",
        "    null_columns_calc_list = (null_columns_counts)\n",
        "    return spark.createDataFrame(null_columns_calc_list, ['Column_Name', 'Null_Values_Count','Null_Value_Percent']).toPandas()\n",
        "\n",
        "null_value_calc(df)"
      ],
      "execution_count": 36,
      "outputs": [
        {
          "output_type": "execute_result",
          "data": {
            "text/html": [
              "<div>\n",
              "<style scoped>\n",
              "    .dataframe tbody tr th:only-of-type {\n",
              "        vertical-align: middle;\n",
              "    }\n",
              "\n",
              "    .dataframe tbody tr th {\n",
              "        vertical-align: top;\n",
              "    }\n",
              "\n",
              "    .dataframe thead th {\n",
              "        text-align: right;\n",
              "    }\n",
              "</style>\n",
              "<table border=\"1\" class=\"dataframe\">\n",
              "  <thead>\n",
              "    <tr style=\"text-align: right;\">\n",
              "      <th></th>\n",
              "      <th>Column_Name</th>\n",
              "      <th>Null_Values_Count</th>\n",
              "      <th>Null_Value_Percent</th>\n",
              "    </tr>\n",
              "  </thead>\n",
              "  <tbody>\n",
              "    <tr>\n",
              "      <th>0</th>\n",
              "      <td>Age</td>\n",
              "      <td>177</td>\n",
              "      <td>19.865320</td>\n",
              "    </tr>\n",
              "    <tr>\n",
              "      <th>1</th>\n",
              "      <td>Cabin</td>\n",
              "      <td>687</td>\n",
              "      <td>77.104377</td>\n",
              "    </tr>\n",
              "    <tr>\n",
              "      <th>2</th>\n",
              "      <td>Embarked</td>\n",
              "      <td>2</td>\n",
              "      <td>0.224467</td>\n",
              "    </tr>\n",
              "  </tbody>\n",
              "</table>\n",
              "</div>"
            ],
            "text/plain": [
              "  Column_Name  Null_Values_Count  Null_Value_Percent\n",
              "0         Age                177           19.865320\n",
              "1       Cabin                687           77.104377\n",
              "2    Embarked                  2            0.224467"
            ]
          },
          "metadata": {
            "tags": []
          },
          "execution_count": 36
        }
      ]
    },
    {
      "cell_type": "markdown",
      "metadata": {
        "id": "-QELcFXHQI8i"
      },
      "source": [
        "## Keep only relevant columns"
      ]
    },
    {
      "cell_type": "code",
      "metadata": {
        "colab": {
          "base_uri": "https://localhost:8080/"
        },
        "id": "YvXaT1D36D2N",
        "outputId": "a8189ec0-42c9-4fb9-94a8-251a2d4c470e"
      },
      "source": [
        "df = df.select('Pclass','Name','Sex','Age','SibSp','Parch','Fare','Survived')\n",
        "df.show(8)"
      ],
      "execution_count": 38,
      "outputs": [
        {
          "output_type": "stream",
          "text": [
            "+------+--------------------+------+----+-----+-----+-------+--------+\n",
            "|Pclass|                Name|   Sex| Age|SibSp|Parch|   Fare|Survived|\n",
            "+------+--------------------+------+----+-----+-----+-------+--------+\n",
            "|     3|Braund, Mr. Owen ...|  male|22.0|    1|    0|   7.25|       0|\n",
            "|     1|Cumings, Mrs. Joh...|female|38.0|    1|    0|71.2833|       1|\n",
            "|     3|Heikkinen, Miss. ...|female|26.0|    0|    0|  7.925|       1|\n",
            "|     1|Futrelle, Mrs. Ja...|female|35.0|    1|    0|   53.1|       1|\n",
            "|     3|Allen, Mr. Willia...|  male|35.0|    0|    0|   8.05|       0|\n",
            "|     3|    Moran, Mr. James|  male|null|    0|    0| 8.4583|       0|\n",
            "|     1|McCarthy, Mr. Tim...|  male|54.0|    0|    0|51.8625|       0|\n",
            "|     3|Palsson, Master. ...|  male| 2.0|    3|    1| 21.075|       0|\n",
            "+------+--------------------+------+----+-----+-----+-------+--------+\n",
            "only showing top 8 rows\n",
            "\n"
          ],
          "name": "stdout"
        }
      ]
    },
    {
      "cell_type": "markdown",
      "metadata": {
        "id": "JWBxVjj0QMaH"
      },
      "source": [
        "## Extract title feature"
      ]
    },
    {
      "cell_type": "code",
      "metadata": {
        "colab": {
          "base_uri": "https://localhost:8080/"
        },
        "id": "A5-cpc266xvK",
        "outputId": "a8e756a5-cd15-43ad-d44b-302979461a5d"
      },
      "source": [
        "split_name = udf(lambda x: x.split(', ')[1].split()[0])\n",
        "df.withColumn('Title',split_name('Name')).select('Title').groupBy('Title').count().show()"
      ],
      "execution_count": 39,
      "outputs": [
        {
          "output_type": "stream",
          "text": [
            "+---------+-----+\n",
            "|    Title|count|\n",
            "+---------+-----+\n",
            "|    Miss.|  182|\n",
            "|      Ms.|    1|\n",
            "|     Sir.|    1|\n",
            "|     Rev.|    6|\n",
            "|      Mr.|  517|\n",
            "|   Major.|    2|\n",
            "|     Mrs.|  125|\n",
            "|      Dr.|    7|\n",
            "|     Col.|    2|\n",
            "|  Master.|   40|\n",
            "|    Mlle.|    2|\n",
            "|Jonkheer.|    1|\n",
            "|     Mme.|    1|\n",
            "|      the|    1|\n",
            "|    Lady.|    1|\n",
            "|    Capt.|    1|\n",
            "|     Don.|    1|\n",
            "+---------+-----+\n",
            "\n"
          ],
          "name": "stdout"
        }
      ]
    },
    {
      "cell_type": "code",
      "metadata": {
        "id": "Y8FBLlv289kJ"
      },
      "source": [
        "Normal_titles = ['Miss.','Ms.','Mr.','Mrs.','Mlle.']\n",
        "process_name = udf(lambda x: 'Normal' if x.split(', ')[1].split()[0] in Normal_titles else 'High_society')\n",
        "df = df.withColumn('Title',process_name('Name')).drop('Name')"
      ],
      "execution_count": 40,
      "outputs": []
    },
    {
      "cell_type": "markdown",
      "metadata": {
        "id": "ujRF4RILQQOX"
      },
      "source": [
        "## Fill age with median"
      ]
    },
    {
      "cell_type": "code",
      "metadata": {
        "id": "bSQWGZWq93E1"
      },
      "source": [
        "mean_age = np.round(df.select('Age').dropna().select(mean('Age')).collect()[0][0],1)\n",
        "df = df.na.fill(mean_age, 'Age')"
      ],
      "execution_count": 60,
      "outputs": []
    },
    {
      "cell_type": "code",
      "metadata": {
        "colab": {
          "base_uri": "https://localhost:8080/"
        },
        "id": "BCwrfzApAGKi",
        "outputId": "1039ff83-584a-4fd9-93db-7e0b1d438e63"
      },
      "source": [
        "df.show()"
      ],
      "execution_count": 63,
      "outputs": [
        {
          "output_type": "stream",
          "text": [
            "+------+------+----+-----+-----+-------+--------+------------+\n",
            "|Pclass|   Sex| Age|SibSp|Parch|   Fare|Survived|       Title|\n",
            "+------+------+----+-----+-----+-------+--------+------------+\n",
            "|     3|  male|22.0|    1|    0|   7.25|       0|      Normal|\n",
            "|     1|female|38.0|    1|    0|71.2833|       1|      Normal|\n",
            "|     3|female|26.0|    0|    0|  7.925|       1|      Normal|\n",
            "|     1|female|35.0|    1|    0|   53.1|       1|      Normal|\n",
            "|     3|  male|35.0|    0|    0|   8.05|       0|      Normal|\n",
            "|     3|  male|29.7|    0|    0| 8.4583|       0|      Normal|\n",
            "|     1|  male|54.0|    0|    0|51.8625|       0|      Normal|\n",
            "|     3|  male| 2.0|    3|    1| 21.075|       0|High_society|\n",
            "|     3|female|27.0|    0|    2|11.1333|       1|      Normal|\n",
            "|     2|female|14.0|    1|    0|30.0708|       1|      Normal|\n",
            "|     3|female| 4.0|    1|    1|   16.7|       1|      Normal|\n",
            "|     1|female|58.0|    0|    0|  26.55|       1|      Normal|\n",
            "|     3|  male|20.0|    0|    0|   8.05|       0|      Normal|\n",
            "|     3|  male|39.0|    1|    5| 31.275|       0|      Normal|\n",
            "|     3|female|14.0|    0|    0| 7.8542|       0|      Normal|\n",
            "|     2|female|55.0|    0|    0|   16.0|       1|      Normal|\n",
            "|     3|  male| 2.0|    4|    1| 29.125|       0|High_society|\n",
            "|     2|  male|29.7|    0|    0|   13.0|       1|      Normal|\n",
            "|     3|female|31.0|    1|    0|   18.0|       0|      Normal|\n",
            "|     3|female|29.7|    0|    0|  7.225|       1|      Normal|\n",
            "+------+------+----+-----+-----+-------+--------+------------+\n",
            "only showing top 20 rows\n",
            "\n"
          ],
          "name": "stdout"
        }
      ]
    },
    {
      "cell_type": "markdown",
      "metadata": {
        "id": "ILSJKYIxQTHf"
      },
      "source": [
        "## Check who survived"
      ]
    },
    {
      "cell_type": "code",
      "metadata": {
        "colab": {
          "base_uri": "https://localhost:8080/"
        },
        "id": "H0zQZrO4BpbA",
        "outputId": "7c667ea9-3c6f-40b0-fea4-5541fd5e51dc"
      },
      "source": [
        "def who_survived(col):\n",
        "  d1 = df.groupBy(col).agg(sum('Survived').alias('Alive'))\n",
        "  d2 = df.groupBy(col).count()\n",
        "  res = d2.join(d1, [col], how='left')\n",
        "  return res.withColumn('Pct', res['Alive']/res['count']*100)\n",
        "\n",
        "who_survived('Sex').show()"
      ],
      "execution_count": 88,
      "outputs": [
        {
          "output_type": "stream",
          "text": [
            "+------+-----+-----+------------------+\n",
            "|   Sex|count|Alive|               Pct|\n",
            "+------+-----+-----+------------------+\n",
            "|female|  314|  233| 74.20382165605095|\n",
            "|  male|  577|  109|18.890814558058924|\n",
            "+------+-----+-----+------------------+\n",
            "\n"
          ],
          "name": "stdout"
        }
      ]
    },
    {
      "cell_type": "code",
      "metadata": {
        "colab": {
          "base_uri": "https://localhost:8080/"
        },
        "id": "j0-yc4q2CMHd",
        "outputId": "6dad7757-2689-4e12-8858-a67c67ad424c"
      },
      "source": [
        "who_survived('Title').show()"
      ],
      "execution_count": 89,
      "outputs": [
        {
          "output_type": "stream",
          "text": [
            "+------------+-----+-----+-----------------+\n",
            "|       Title|count|Alive|              Pct|\n",
            "+------------+-----+-----+-----------------+\n",
            "|High_society|   64|   32|             50.0|\n",
            "|      Normal|  827|  310|37.48488512696493|\n",
            "+------------+-----+-----+-----------------+\n",
            "\n"
          ],
          "name": "stdout"
        }
      ]
    },
    {
      "cell_type": "code",
      "metadata": {
        "colab": {
          "base_uri": "https://localhost:8080/"
        },
        "id": "AlfocgDnCMJi",
        "outputId": "88d18c58-df63-4f36-a88e-b25af1829290"
      },
      "source": [
        "who_survived('Pclass').orderBy('Pclass').show()"
      ],
      "execution_count": 91,
      "outputs": [
        {
          "output_type": "stream",
          "text": [
            "+------+-----+-----+------------------+\n",
            "|Pclass|count|Alive|               Pct|\n",
            "+------+-----+-----+------------------+\n",
            "|     1|  216|  136| 62.96296296296296|\n",
            "|     2|  184|   87| 47.28260869565217|\n",
            "|     3|  491|  119|24.236252545824847|\n",
            "+------+-----+-----+------------------+\n",
            "\n"
          ],
          "name": "stdout"
        }
      ]
    },
    {
      "cell_type": "code",
      "metadata": {
        "colab": {
          "base_uri": "https://localhost:8080/"
        },
        "id": "EC6nVS1LGbgC",
        "outputId": "869ad655-21a8-4736-a05b-dee5814ac93f"
      },
      "source": [
        "df.groupBy('Survived').agg(avg('Fare')).show()"
      ],
      "execution_count": 102,
      "outputs": [
        {
          "output_type": "stream",
          "text": [
            "+--------+------------------+\n",
            "|Survived|         avg(Fare)|\n",
            "+--------+------------------+\n",
            "|       1| 48.39540760233917|\n",
            "|       0|22.117886885245877|\n",
            "+--------+------------------+\n",
            "\n"
          ],
          "name": "stdout"
        }
      ]
    },
    {
      "cell_type": "code",
      "metadata": {
        "colab": {
          "base_uri": "https://localhost:8080/"
        },
        "id": "aq2zJqdFIm1Y",
        "outputId": "8aa8a28f-99ec-46cf-af04-3e432286355e"
      },
      "source": [
        "dead_med_fare = np.round(np.median([i[0] for i in df.filter(df.Survived == 0).select('Fare').collect()]),1)\n",
        "alive_med_fare = np.round(np.median([i[0] for i in df.filter(df.Survived == 1).select('Fare').collect()]),1)\n",
        "\n",
        "print(\"Survived median Fare = {}\\nNot survived median Fare = {}\".format(alive_med_fare,dead_med_fare))"
      ],
      "execution_count": 122,
      "outputs": [
        {
          "output_type": "stream",
          "text": [
            "Survived median Fare = 26.0\n",
            "Not survived median Fare = 10.5\n"
          ],
          "name": "stdout"
        }
      ]
    },
    {
      "cell_type": "markdown",
      "metadata": {
        "id": "6o-N4CLTQZDz"
      },
      "source": [
        "## Machine learning"
      ]
    },
    {
      "cell_type": "code",
      "metadata": {
        "colab": {
          "base_uri": "https://localhost:8080/"
        },
        "id": "AUndhSzOBOqa",
        "outputId": "50102b5d-6246-48ee-a01d-9284c8dc0815"
      },
      "source": [
        "df = df.withColumnRenamed('Survived','label')\n",
        "\n",
        "Sex_enc = StringIndexer(inputCol='Sex', outputCol='Sex_enc')\n",
        "Title_enc = StringIndexer(inputCol='Title', outputCol='Title_enc')\n",
        "\n",
        "featured_data = VectorAssembler(inputCols=['Pclass','Sex_enc','Age','SibSp','Parch','Fare','Title_enc'], outputCol='features')\n",
        "\n",
        "pre_processor = Pipeline(stages=[Sex_enc, Title_enc, featured_data])\n",
        "\n",
        "cleaner = pre_processor.fit(df)\n",
        "clean_df = cleaner.transform(df)\n",
        "clean_df.show(5)"
      ],
      "execution_count": 135,
      "outputs": [
        {
          "output_type": "stream",
          "text": [
            "+------+------+----+-----+-----+-------+-----+------+-------+---------+--------------------+\n",
            "|Pclass|   Sex| Age|SibSp|Parch|   Fare|label| Title|Sex_enc|Title_enc|            features|\n",
            "+------+------+----+-----+-----+-------+-----+------+-------+---------+--------------------+\n",
            "|     3|  male|22.0|    1|    0|   7.25|    0|Normal|    0.0|      0.0|[3.0,0.0,22.0,1.0...|\n",
            "|     1|female|38.0|    1|    0|71.2833|    1|Normal|    1.0|      0.0|[1.0,1.0,38.0,1.0...|\n",
            "|     3|female|26.0|    0|    0|  7.925|    1|Normal|    1.0|      0.0|[3.0,1.0,26.0,0.0...|\n",
            "|     1|female|35.0|    1|    0|   53.1|    1|Normal|    1.0|      0.0|[1.0,1.0,35.0,1.0...|\n",
            "|     3|  male|35.0|    0|    0|   8.05|    0|Normal|    0.0|      0.0|(7,[0,2,5],[3.0,3...|\n",
            "+------+------+----+-----+-----+-------+-----+------+-------+---------+--------------------+\n",
            "only showing top 5 rows\n",
            "\n"
          ],
          "name": "stdout"
        }
      ]
    },
    {
      "cell_type": "code",
      "metadata": {
        "colab": {
          "base_uri": "https://localhost:8080/"
        },
        "id": "cux8ZJ8mNuNj",
        "outputId": "36646064-1b37-4611-c224-6d7e627a5ad2"
      },
      "source": [
        "clean_data_training = clean_df.select('features','label')\n",
        "clean_data_training.show(5)"
      ],
      "execution_count": 138,
      "outputs": [
        {
          "output_type": "stream",
          "text": [
            "+--------------------+-----+\n",
            "|            features|label|\n",
            "+--------------------+-----+\n",
            "|[3.0,0.0,22.0,1.0...|    0|\n",
            "|[1.0,1.0,38.0,1.0...|    1|\n",
            "|[3.0,1.0,26.0,0.0...|    1|\n",
            "|[1.0,1.0,35.0,1.0...|    1|\n",
            "|(7,[0,2,5],[3.0,3...|    0|\n",
            "+--------------------+-----+\n",
            "only showing top 5 rows\n",
            "\n"
          ],
          "name": "stdout"
        }
      ]
    },
    {
      "cell_type": "code",
      "metadata": {
        "colab": {
          "base_uri": "https://localhost:8080/"
        },
        "id": "94stydVzOFZL",
        "outputId": "bd8fd693-990b-49aa-c30a-ce01f8621236"
      },
      "source": [
        "train, test = clean_data_training.randomSplit([0.7,0.3])\n",
        "\n",
        "# Evaluator precises the target column and the kind of metrics to use \n",
        "evaluator = MulticlassClassificationEvaluator(labelCol='label', metricName='f1')\n",
        "\n",
        "# Define transformtions stages to throw in the pipeline\n",
        "rfc = RandomForestClassifier()\n",
        "\n",
        "# Definition of pipeline\n",
        "pipeline_nb = Pipeline(stages=[rfc])\n",
        "\n",
        "# Definition of the grid parameters\n",
        "paramGrid = ParamGridBuilder().addGrid(rfc.numTrees, [50,100]).build()\n",
        "\n",
        "# Definition of the cross validator\n",
        "cv = CrossValidator(\n",
        "  estimator=pipeline_nb,\n",
        "  estimatorParamMaps=paramGrid, \n",
        "  evaluator=evaluator, \n",
        "  numFolds=8)\n",
        "\n",
        "# Train the model\n",
        "model = cv.fit(train)\n",
        "\n",
        "# Predict classes on test part\n",
        "predictions = model.transform(test)\n",
        "predictions.show(5)"
      ],
      "execution_count": 147,
      "outputs": [
        {
          "output_type": "stream",
          "text": [
            "+--------------------+-----+--------------------+--------------------+----------+\n",
            "|            features|label|       rawPrediction|         probability|prediction|\n",
            "+--------------------+-----+--------------------+--------------------+----------+\n",
            "|(7,[0,2],[1.0,29.7])|    0|[42.0690897043342...|[0.84138179408668...|       0.0|\n",
            "|(7,[0,2],[1.0,39.0])|    0|[41.5281461657729...|[0.83056292331545...|       0.0|\n",
            "|(7,[0,2],[2.0,29.7])|    0|[44.9790680784523...|[0.89958136156904...|       0.0|\n",
            "|(7,[0,2],[3.0,19.0])|    0|[44.7272126772770...|[0.89454425354554...|       0.0|\n",
            "|(7,[0,2],[3.0,25.0])|    1|[44.8835604046736...|[0.89767120809347...|       0.0|\n",
            "+--------------------+-----+--------------------+--------------------+----------+\n",
            "only showing top 5 rows\n",
            "\n"
          ],
          "name": "stdout"
        }
      ]
    },
    {
      "cell_type": "code",
      "metadata": {
        "colab": {
          "base_uri": "https://localhost:8080/"
        },
        "id": "QjD9X-xLO3Ho",
        "outputId": "59279d2e-b3cb-4e47-bf74-8e9155ea1258"
      },
      "source": [
        "predictions_pd = predictions.toPandas()\n",
        "print(classification_report(predictions_pd.prediction, predictions_pd.label))"
      ],
      "execution_count": 148,
      "outputs": [
        {
          "output_type": "stream",
          "text": [
            "              precision    recall  f1-score   support\n",
            "\n",
            "         0.0       0.90      0.81      0.85       162\n",
            "         1.0       0.73      0.84      0.78        95\n",
            "\n",
            "    accuracy                           0.82       257\n",
            "   macro avg       0.81      0.83      0.82       257\n",
            "weighted avg       0.83      0.82      0.83       257\n",
            "\n"
          ],
          "name": "stdout"
        }
      ]
    }
  ]
}