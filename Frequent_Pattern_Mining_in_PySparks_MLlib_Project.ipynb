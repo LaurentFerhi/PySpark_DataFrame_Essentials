{
 "cells": [
  {
   "cell_type": "markdown",
   "metadata": {},
   "source": [
    "# Frequent Pattern Mining in PySpark's MLlib Project\n",
    "\n",
    "Let's see if you can use the concepts we learned about in the lecture to try out frequent pattern mining techniques on a new dataset!\n",
    "\n",
    "\n",
    "## Recap:\n",
    "\n",
    "Spark MLlib provides two algorithms related to frequent pattern mining (FPM): \n",
    "\n",
    "1. FP-growth (Frequent Pattern Growth)\n",
    "2. PrefixSpan \n",
    "\n",
    "The distinction is that FP-growth does not use order information in the itemsets, if any, while PrefixSpan is designed for sequential pattern mining where the itemsets are ordered. \n",
    "\n",
    "## Data\n",
    "\n",
    "You own a mall and through membership cards, you have some basic data about your customers like Customer ID, age, gender, annual income and spending score. Spending Score is something you assign to the customer based on your defined parameters like customer behavior and purchasing data.\n",
    "\n",
    "**Dataset:** Mall_Customers.csv <br>\n",
    "**Data Source:**  https://www.kaggle.com/vjchoudhary7/customer-segmentation-tutorial-in-python\n",
    "\n",
    "## Problem statement\n",
    "\n",
    "As the mall owner, you want to understand the customers who can be easily grouped together so that a strategy can be provided to the marketing team to plan accordingly. \n",
    "\n",
    "*Note:* <br>\n",
    "You may need to transform the data in a way that will be meaningful for your market analysis. Think about how you might group the customers in the this data.\n",
    "\n",
    "You will also notice that I did not provide any leading questions in this notebook as I usually do. This to provide a bit of a challenge for you as this is the last concept we will be covering before the final project! I hope you enjoy the challenge :)"
   ]
  },
  {
   "cell_type": "code",
   "execution_count": 2,
   "metadata": {},
   "outputs": [],
   "source": [
    "import findspark\n",
    "findspark.init()\n",
    "\n",
    "from pyspark.sql import SparkSession\n",
    "spark = SparkSession.builder.appName('Mining').getOrCreate()"
   ]
  },
  {
   "cell_type": "code",
   "execution_count": 21,
   "metadata": {},
   "outputs": [],
   "source": [
    "from pyspark.sql.functions import *\n",
    "from pyspark.sql.types import *\n",
    "from pyspark.ml.fpm import FPGrowth"
   ]
  },
  {
   "cell_type": "code",
   "execution_count": 9,
   "metadata": {},
   "outputs": [
    {
     "output_type": "stream",
     "name": "stdout",
     "text": [
      "+----------+------+---+------------------+----------------------+\n|CustomerID|Gender|Age|Annual Income (k$)|Spending Score (1-100)|\n+----------+------+---+------------------+----------------------+\n|         1|  Male| 19|                15|                    39|\n|         2|  Male| 21|                15|                    81|\n|         3|Female| 20|                16|                     6|\n|         4|Female| 23|                16|                    77|\n|         5|Female| 31|                17|                    40|\n+----------+------+---+------------------+----------------------+\nonly showing top 5 rows\n\n"
     ]
    }
   ],
   "source": [
    "df = spark.read.csv('Datasets/Mall_Customers.csv', inferSchema=True, header=True)\n",
    "df.show(5)"
   ]
  },
  {
   "cell_type": "code",
   "execution_count": 7,
   "metadata": {},
   "outputs": [
    {
     "output_type": "stream",
     "name": "stdout",
     "text": [
      "root\n |-- CustomerID: integer (nullable = true)\n |-- Gender: string (nullable = true)\n |-- Age: integer (nullable = true)\n |-- Annual Income (k$): integer (nullable = true)\n |-- Spending Score (1-100): integer (nullable = true)\n\n"
     ]
    }
   ],
   "source": [
    "df.printSchema()"
   ]
  },
  {
   "cell_type": "code",
   "execution_count": 11,
   "metadata": {},
   "outputs": [
    {
     "output_type": "stream",
     "name": "stdout",
     "text": [
      "+----------+------+---+------+--------------+\n|CustomerID|Gender|Age|income|spending_score|\n+----------+------+---+------+--------------+\n|         1|  Male| 19|    15|            39|\n|         2|  Male| 21|    15|            81|\n|         3|Female| 20|    16|             6|\n|         4|Female| 23|    16|            77|\n|         5|Female| 31|    17|            40|\n+----------+------+---+------+--------------+\nonly showing top 5 rows\n\n"
     ]
    }
   ],
   "source": [
    "df = df.withColumnRenamed(\"Annual Income (k$)\",'income').withColumnRenamed(\"Spending Score (1-100)\",'spending_score')\n",
    "df.show(5)"
   ]
  },
  {
   "cell_type": "code",
   "execution_count": 12,
   "metadata": {},
   "outputs": [
    {
     "output_type": "stream",
     "name": "stdout",
     "text": [
      "+----------+------+---+------+--------------+\n|CustomerID|Gender|Age|income|spending_score|\n+----------+------+---+------+--------------+\n|         0|     0|  0|     0|             0|\n+----------+------+---+------+--------------+\n\n"
     ]
    }
   ],
   "source": [
    "df.select([count(when(isnan(c) | col(c).isNull(), c)).alias(c) for c in df.columns]).show()"
   ]
  },
  {
   "cell_type": "code",
   "execution_count": 13,
   "metadata": {},
   "outputs": [
    {
     "output_type": "execute_result",
     "data": {
      "text/plain": [
       "200"
      ]
     },
     "metadata": {},
     "execution_count": 13
    }
   ],
   "source": [
    "df.count()"
   ]
  },
  {
   "cell_type": "code",
   "execution_count": 17,
   "metadata": {},
   "outputs": [
    {
     "output_type": "stream",
     "name": "stdout",
     "text": [
      "+----------+------+---+------+--------------+---------+------------+--------------+\n|CustomerID|Gender|Age|income|spending_score|age_group|income_group|spending_group|\n+----------+------+---+------+--------------+---------+------------+--------------+\n|         1|  Male| 19|    15|            39| Under 30|    Under 40|       30 - 60|\n|         2|  Male| 21|    15|            81| Under 30|    Under 40|          60 +|\n|         3|Female| 20|    16|             6| Under 30|    Under 40|  Less than 30|\n|         4|Female| 23|    16|            77| Under 30|    Under 40|          60 +|\n|         5|Female| 31|    17|            40| 30 to 55|    Under 40|       30 - 60|\n+----------+------+---+------+--------------+---------+------------+--------------+\nonly showing top 5 rows\n\n"
     ]
    }
   ],
   "source": [
    "grouped_df = df.withColumn('age_group', expr(\"CASE WHEN Age < 30 THEN 'Under 30' WHEN Age BETWEEN 30 AND 55 THEN '30 to 55' WHEN Age > 50 THEN '50 +' ELSE 'Other' END AS age_group\")) \\\n",
    "    .withColumn(\"income_group\",expr(\"CASE WHEN income < 40 THEN 'Under 40' WHEN income BETWEEN 40 AND 70 THEN '40 - 70' WHEN income > 70 THEN '70 +' ELSE 'Other' END AS income_group\")) \\\n",
    "    .withColumn(\"spending_group\",expr(\"CASE WHEN spending_score < 30 THEN 'Less than 30' WHEN spending_score BETWEEN 30 AND 60 THEN '30 - 60' WHEN spending_score > 60 THEN '60 +' ELSE 'Other' END AS spending_group\"))\n",
    "\n",
    "grouped_df.show(5)"
   ]
  },
  {
   "cell_type": "code",
   "execution_count": 20,
   "metadata": {},
   "outputs": [
    {
     "output_type": "stream",
     "name": "stdout",
     "text": [
      "+----------+------+---+------+--------------+---------+------------+--------------+--------------------+\n|CustomerID|Gender|Age|income|spending_score|age_group|income_group|spending_group|               items|\n+----------+------+---+------+--------------+---------+------------+--------------+--------------------+\n|         1|  Male| 19|    15|            39| Under 30|    Under 40|       30 - 60|[Male, Under 30, ...|\n|         2|  Male| 21|    15|            81| Under 30|    Under 40|          60 +|[Male, Under 30, ...|\n|         3|Female| 20|    16|             6| Under 30|    Under 40|  Less than 30|[Female, Under 30...|\n|         4|Female| 23|    16|            77| Under 30|    Under 40|          60 +|[Female, Under 30...|\n|         5|Female| 31|    17|            40| 30 to 55|    Under 40|       30 - 60|[Female, 30 to 55...|\n+----------+------+---+------+--------------+---------+------------+--------------+--------------------+\nonly showing top 5 rows\n\n"
     ]
    }
   ],
   "source": [
    "grouped_df = grouped_df.withColumn(\"items\",array('Gender','age_group', 'income_group','spending_group'))\n",
    "grouped_df.show(5)"
   ]
  },
  {
   "cell_type": "code",
   "execution_count": 23,
   "metadata": {},
   "outputs": [],
   "source": [
    "fpGrowth = FPGrowth(itemsCol='items', minSupport=0.2, minConfidence=0.1)\n",
    "model = fpGrowth.fit(grouped_df)"
   ]
  },
  {
   "cell_type": "code",
   "execution_count": 34,
   "metadata": {},
   "outputs": [],
   "source": [
    "popularity = model.freqItemsets\n",
    "popularity.createOrReplaceTempView('popularity')"
   ]
  },
  {
   "cell_type": "code",
   "execution_count": 35,
   "metadata": {},
   "outputs": [
    {
     "output_type": "stream",
     "name": "stdout",
     "text": [
      "+--------------------+----+\n|               items|freq|\n+--------------------+----+\n|          [30 to 55]| 116|\n|            [Female]| 112|\n|           [30 - 60]|  92|\n|              [Male]|  88|\n|           [40 - 70]|  80|\n|  [40 - 70, 30 - 60]|  77|\n|              [70 +]|  74|\n|  [Female, 30 to 55]|  72|\n|              [60 +]|  62|\n|   [30 - 60, Female]|  55|\n|    [70 +, 30 to 55]|  55|\n|          [Under 30]|  55|\n|   [40 - 70, Female]|  47|\n|      [Less than 30]|  46|\n| [30 - 60, 30 to 55]|  46|\n|          [Under 40]|  46|\n|[40 - 70, 30 - 60...|  45|\n|    [Male, 30 to 55]|  44|\n+--------------------+----+\n\n"
     ]
    }
   ],
   "source": [
    "spark.sql(\"SELECT * FROM popularity ORDER BY freq DESC\").limit(20).show()"
   ]
  },
  {
   "cell_type": "code",
   "execution_count": 36,
   "metadata": {},
   "outputs": [],
   "source": [
    "assoc = model.associationRules\n",
    "assoc.createOrReplaceTempView('assoc')"
   ]
  },
  {
   "cell_type": "code",
   "execution_count": 37,
   "metadata": {},
   "outputs": [
    {
     "output_type": "stream",
     "name": "stdout",
     "text": [
      "+------------------+----------+-------------------+------------------+\n|        antecedent|consequent|         confidence|              lift|\n+------------------+----------+-------------------+------------------+\n|         [40 - 70]| [30 - 60]|             0.9625| 2.092391304347826|\n| [40 - 70, Female]| [30 - 60]| 0.9574468085106383|2.0814061054579094|\n|         [30 - 60]| [40 - 70]| 0.8369565217391305| 2.092391304347826|\n| [30 - 60, Female]| [40 - 70]| 0.8181818181818182|2.0454545454545454|\n|            [70 +]|[30 to 55]| 0.7432432432432432|1.2814538676607643|\n|          [Female]|[30 to 55]| 0.6428571428571429|1.1083743842364533|\n|        [30 to 55]|  [Female]| 0.6206896551724138| 1.108374384236453|\n|         [30 - 60]|  [Female]| 0.5978260869565217|1.0675465838509315|\n|         [40 - 70]|  [Female]|             0.5875|1.0491071428571428|\n|[40 - 70, 30 - 60]|  [Female]| 0.5844155844155844| 1.043599257884972|\n|         [30 - 60]|[30 to 55]|                0.5|0.8620689655172414|\n|            [Male]|[30 to 55]|                0.5|0.8620689655172414|\n|          [Female]| [30 - 60]|0.49107142857142855|1.0675465838509315|\n|        [30 to 55]|    [70 +]|0.47413793103448276|1.2814538676607643|\n|          [Female]| [40 - 70]|0.41964285714285715|1.0491071428571428|\n|        [30 to 55]| [30 - 60]|0.39655172413793105|0.8620689655172413|\n|        [30 to 55]|    [Male]| 0.3793103448275862|0.8620689655172413|\n+------------------+----------+-------------------+------------------+\n\n"
     ]
    }
   ],
   "source": [
    "spark.sql(\"SELECT * FROM assoc ORDER BY confidence DESC\").limit(20).show()"
   ]
  },
  {
   "cell_type": "code",
   "execution_count": null,
   "metadata": {},
   "outputs": [],
   "source": []
  }
 ],
 "metadata": {
  "kernelspec": {
   "display_name": "Python 3",
   "language": "python",
   "name": "python3"
  },
  "language_info": {
   "codemirror_mode": {
    "name": "ipython",
    "version": 3
   },
   "file_extension": ".py",
   "mimetype": "text/x-python",
   "name": "python",
   "nbconvert_exporter": "python",
   "pygments_lexer": "ipython3",
   "version": "3.7.6-final"
  }
 },
 "nbformat": 4,
 "nbformat_minor": 2
}