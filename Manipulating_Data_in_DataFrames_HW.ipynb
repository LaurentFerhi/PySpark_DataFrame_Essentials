{
 "cells": [
  {
   "cell_type": "markdown",
   "metadata": {},
   "source": [
    "# Manipulating Data in DataFrames HW\n",
    "\n",
    "\n",
    "#### Let's get started applying what we learned in the lecure!\n",
    "\n",
    "I've provided several questions below to help test and expand you knowledge from the code along lecture. So let's see what you've got!\n",
    "\n",
    "First create your spark instance as we need to do at the start of every project."
   ]
  },
  {
   "cell_type": "code",
   "execution_count": 4,
   "metadata": {},
   "outputs": [],
   "source": [
    "import findspark\n",
    "findspark.init()\n",
    "\n",
    "from pyspark.sql import SparkSession\n",
    "spark = SparkSession.builder.appName('HW').getOrCreate()"
   ]
  },
  {
   "cell_type": "code",
   "execution_count": 5,
   "metadata": {},
   "outputs": [],
   "source": [
    "from pyspark.sql.functions import *\n",
    "from pyspark.sql.types import *"
   ]
  },
  {
   "cell_type": "markdown",
   "metadata": {},
   "source": [
    "## Read in our Republican vs. Democrats Tweet DataFrame\n",
    "\n",
    "Attached to the lecture"
   ]
  },
  {
   "cell_type": "code",
   "execution_count": 6,
   "metadata": {},
   "outputs": [
    {
     "output_type": "execute_result",
     "data": {
      "text/plain": [
       "                                Party         Handle  \\\n",
       "0                            Democrat  RepDarrenSoto   \n",
       "1                            Democrat  RepDarrenSoto   \n",
       "2                            Democrat  RepDarrenSoto   \n",
       "3  Congress has allocated about $18…\"           None   \n",
       "4                            Democrat  RepDarrenSoto   \n",
       "\n",
       "                                               Tweet  \n",
       "0  Today, Senate Dems vote to #SaveTheInternet. P...  \n",
       "1  RT @WinterHavenSun: Winter Haven resident / Al...  \n",
       "2  RT @NBCLatino: .@RepDarrenSoto noted that Hurr...  \n",
       "3                                               None  \n",
       "4  RT @NALCABPolicy: Meeting with @RepDarrenSoto ...  "
      ],
      "text/html": "<div>\n<style scoped>\n    .dataframe tbody tr th:only-of-type {\n        vertical-align: middle;\n    }\n\n    .dataframe tbody tr th {\n        vertical-align: top;\n    }\n\n    .dataframe thead th {\n        text-align: right;\n    }\n</style>\n<table border=\"1\" class=\"dataframe\">\n  <thead>\n    <tr style=\"text-align: right;\">\n      <th></th>\n      <th>Party</th>\n      <th>Handle</th>\n      <th>Tweet</th>\n    </tr>\n  </thead>\n  <tbody>\n    <tr>\n      <th>0</th>\n      <td>Democrat</td>\n      <td>RepDarrenSoto</td>\n      <td>Today, Senate Dems vote to #SaveTheInternet. P...</td>\n    </tr>\n    <tr>\n      <th>1</th>\n      <td>Democrat</td>\n      <td>RepDarrenSoto</td>\n      <td>RT @WinterHavenSun: Winter Haven resident / Al...</td>\n    </tr>\n    <tr>\n      <th>2</th>\n      <td>Democrat</td>\n      <td>RepDarrenSoto</td>\n      <td>RT @NBCLatino: .@RepDarrenSoto noted that Hurr...</td>\n    </tr>\n    <tr>\n      <th>3</th>\n      <td>Congress has allocated about $18…\"</td>\n      <td>None</td>\n      <td>None</td>\n    </tr>\n    <tr>\n      <th>4</th>\n      <td>Democrat</td>\n      <td>RepDarrenSoto</td>\n      <td>RT @NALCABPolicy: Meeting with @RepDarrenSoto ...</td>\n    </tr>\n  </tbody>\n</table>\n</div>"
     },
     "metadata": {},
     "execution_count": 6
    }
   ],
   "source": [
    "df = spark.read.csv('Datasets/Rep_vs_Dem_tweets.csv',inferSchema=True,header=True)\n",
    "df.limit(5).toPandas()"
   ]
  },
  {
   "cell_type": "markdown",
   "metadata": {},
   "source": [
    "## About this dataframe\n",
    "\n",
    "Extracted tweets from all of the representatives (latest 200 as of May 17th 2018)\n",
    "\n",
    "**Source:** https://www.kaggle.com/kapastor/democratvsrepublicantweets#ExtractedTweets.csv\n",
    "\n",
    "Use either .show() or .toPandas() check out the first view rows of the dataframe to get an idea of what we are working with."
   ]
  },
  {
   "cell_type": "code",
   "execution_count": 7,
   "metadata": {},
   "outputs": [
    {
     "output_type": "stream",
     "name": "stdout",
     "text": [
      "root\n |-- Party: string (nullable = true)\n |-- Handle: string (nullable = true)\n |-- Tweet: string (nullable = true)\n\n"
     ]
    }
   ],
   "source": [
    "df.printSchema()"
   ]
  },
  {
   "cell_type": "markdown",
   "metadata": {},
   "source": [
    "**Prevent Truncation of view**\n",
    "\n",
    "If the view you produced above truncated some of the longer tweets, see if you can prevent that so you can read the whole tweet."
   ]
  },
  {
   "cell_type": "code",
   "execution_count": 8,
   "metadata": {},
   "outputs": [
    {
     "output_type": "stream",
     "name": "stdout",
     "text": [
      "+----------------------------------+-------------+--------------------------------------------------------------------------------------------------------------------------------------------+\n|Party                             |Handle       |Tweet                                                                                                                                       |\n+----------------------------------+-------------+--------------------------------------------------------------------------------------------------------------------------------------------+\n|Democrat                          |RepDarrenSoto|Today, Senate Dems vote to #SaveTheInternet. Proud to support similar #NetNeutrality legislation here in the House… https://t.co/n3tggDLU1L |\n|Democrat                          |RepDarrenSoto|RT @WinterHavenSun: Winter Haven resident / Alta Vista teacher is one of several recognized by @RepDarrenSoto for National Teacher Apprecia…|\n|Democrat                          |RepDarrenSoto|RT @NBCLatino: .@RepDarrenSoto noted that Hurricane Maria has left approximately $90 billion in damages.                                    |\n|Congress has allocated about $18…\"|null         |null                                                                                                                                        |\n|Democrat                          |RepDarrenSoto|RT @NALCABPolicy: Meeting with @RepDarrenSoto . Thanks for taking the time to meet with @LatinoLeader ED Marucci Guzman. #NALCABPolicy2018.…|\n+----------------------------------+-------------+--------------------------------------------------------------------------------------------------------------------------------------------+\nonly showing top 5 rows\n\n"
     ]
    }
   ],
   "source": [
    "df.show(5,truncate=False)"
   ]
  },
  {
   "cell_type": "markdown",
   "metadata": {},
   "source": [
    "**Print Schema**\n",
    "\n",
    "First, check the schema to make sure the datatypes are accurate. "
   ]
  },
  {
   "cell_type": "code",
   "execution_count": 9,
   "metadata": {},
   "outputs": [
    {
     "output_type": "stream",
     "name": "stdout",
     "text": [
      "root\n |-- Party: string (nullable = true)\n |-- Handle: string (nullable = true)\n |-- Tweet: string (nullable = true)\n\n"
     ]
    }
   ],
   "source": [
    "df.printSchema()"
   ]
  },
  {
   "cell_type": "markdown",
   "metadata": {},
   "source": [
    "## 1. Can you identify any tweet that mentions the handle @LatinoLeader using regexp_extract?\n",
    "\n",
    "It doesn't matter how you identify the row, any identifier will do. You can test your script on row 5 from this dataset. That row contains @LatinoLeader. "
   ]
  },
  {
   "cell_type": "code",
   "execution_count": 10,
   "metadata": {},
   "outputs": [
    {
     "output_type": "stream",
     "name": "stdout",
     "text": [
      "+--------+-------------+--------------------+------+\n|   Party|       Handle|               Tweet|latino|\n+--------+-------------+--------------------+------+\n|Democrat|RepDarrenSoto|RT @NALCABPolicy:...|  true|\n+--------+-------------+--------------------+------+\n\n"
     ]
    }
   ],
   "source": [
    "def search_latino(x):\n",
    "    try:\n",
    "        if len(x.split('@LatinoLeader')) > 1:\n",
    "            return True\n",
    "        else:\n",
    "            return False\n",
    "    except:\n",
    "        return False\n",
    "\n",
    "search_udf = udf(lambda x: search_latino(x), BooleanType())\n",
    "lat = df.withColumn('latino',search_udf('Tweet'))\n",
    "lat.filter('latino == True').show(5)"
   ]
  },
  {
   "cell_type": "code",
   "execution_count": 11,
   "metadata": {},
   "outputs": [
    {
     "output_type": "stream",
     "name": "stdout",
     "text": [
      "+--------------------+-------------+--------------------+-------------+\n|               Party|       Handle|               Tweet|       Latino|\n+--------------------+-------------+--------------------+-------------+\n|            Democrat|RepDarrenSoto|Today, Senate Dem...|             |\n|            Democrat|RepDarrenSoto|RT @WinterHavenSu...|             |\n|            Democrat|RepDarrenSoto|RT @NBCLatino: .@...|             |\n|Congress has allo...|         null|                null|         null|\n|            Democrat|RepDarrenSoto|RT @NALCABPolicy:...|@LatinoLeader|\n+--------------------+-------------+--------------------+-------------+\nonly showing top 5 rows\n\n"
     ]
    }
   ],
   "source": [
    "# Other way to to it\n",
    "df.withColumn('Latino',regexp_extract(df.Tweet, '(.)(@LatinoLeader)(.)',2)).show(5)"
   ]
  },
  {
   "cell_type": "markdown",
   "metadata": {},
   "source": [
    "## 2. Replace any value other than 'Democrate' or 'Republican' with 'Other' in the Party column.\n",
    "\n",
    "We can see from the output below, that there are several other values other than 'Democrate' or 'Republican' in the Part column. We are assuming that this is dirty data that needs to be cleaned up."
   ]
  },
  {
   "cell_type": "code",
   "execution_count": 12,
   "metadata": {},
   "outputs": [
    {
     "output_type": "stream",
     "name": "stdout",
     "text": [
      "+--------------------+-----+\n|               Party|count|\n+--------------------+-----+\n|          Republican|44392|\n|            Democrat|42068|\n|            That’s…\"|   28|\n|https://t.co/oc6J...|   22|\n|                 Now|   17|\n+--------------------+-----+\nonly showing top 5 rows\n\n"
     ]
    }
   ],
   "source": [
    "df.groupBy('Party').count().orderBy(desc('count')).show(5)"
   ]
  },
  {
   "cell_type": "code",
   "execution_count": 13,
   "metadata": {},
   "outputs": [
    {
     "output_type": "stream",
     "name": "stdout",
     "text": [
      "+--------------------+-------------+--------------------+------------+\n|               Party|       Handle|               Tweet|correct_name|\n+--------------------+-------------+--------------------+------------+\n|            Democrat|RepDarrenSoto|Today, Senate Dem...|    Democrat|\n|            Democrat|RepDarrenSoto|RT @WinterHavenSu...|    Democrat|\n|            Democrat|RepDarrenSoto|RT @NBCLatino: .@...|    Democrat|\n|Congress has allo...|         null|                null|       other|\n|            Democrat|RepDarrenSoto|RT @NALCABPolicy:...|    Democrat|\n+--------------------+-------------+--------------------+------------+\nonly showing top 5 rows\n\n"
     ]
    }
   ],
   "source": [
    "df.withColumn('correct_name', when(~df.Party.isin(['Democrat','Republican']),'other').otherwise(df.Party)).show(5)"
   ]
  },
  {
   "cell_type": "markdown",
   "metadata": {},
   "source": [
    "## 3. Delete all embedded links (ie. \"https:....)\n",
    "\n",
    "For example see the first row in the tweets dataframe. \n",
    "\n",
    "*Note: this may require an google search :)*"
   ]
  },
  {
   "cell_type": "code",
   "execution_count": 14,
   "metadata": {},
   "outputs": [
    {
     "output_type": "execute_result",
     "data": {
      "text/plain": [
       "'Today, Senate Dems vote to #SaveTheInternet. Proud to support similar #NetNeutrality legislation here in the House… https://t.co/n3tggDLU1L'"
      ]
     },
     "metadata": {},
     "execution_count": 14
    }
   ],
   "source": [
    "test = df.select('Tweet').limit(1).collect()[0]['Tweet']\n",
    "test"
   ]
  },
  {
   "cell_type": "code",
   "execution_count": 15,
   "metadata": {},
   "outputs": [
    {
     "output_type": "execute_result",
     "data": {
      "text/plain": [
       "'Today, Senate Dems vote to #SaveTheInternet. Proud to support similar #NetNeutrality legislation here in the House…'"
      ]
     },
     "metadata": {},
     "execution_count": 15
    }
   ],
   "source": [
    "import string\n",
    "\n",
    "def remove_url(x):\n",
    "    try:\n",
    "        return ' '.join([i for i in x.split(' ') if not i.startswith('https')])\n",
    "    except:\n",
    "        return 'no content'\n",
    "\n",
    "remove_url(test)"
   ]
  },
  {
   "cell_type": "code",
   "execution_count": 16,
   "metadata": {},
   "outputs": [
    {
     "output_type": "stream",
     "name": "stdout",
     "text": [
      "+--------------------------------------------------------------------------------------------------------------------------------------------+\n|cleaned_text                                                                                                                                |\n+--------------------------------------------------------------------------------------------------------------------------------------------+\n|Today, Senate Dems vote to #SaveTheInternet. Proud to support similar #NetNeutrality legislation here in the House…                         |\n|RT @WinterHavenSun: Winter Haven resident / Alta Vista teacher is one of several recognized by @RepDarrenSoto for National Teacher Apprecia…|\n|RT @NBCLatino: .@RepDarrenSoto noted that Hurricane Maria has left approximately $90 billion in damages.                                    |\n|no content                                                                                                                                  |\n|RT @NALCABPolicy: Meeting with @RepDarrenSoto . Thanks for taking the time to meet with @LatinoLeader ED Marucci Guzman. #NALCABPolicy2018.…|\n+--------------------------------------------------------------------------------------------------------------------------------------------+\nonly showing top 5 rows\n\n"
     ]
    }
   ],
   "source": [
    "clean_url = udf(lambda x: remove_url(x), StringType())\n",
    "df.withColumn('cleaned_text', clean_url('Tweet')).select('cleaned_text').show(5,truncate=False)"
   ]
  },
  {
   "cell_type": "markdown",
   "metadata": {},
   "source": [
    "## 4. Remove any leading or trailing white space in the tweet column"
   ]
  },
  {
   "cell_type": "code",
   "execution_count": 17,
   "metadata": {},
   "outputs": [
    {
     "output_type": "stream",
     "name": "stdout",
     "text": [
      "+--------------------+-------------+--------------------+--------------------+\n|               Party|       Handle|               Tweet|       trimmed_tweet|\n+--------------------+-------------+--------------------+--------------------+\n|            Democrat|RepDarrenSoto|Today, Senate Dem...|Today, Senate Dem...|\n|            Democrat|RepDarrenSoto|RT @WinterHavenSu...|RT @WinterHavenSu...|\n|            Democrat|RepDarrenSoto|RT @NBCLatino: .@...|RT @NBCLatino: .@...|\n|Congress has allo...|         null|                null|                null|\n|            Democrat|RepDarrenSoto|RT @NALCABPolicy:...|RT @NALCABPolicy:...|\n+--------------------+-------------+--------------------+--------------------+\nonly showing top 5 rows\n\n"
     ]
    }
   ],
   "source": [
    "df.withColumn('trimmed_tweet', trim('Tweet')).show(5)"
   ]
  },
  {
   "cell_type": "markdown",
   "metadata": {},
   "source": [
    "## 5. Rename the 'Party' column to 'Dem_Rep'\n",
    "\n",
    "No real reason here :) just wanted you to get practice doing this. "
   ]
  },
  {
   "cell_type": "code",
   "execution_count": 18,
   "metadata": {},
   "outputs": [
    {
     "output_type": "stream",
     "name": "stdout",
     "text": [
      "+--------------------+-------------+--------------------+\n|             Dem_Rep|       Handle|               Tweet|\n+--------------------+-------------+--------------------+\n|            Democrat|RepDarrenSoto|Today, Senate Dem...|\n|            Democrat|RepDarrenSoto|RT @WinterHavenSu...|\n|            Democrat|RepDarrenSoto|RT @NBCLatino: .@...|\n|Congress has allo...|         null|                null|\n|            Democrat|RepDarrenSoto|RT @NALCABPolicy:...|\n+--------------------+-------------+--------------------+\nonly showing top 5 rows\n\n"
     ]
    }
   ],
   "source": [
    "df.withColumnRenamed('Party','Dem_Rep').show(5)"
   ]
  },
  {
   "cell_type": "markdown",
   "metadata": {},
   "source": [
    "## 6. Concatenate the Party and Handle columns\n",
    "\n",
    "Silly yes... but good practice.\n",
    "\n",
    "pyspark.sql.functions.concat_ws(sep, *cols)[source] <br>\n",
    "Concatenates multiple input string columns together into a single string column, using the given separator."
   ]
  },
  {
   "cell_type": "code",
   "execution_count": 19,
   "metadata": {},
   "outputs": [
    {
     "output_type": "stream",
     "name": "stdout",
     "text": [
      "+--------------------+-------------+--------------------+--------------------+\n|               Party|       Handle|               Tweet|              concat|\n+--------------------+-------------+--------------------+--------------------+\n|            Democrat|RepDarrenSoto|Today, Senate Dem...|Democrat - RepDar...|\n|            Democrat|RepDarrenSoto|RT @WinterHavenSu...|Democrat - RepDar...|\n|            Democrat|RepDarrenSoto|RT @NBCLatino: .@...|Democrat - RepDar...|\n|Congress has allo...|         null|                null|Congress has allo...|\n|            Democrat|RepDarrenSoto|RT @NALCABPolicy:...|Democrat - RepDar...|\n+--------------------+-------------+--------------------+--------------------+\nonly showing top 5 rows\n\n"
     ]
    }
   ],
   "source": [
    "df.withColumn('concat', concat_ws(' - ','Party','Handle')).show(5)"
   ]
  },
  {
   "cell_type": "markdown",
   "metadata": {},
   "source": [
    "## Challenge Question\n",
    "\n",
    "Let's image that we want to analyze the hashtags that are used in these tweets. Can you extract all the hashtags you see?"
   ]
  },
  {
   "cell_type": "code",
   "execution_count": 20,
   "metadata": {},
   "outputs": [
    {
     "output_type": "stream",
     "name": "stdout",
     "text": [
      "+--------------------+-------------+--------------------+--------------------+\n|               Party|       Handle|               Tweet|             Hastags|\n+--------------------+-------------+--------------------+--------------------+\n|            Democrat|RepDarrenSoto|Today, Senate Dem...|#SaveTheInternet....|\n|            Democrat|RepDarrenSoto|RT @WinterHavenSu...|                    |\n|            Democrat|RepDarrenSoto|RT @NBCLatino: .@...|                    |\n|Congress has allo...|         null|                null|                    |\n|            Democrat|RepDarrenSoto|RT @NALCABPolicy:...| #NALCABPolicy2018.…|\n|            Democrat|RepDarrenSoto|RT @Vegalteno: Hu...|                    |\n|            Democrat|RepDarrenSoto|RT @EmgageActionF...|                    |\n|            Democrat|RepDarrenSoto|Hurricane Maria l...|                    |\n|            Democrat|RepDarrenSoto|RT @Tharryry: I a...|      #NetNeutrality|\n|            Democrat|RepDarrenSoto|RT @HispanicCaucu...|                    |\n+--------------------+-------------+--------------------+--------------------+\nonly showing top 10 rows\n\n"
     ]
    }
   ],
   "source": [
    "def extract_hashtags(x):\n",
    "    try:\n",
    "        return ' '.join([i for i in x.split(' ') if i.startswith('#')])\n",
    "    except:\n",
    "        return ''\n",
    "\n",
    "extract_hashtags(test)\n",
    "hastags_udf = udf(lambda x: extract_hashtags(x), StringType())\n",
    "\n",
    "df.withColumn('Hastags',hastags_udf('Tweet')).show(10)"
   ]
  },
  {
   "cell_type": "markdown",
   "metadata": {},
   "source": [
    "# Let's create our own dataset to work with real dates\n",
    "\n",
    "This is a dataset of patient visits from a medical office. It contains the patients first and last names, date of birth, and the dates of their first 3 visits. "
   ]
  },
  {
   "cell_type": "code",
   "execution_count": 21,
   "metadata": {},
   "outputs": [
    {
     "output_type": "stream",
     "name": "stdout",
     "text": [
      "+----------+---------+----------+--------+---------+---------+\n|first_name|last_name|       dob|  visit1|   visit2|   visit3|\n+----------+---------+----------+--------+---------+---------+\n|  Mohammed|   Alfasy|  1987-4-8|2016-1-7| 2017-2-3| 2018-3-2|\n|     Marcy|Wellmaker|  1986-4-8|2015-1-7| 2017-1-3| 2018-1-2|\n|     Ginny|   Ginger| 1986-7-10|2014-8-7| 2015-2-3| 2016-3-2|\n|     Vijay| Doberson|  1988-5-2|2016-1-7| 2018-2-3| 2018-3-2|\n|     Orhan|  Gelicek| 1987-5-11|2016-5-7| 2017-1-3| 2018-9-2|\n|     Sarah|    Jones|  1956-7-6|2016-4-7| 2017-8-3|2018-10-2|\n|      John|  Johnson|2017-10-12|2018-1-2|2018-10-3| 2018-3-2|\n+----------+---------+----------+--------+---------+---------+\n\nroot\n |-- first_name: string (nullable = true)\n |-- last_name: string (nullable = true)\n |-- dob: string (nullable = true)\n |-- visit1: string (nullable = true)\n |-- visit2: string (nullable = true)\n |-- visit3: string (nullable = true)\n\nNone\n"
     ]
    }
   ],
   "source": [
    "from pyspark.sql.types import *\n",
    "\n",
    "md_office = [('Mohammed','Alfasy','1987-4-8','2016-1-7','2017-2-3','2018-3-2') \\\n",
    "            ,('Marcy','Wellmaker','1986-4-8','2015-1-7','2017-1-3','2018-1-2') \\\n",
    "            ,('Ginny','Ginger','1986-7-10','2014-8-7','2015-2-3','2016-3-2') \\\n",
    "            ,('Vijay','Doberson','1988-5-2','2016-1-7','2018-2-3','2018-3-2') \\\n",
    "            ,('Orhan','Gelicek','1987-5-11','2016-5-7','2017-1-3','2018-9-2') \\\n",
    "            ,('Sarah','Jones','1956-7-6','2016-4-7','2017-8-3','2018-10-2') \\\n",
    "            ,('John','Johnson','2017-10-12','2018-1-2','2018-10-3','2018-3-2') ]\n",
    "\n",
    "df = spark.createDataFrame(md_office,['first_name','last_name','dob','visit1','visit2','visit3']) # schema=final_struc\n",
    "\n",
    "# Check to make sure it worked\n",
    "df.show()\n",
    "print(df.printSchema())"
   ]
  },
  {
   "cell_type": "markdown",
   "metadata": {},
   "source": [
    "Oh no! The dates are still stored as text... let's try converting them again and see if we have any issues this time."
   ]
  },
  {
   "cell_type": "code",
   "execution_count": 22,
   "metadata": {},
   "outputs": [
    {
     "output_type": "stream",
     "name": "stdout",
     "text": [
      "root\n |-- first_name: string (nullable = true)\n |-- last_name: string (nullable = true)\n |-- dob: date (nullable = true)\n |-- visit1: date (nullable = true)\n |-- visit2: date (nullable = true)\n |-- visit3: date (nullable = true)\n\n"
     ]
    }
   ],
   "source": [
    "df = df.withColumn('dob', df.dob.cast(DateType())) \\\n",
    "    .withColumn('visit1', df.visit1.cast(DateType())) \\\n",
    "    .withColumn('visit2', df.visit2.cast(DateType())) \\\n",
    "    .withColumn('visit3', df.visit3.cast(DateType()))\n",
    "\n",
    "df.printSchema()"
   ]
  },
  {
   "cell_type": "markdown",
   "metadata": {},
   "source": [
    "## 7. Can you calculate a variable showing the length of time between patient visits?\n",
    "\n",
    "Compare visit1 to visit2 and visit2 to visit3 for all patients and see what the average length of time is between visits. Create an alias for it as well. "
   ]
  },
  {
   "cell_type": "code",
   "execution_count": 23,
   "metadata": {},
   "outputs": [
    {
     "output_type": "stream",
     "name": "stdout",
     "text": [
      "+----------+---------+----------+----------+----------+----------+-----+-----+\n|first_name|last_name|       dob|    visit1|    visit2|    visit3|v1-v2|v2-v3|\n+----------+---------+----------+----------+----------+----------+-----+-----+\n|  Mohammed|   Alfasy|1987-04-08|2016-01-07|2017-02-03|2018-03-02|  393|  392|\n|     Marcy|Wellmaker|1986-04-08|2015-01-07|2017-01-03|2018-01-02|  727|  364|\n|     Ginny|   Ginger|1986-07-10|2014-08-07|2015-02-03|2016-03-02|  180|  393|\n|     Vijay| Doberson|1988-05-02|2016-01-07|2018-02-03|2018-03-02|  758|   27|\n|     Orhan|  Gelicek|1987-05-11|2016-05-07|2017-01-03|2018-09-02|  241|  607|\n+----------+---------+----------+----------+----------+----------+-----+-----+\nonly showing top 5 rows\n\n"
     ]
    }
   ],
   "source": [
    "df.withColumn('v1-v2',datediff(df.visit2,df.visit1)).withColumn('v2-v3',datediff(df.visit3,df.visit2)).show(5)"
   ]
  },
  {
   "cell_type": "markdown",
   "metadata": {},
   "source": [
    "## 8. Can you calculate the age of each patient?"
   ]
  },
  {
   "cell_type": "code",
   "execution_count": 25,
   "metadata": {},
   "outputs": [
    {
     "output_type": "stream",
     "name": "stdout",
     "text": [
      "+----------+---------+----------+----------+----------+----------+---+\n|first_name|last_name|       dob|    visit1|    visit2|    visit3|age|\n+----------+---------+----------+----------+----------+----------+---+\n|  Mohammed|   Alfasy|1987-04-08|2016-01-07|2017-02-03|2018-03-02| 34|\n|     Marcy|Wellmaker|1986-04-08|2015-01-07|2017-01-03|2018-01-02| 35|\n|     Ginny|   Ginger|1986-07-10|2014-08-07|2015-02-03|2016-03-02| 35|\n|     Vijay| Doberson|1988-05-02|2016-01-07|2018-02-03|2018-03-02| 33|\n|     Orhan|  Gelicek|1987-05-11|2016-05-07|2017-01-03|2018-09-02| 34|\n+----------+---------+----------+----------+----------+----------+---+\nonly showing top 5 rows\n\n"
     ]
    }
   ],
   "source": [
    "df.withColumn('age',ceil(datediff(current_date(),df.dob)/365)).show(5) # ceil = round"
   ]
  },
  {
   "cell_type": "markdown",
   "metadata": {},
   "source": [
    "## 9. Can you extract the month from the first visit column and call it \"Month\"?"
   ]
  },
  {
   "cell_type": "code",
   "execution_count": 26,
   "metadata": {},
   "outputs": [
    {
     "output_type": "stream",
     "name": "stdout",
     "text": [
      "+-----+\n|month|\n+-----+\n|    1|\n|    1|\n|    8|\n|    1|\n|    5|\n+-----+\nonly showing top 5 rows\n\n"
     ]
    }
   ],
   "source": [
    "df.select(month('visit1').alias('month')).show(5)"
   ]
  },
  {
   "cell_type": "markdown",
   "metadata": {},
   "source": [
    "## 10. Challenges with working with date and timestamps\n",
    "\n",
    "Let's read in the supermarket sales dataframe attached to the lecture now and see some of the issues that can come up when working with date and timestamps values."
   ]
  },
  {
   "cell_type": "code",
   "execution_count": 42,
   "metadata": {},
   "outputs": [
    {
     "output_type": "execute_result",
     "data": {
      "text/plain": [
       "    Invoice ID Branch       City Customer type  Gender  \\\n",
       "0  750-67-8428      A     Yangon        Member  Female   \n",
       "1  226-31-3081      C  Naypyitaw        Normal  Female   \n",
       "2  631-41-3108      A     Yangon        Normal    Male   \n",
       "3  123-19-1176      A     Yangon        Member    Male   \n",
       "4  373-73-7910      A     Yangon        Normal    Male   \n",
       "\n",
       "             Product line  Unit price  Quantity   Tax 5%     Total       Date  \\\n",
       "0       Health and beauty       74.69         7  26.1415  548.9715   1/5/2019   \n",
       "1  Electronic accessories       15.28         5   3.8200   80.2200   3/8/2019   \n",
       "2      Home and lifestyle       46.33         7  16.2155  340.5255   3/3/2019   \n",
       "3       Health and beauty       58.22         8  23.2880  489.0480  1/27/2019   \n",
       "4       Sports and travel       86.31         7  30.2085  634.3785   2/8/2019   \n",
       "\n",
       "    Time      Payment    cogs  gross margin percentage  gross income  Rating  \n",
       "0  13:08      Ewallet  522.83                 4.761905       26.1415     9.1  \n",
       "1  10:29         Cash   76.40                 4.761905        3.8200     9.6  \n",
       "2  13:23  Credit card  324.31                 4.761905       16.2155     7.4  \n",
       "3  20:33      Ewallet  465.76                 4.761905       23.2880     8.4  \n",
       "4  10:37      Ewallet  604.17                 4.761905       30.2085     5.3  "
      ],
      "text/html": "<div>\n<style scoped>\n    .dataframe tbody tr th:only-of-type {\n        vertical-align: middle;\n    }\n\n    .dataframe tbody tr th {\n        vertical-align: top;\n    }\n\n    .dataframe thead th {\n        text-align: right;\n    }\n</style>\n<table border=\"1\" class=\"dataframe\">\n  <thead>\n    <tr style=\"text-align: right;\">\n      <th></th>\n      <th>Invoice ID</th>\n      <th>Branch</th>\n      <th>City</th>\n      <th>Customer type</th>\n      <th>Gender</th>\n      <th>Product line</th>\n      <th>Unit price</th>\n      <th>Quantity</th>\n      <th>Tax 5%</th>\n      <th>Total</th>\n      <th>Date</th>\n      <th>Time</th>\n      <th>Payment</th>\n      <th>cogs</th>\n      <th>gross margin percentage</th>\n      <th>gross income</th>\n      <th>Rating</th>\n    </tr>\n  </thead>\n  <tbody>\n    <tr>\n      <th>0</th>\n      <td>750-67-8428</td>\n      <td>A</td>\n      <td>Yangon</td>\n      <td>Member</td>\n      <td>Female</td>\n      <td>Health and beauty</td>\n      <td>74.69</td>\n      <td>7</td>\n      <td>26.1415</td>\n      <td>548.9715</td>\n      <td>1/5/2019</td>\n      <td>13:08</td>\n      <td>Ewallet</td>\n      <td>522.83</td>\n      <td>4.761905</td>\n      <td>26.1415</td>\n      <td>9.1</td>\n    </tr>\n    <tr>\n      <th>1</th>\n      <td>226-31-3081</td>\n      <td>C</td>\n      <td>Naypyitaw</td>\n      <td>Normal</td>\n      <td>Female</td>\n      <td>Electronic accessories</td>\n      <td>15.28</td>\n      <td>5</td>\n      <td>3.8200</td>\n      <td>80.2200</td>\n      <td>3/8/2019</td>\n      <td>10:29</td>\n      <td>Cash</td>\n      <td>76.40</td>\n      <td>4.761905</td>\n      <td>3.8200</td>\n      <td>9.6</td>\n    </tr>\n    <tr>\n      <th>2</th>\n      <td>631-41-3108</td>\n      <td>A</td>\n      <td>Yangon</td>\n      <td>Normal</td>\n      <td>Male</td>\n      <td>Home and lifestyle</td>\n      <td>46.33</td>\n      <td>7</td>\n      <td>16.2155</td>\n      <td>340.5255</td>\n      <td>3/3/2019</td>\n      <td>13:23</td>\n      <td>Credit card</td>\n      <td>324.31</td>\n      <td>4.761905</td>\n      <td>16.2155</td>\n      <td>7.4</td>\n    </tr>\n    <tr>\n      <th>3</th>\n      <td>123-19-1176</td>\n      <td>A</td>\n      <td>Yangon</td>\n      <td>Member</td>\n      <td>Male</td>\n      <td>Health and beauty</td>\n      <td>58.22</td>\n      <td>8</td>\n      <td>23.2880</td>\n      <td>489.0480</td>\n      <td>1/27/2019</td>\n      <td>20:33</td>\n      <td>Ewallet</td>\n      <td>465.76</td>\n      <td>4.761905</td>\n      <td>23.2880</td>\n      <td>8.4</td>\n    </tr>\n    <tr>\n      <th>4</th>\n      <td>373-73-7910</td>\n      <td>A</td>\n      <td>Yangon</td>\n      <td>Normal</td>\n      <td>Male</td>\n      <td>Sports and travel</td>\n      <td>86.31</td>\n      <td>7</td>\n      <td>30.2085</td>\n      <td>634.3785</td>\n      <td>2/8/2019</td>\n      <td>10:37</td>\n      <td>Ewallet</td>\n      <td>604.17</td>\n      <td>4.761905</td>\n      <td>30.2085</td>\n      <td>5.3</td>\n    </tr>\n  </tbody>\n</table>\n</div>"
     },
     "metadata": {},
     "execution_count": 42
    }
   ],
   "source": [
    "spm = spark.read.csv('Datasets/supermarket_sales.csv', inferSchema=True,header=True)\n",
    "spm.limit(5).toPandas()"
   ]
  },
  {
   "cell_type": "markdown",
   "metadata": {},
   "source": [
    "## About this dataset\n",
    "\n",
    "The growth of supermarkets in most populated cities are increasing and market competitions are also high. The dataset is one of the historical sales of supermarket company which has recorded in 3 different branches for 3 months data. \n",
    "\n",
    " - Attribute information\n",
    " - Invoice id: Computer generated sales slip invoice identification number\n",
    " - Branch: Branch of supercenter (3 branches are available identified by A, B and C).\n",
    " - City: Location of supercenters\n",
    " - Customer type: Type of customers, recorded by Members for customers using member card and Normal for without member card.\n",
    " - Gender: Gender type of customer\n",
    " - Product line: General item categorization groups - Electronic accessories, Fashion accessories, Food and beverages, Health and beauty, Home and lifestyle, Sports and travel\n",
    " - Unit price: Price of each product in USD\n",
    " - Quantity: Number of products purchased by customer\n",
    " - Tax: 5% tax fee for customer buying\n",
    " - Total: Total price including tax\n",
    " - Date: Date of purchase (Record available from January 2019 to March 2019)\n",
    " - Time: Purchase time (10am to 9pm)\n",
    " - Payment: Payment used by customer for purchase (3 methods are available – Cash, Credit card and Ewallet)\n",
    " - COGS: Cost of goods sold\n",
    " - Gross margin percentage: Gross margin percentage\n",
    " - Gross income: Gross income\n",
    " - Rating: Customer stratification rating on their overall shopping experience (On a scale of 1 to 10)\n",
    "\n",
    "**Source:** https://www.kaggle.com/aungpyaeap/supermarket-sales"
   ]
  },
  {
   "cell_type": "markdown",
   "metadata": {},
   "source": [
    "### View dataframe and schema as usual"
   ]
  },
  {
   "cell_type": "code",
   "execution_count": 43,
   "metadata": {},
   "outputs": [
    {
     "output_type": "stream",
     "name": "stdout",
     "text": [
      "root\n |-- Invoice ID: string (nullable = true)\n |-- Branch: string (nullable = true)\n |-- City: string (nullable = true)\n |-- Customer type: string (nullable = true)\n |-- Gender: string (nullable = true)\n |-- Product line: string (nullable = true)\n |-- Unit price: double (nullable = true)\n |-- Quantity: integer (nullable = true)\n |-- Tax 5%: double (nullable = true)\n |-- Total: double (nullable = true)\n |-- Date: string (nullable = true)\n |-- Time: string (nullable = true)\n |-- Payment: string (nullable = true)\n |-- cogs: double (nullable = true)\n |-- gross margin percentage: double (nullable = true)\n |-- gross income: double (nullable = true)\n |-- Rating: double (nullable = true)\n\n"
     ]
    }
   ],
   "source": [
    "spm.printSchema()"
   ]
  },
  {
   "cell_type": "markdown",
   "metadata": {},
   "source": [
    "### Convert date field to date type\n",
    "\n",
    "Looks like we need to convert the date field into a date type. Let's go ahead and do that.."
   ]
  },
  {
   "cell_type": "code",
   "execution_count": 49,
   "metadata": {},
   "outputs": [
    {
     "output_type": "stream",
     "name": "stdout",
     "text": [
      "+----+\n|Date|\n+----+\n|null|\n|null|\n|null|\n|null|\n|null|\n+----+\nonly showing top 5 rows\n\n"
     ]
    }
   ],
   "source": [
    "spm.withColumn('Date', to_date('Date')).select('Date').show(5)"
   ]
  },
  {
   "cell_type": "code",
   "execution_count": 56,
   "metadata": {},
   "outputs": [
    {
     "output_type": "stream",
     "name": "stdout",
     "text": [
      "+----------+\n|      Date|\n+----------+\n|2019-01-05|\n|2019-03-08|\n|2019-03-03|\n|2019-01-27|\n|2019-02-08|\n+----------+\nonly showing top 5 rows\n\n"
     ]
    }
   ],
   "source": [
    "def correct_date(x):\n",
    "    try:\n",
    "        return x.split('/')[2]+'-'+x.split('/')[0]+'-'+x.split('/')[1]\n",
    "    except:\n",
    "        return ''\n",
    "\n",
    "udf_dates = udf(lambda x: correct_date(x), StringType())\n",
    "spm = spm.withColumn('Date', to_date(udf_dates('Date')))\n",
    "spm.select('Date').show(5)"
   ]
  },
  {
   "cell_type": "markdown",
   "metadata": {},
   "source": [
    "### How can we extract the month value from the date field?\n",
    "\n",
    "If you had trouble converting the date field in the previous question think about a more creative solution to extract the month from that field."
   ]
  },
  {
   "cell_type": "code",
   "execution_count": 57,
   "metadata": {},
   "outputs": [
    {
     "output_type": "stream",
     "name": "stdout",
     "text": [
      "+-----+\n|month|\n+-----+\n|    1|\n|    3|\n|    3|\n|    1|\n|    2|\n+-----+\nonly showing top 5 rows\n\n"
     ]
    }
   ],
   "source": [
    "spm.select(month('Date').alias('month')).show(5)"
   ]
  },
  {
   "cell_type": "markdown",
   "metadata": {},
   "source": [
    "## 11.0 Working with Arrays\n",
    "\n",
    "Here is a dataframe of reviews from the movie the Dark Night."
   ]
  },
  {
   "cell_type": "code",
   "execution_count": 58,
   "metadata": {},
   "outputs": [
    {
     "output_type": "stream",
     "name": "stdout",
     "text": [
      "+------+--------------------------------------------------------------------------------------+\n|rating|review_txt                                                                            |\n+------+--------------------------------------------------------------------------------------+\n|5     |Epic. This is the best movie I have EVER seen                                         |\n|4     |Pretty good, but I would have liked to seen better special effects                    |\n|3     |So so. Casting could have been improved                                               |\n|5     |The most EPIC movie of the year! Casting was awesome. Special effects were so intense.|\n|4     |Solid but I would have liked to see more of the love story                            |\n|5     |THE BOMB!!!!!!!                                                                       |\n+------+--------------------------------------------------------------------------------------+\n\n"
     ]
    }
   ],
   "source": [
    "from pyspark.sql.functions import *\n",
    "\n",
    "values = [(5,'Epic. This is the best movie I have EVER seen'), \\\n",
    "          (4,'Pretty good, but I would have liked to seen better special effects'), \\\n",
    "          (3,'So so. Casting could have been improved'), \\\n",
    "          (5,'The most EPIC movie of the year! Casting was awesome. Special effects were so intense.'), \\\n",
    "          (4,'Solid but I would have liked to see more of the love story'), \\\n",
    "          (5,'THE BOMB!!!!!!!')]\n",
    "reviews = spark.createDataFrame(values,['rating', 'review_txt'])\n",
    "\n",
    "reviews.show(6,False)"
   ]
  },
  {
   "cell_type": "markdown",
   "metadata": {},
   "source": [
    "## 11.1 Let's see if we can create an array off of the review text column and then derive some meaningful results from it.\n",
    "\n",
    "**But first** we need to clean the rview_txt column to make sure we can get what we need from our analysis later on. So let's do the following:\n",
    "\n",
    "1. Remove all punctuation\n",
    "2. lower case everything\n",
    "3. Remove white space (trim)\n",
    "3. Then finally, split the string"
   ]
  },
  {
   "cell_type": "code",
   "execution_count": 66,
   "metadata": {},
   "outputs": [
    {
     "output_type": "stream",
     "name": "stdout",
     "text": [
      "+------+--------------------+--------------------+\n|rating|          review_txt|        cleaned_text|\n+------+--------------------+--------------------+\n|     5|Epic. This is the...|[epic, this, is, ...|\n|     4|Pretty good, but ...|[pretty, good, bu...|\n|     3|So so. Casting co...|[so, so, casting,...|\n|     5|The most EPIC mov...|[the, most, epic,...|\n|     4|Solid but I would...|[solid, but, i, w...|\n+------+--------------------+--------------------+\nonly showing top 5 rows\n\n"
     ]
    }
   ],
   "source": [
    "reviews = reviews.withColumn('cleaned_text',regexp_replace('review_txt','[^\\sa-zA-Z0-9]',''))\n",
    "reviews = reviews.withColumn('cleaned_text',trim(lower('cleaned_text')))\n",
    "reviews = reviews.withColumn('cleaned_text',split('cleaned_text',' '))\n",
    "reviews.show(5)"
   ]
  },
  {
   "cell_type": "markdown",
   "metadata": {},
   "source": [
    "## 11.2 Alright now let's see if we can find which reviews contain the word 'Epic'"
   ]
  },
  {
   "cell_type": "code",
   "execution_count": 67,
   "metadata": {},
   "outputs": [
    {
     "output_type": "stream",
     "name": "stdout",
     "text": [
      "+------+--------------------+--------------------+----+\n|rating|          review_txt|        cleaned_text| Res|\n+------+--------------------+--------------------+----+\n|     5|Epic. This is the...|[epic, this, is, ...|true|\n|     5|The most EPIC mov...|[the, most, epic,...|true|\n+------+--------------------+--------------------+----+\n\n"
     ]
    }
   ],
   "source": [
    "reviews.withColumn('Res',array_contains('cleaned_text','epic')).filter('Res == True').show()"
   ]
  },
  {
   "cell_type": "markdown",
   "metadata": {},
   "source": [
    "### That's it! Great Job!"
   ]
  }
 ],
 "metadata": {
  "kernelspec": {
   "display_name": "Python 3",
   "language": "python",
   "name": "python3"
  },
  "language_info": {
   "codemirror_mode": {
    "name": "ipython",
    "version": 3
   },
   "file_extension": ".py",
   "mimetype": "text/x-python",
   "name": "python",
   "nbconvert_exporter": "python",
   "pygments_lexer": "ipython3",
   "version": "3.7.6"
  }
 },
 "nbformat": 4,
 "nbformat_minor": 2
}