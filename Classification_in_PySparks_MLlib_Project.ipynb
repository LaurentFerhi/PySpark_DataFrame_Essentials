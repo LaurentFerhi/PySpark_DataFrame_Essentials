{
 "cells": [
  {
   "cell_type": "markdown",
   "metadata": {},
   "source": [
    "# Classification in PySpark's MLlib Project Solution\n",
    "\n",
    "### Genre classification\n",
    "Now it's time to leverage what we learned in the lectures to a REAL classification project! Have you ever wondered what makes us, humans, able to tell apart two songs of different genres? How we do we inherenly know the difference between a pop song and heavy metal? This type of classifcation may seem easy for us, but it's a very difficult challenge for a computer to do. So the question is, could an automatic genre classifcation model be possible? \n",
    "\n",
    "For this project we will be classifying songs based on a number of characteristics into a set of 23 electronic genres. This technology could be used by an application like Pandora to recommend songs to users or just create meaningful channels. Super fun!\n",
    "\n",
    "### Dataset\n",
    "*beatsdataset.csv*\n",
    "Each row is an electronic music song. The dataset contains 100 song for each genre among 23 electronic music genres, they were the top (100) songs of their genres on November 2016. The 71 columns are audio features extracted of a two random minutes sample of the file audio. These features have been extracted using pyAudioAnalysis (https://github.com/tyiannak/pyAudioAnalysis).\n",
    "\n",
    "### Your task\n",
    "Create an algorithm that classifies songs into the 23 genres provided. Test out several different models and select the highest performing one. Also play around with feature selection methods and finally try to make a recommendation to a user.  \n",
    "\n",
    "For the feature selection aspect of this project, you may need to get a bit creative if you want to select features from a non-tree algorithm. I did not go over this aspect of PySpark intentionally in the previous lectures to give you chance to get used to researching the PySpark documentation page. Here is the link to the Feature Selectors section of the documentation that just might come in handy: https://spark.apache.org/docs/latest/ml-features.html#feature-selectors\n",
    "\n",
    "Good luck! Have fun :)\n",
    "\n",
    "### Source\n",
    "https://www.kaggle.com/caparrini/beatsdataset"
   ]
  },
  {
   "cell_type": "code",
   "execution_count": 18,
   "metadata": {},
   "outputs": [],
   "source": [
    "import findspark\n",
    "findspark.init()\n",
    "\n",
    "from pyspark.sql import SparkSession\n",
    "spark = SparkSession.builder.appName('ML Project').getOrCreate()"
   ]
  },
  {
   "cell_type": "code",
   "execution_count": 74,
   "metadata": {},
   "outputs": [],
   "source": [
    "from pyspark.sql.functions import *\n",
    "from pyspark.sql.types import *\n",
    "from pyspark.ml.feature import StringIndexer, VectorAssembler, StandardScaler, IndexToString\n",
    "from pyspark.ml import Pipeline\n",
    "from pyspark.ml.tuning import CrossValidator, ParamGridBuilder\n",
    "from pyspark.ml.evaluation import MulticlassClassificationEvaluator\n",
    "from pyspark.ml.classification import RandomForestClassifier, LogisticRegression\n",
    "from sklearn.metrics import classification_report"
   ]
  },
  {
   "cell_type": "code",
   "execution_count": 20,
   "metadata": {},
   "outputs": [
    {
     "output_type": "execute_result",
     "data": {
      "text/plain": [
       "   _c0    1-ZCRm  2-Energym  3-EnergyEntropym  4-SpectralCentroidm  \\\n",
       "0    0  0.136440   0.088861          3.201201             0.262825   \n",
       "1    1  0.117039   0.108389          3.194001             0.247657   \n",
       "2    2  0.085308   0.128525          3.123837             0.217205   \n",
       "3    3  0.103050   0.167042          3.150830             0.233593   \n",
       "4    4  0.151730   0.148405          3.194498             0.293730   \n",
       "\n",
       "   5-SpectralSpreadm  6-SpectralEntropym  7-SpectralFluxm  8-SpectralRolloffm  \\\n",
       "0           0.249212            1.114423         0.007003            0.256682   \n",
       "1           0.250288            1.065668         0.005387            0.199821   \n",
       "2           0.228652            0.789647         0.008247            0.156822   \n",
       "3           0.245032            0.967082         0.006571            0.168083   \n",
       "4           0.267231            1.353005         0.003872            0.292055   \n",
       "\n",
       "   9-MFCCs1m  ...  63-ChromaVector8std  64-ChromaVector9std  \\\n",
       "0 -22.723259  ...             0.003431             0.004981   \n",
       "1 -21.775871  ...             0.004461             0.006441   \n",
       "2 -22.472722  ...             0.001529             0.004556   \n",
       "3 -21.470751  ...             0.001591             0.003514   \n",
       "4 -21.371157  ...             0.003945             0.004131   \n",
       "\n",
       "   65-ChromaVector10std  66-ChromaVector11std  67-ChromaVector12std  \\\n",
       "0              0.010818              0.024001              0.005201   \n",
       "1              0.007469              0.015499              0.005589   \n",
       "2              0.007723              0.017482              0.002901   \n",
       "3              0.009477              0.023162              0.004165   \n",
       "4              0.011330              0.028188              0.002639   \n",
       "\n",
       "   68-ChromaDeviationstd      69-BPM  70-BPMconf  71-BPMessentia    class  \n",
       "0               0.015056  133.333333    0.132792           128.0  BigRoom  \n",
       "1               0.019339  120.000000    0.112767           126.0  BigRoom  \n",
       "2               0.022201  133.333333    0.123373           129.0  BigRoom  \n",
       "3               0.015379  133.333333    0.158876           129.0  BigRoom  \n",
       "4               0.019079  133.333333    0.190708           129.0  BigRoom  \n",
       "\n",
       "[5 rows x 73 columns]"
      ],
      "text/html": "<div>\n<style scoped>\n    .dataframe tbody tr th:only-of-type {\n        vertical-align: middle;\n    }\n\n    .dataframe tbody tr th {\n        vertical-align: top;\n    }\n\n    .dataframe thead th {\n        text-align: right;\n    }\n</style>\n<table border=\"1\" class=\"dataframe\">\n  <thead>\n    <tr style=\"text-align: right;\">\n      <th></th>\n      <th>_c0</th>\n      <th>1-ZCRm</th>\n      <th>2-Energym</th>\n      <th>3-EnergyEntropym</th>\n      <th>4-SpectralCentroidm</th>\n      <th>5-SpectralSpreadm</th>\n      <th>6-SpectralEntropym</th>\n      <th>7-SpectralFluxm</th>\n      <th>8-SpectralRolloffm</th>\n      <th>9-MFCCs1m</th>\n      <th>...</th>\n      <th>63-ChromaVector8std</th>\n      <th>64-ChromaVector9std</th>\n      <th>65-ChromaVector10std</th>\n      <th>66-ChromaVector11std</th>\n      <th>67-ChromaVector12std</th>\n      <th>68-ChromaDeviationstd</th>\n      <th>69-BPM</th>\n      <th>70-BPMconf</th>\n      <th>71-BPMessentia</th>\n      <th>class</th>\n    </tr>\n  </thead>\n  <tbody>\n    <tr>\n      <th>0</th>\n      <td>0</td>\n      <td>0.136440</td>\n      <td>0.088861</td>\n      <td>3.201201</td>\n      <td>0.262825</td>\n      <td>0.249212</td>\n      <td>1.114423</td>\n      <td>0.007003</td>\n      <td>0.256682</td>\n      <td>-22.723259</td>\n      <td>...</td>\n      <td>0.003431</td>\n      <td>0.004981</td>\n      <td>0.010818</td>\n      <td>0.024001</td>\n      <td>0.005201</td>\n      <td>0.015056</td>\n      <td>133.333333</td>\n      <td>0.132792</td>\n      <td>128.0</td>\n      <td>BigRoom</td>\n    </tr>\n    <tr>\n      <th>1</th>\n      <td>1</td>\n      <td>0.117039</td>\n      <td>0.108389</td>\n      <td>3.194001</td>\n      <td>0.247657</td>\n      <td>0.250288</td>\n      <td>1.065668</td>\n      <td>0.005387</td>\n      <td>0.199821</td>\n      <td>-21.775871</td>\n      <td>...</td>\n      <td>0.004461</td>\n      <td>0.006441</td>\n      <td>0.007469</td>\n      <td>0.015499</td>\n      <td>0.005589</td>\n      <td>0.019339</td>\n      <td>120.000000</td>\n      <td>0.112767</td>\n      <td>126.0</td>\n      <td>BigRoom</td>\n    </tr>\n    <tr>\n      <th>2</th>\n      <td>2</td>\n      <td>0.085308</td>\n      <td>0.128525</td>\n      <td>3.123837</td>\n      <td>0.217205</td>\n      <td>0.228652</td>\n      <td>0.789647</td>\n      <td>0.008247</td>\n      <td>0.156822</td>\n      <td>-22.472722</td>\n      <td>...</td>\n      <td>0.001529</td>\n      <td>0.004556</td>\n      <td>0.007723</td>\n      <td>0.017482</td>\n      <td>0.002901</td>\n      <td>0.022201</td>\n      <td>133.333333</td>\n      <td>0.123373</td>\n      <td>129.0</td>\n      <td>BigRoom</td>\n    </tr>\n    <tr>\n      <th>3</th>\n      <td>3</td>\n      <td>0.103050</td>\n      <td>0.167042</td>\n      <td>3.150830</td>\n      <td>0.233593</td>\n      <td>0.245032</td>\n      <td>0.967082</td>\n      <td>0.006571</td>\n      <td>0.168083</td>\n      <td>-21.470751</td>\n      <td>...</td>\n      <td>0.001591</td>\n      <td>0.003514</td>\n      <td>0.009477</td>\n      <td>0.023162</td>\n      <td>0.004165</td>\n      <td>0.015379</td>\n      <td>133.333333</td>\n      <td>0.158876</td>\n      <td>129.0</td>\n      <td>BigRoom</td>\n    </tr>\n    <tr>\n      <th>4</th>\n      <td>4</td>\n      <td>0.151730</td>\n      <td>0.148405</td>\n      <td>3.194498</td>\n      <td>0.293730</td>\n      <td>0.267231</td>\n      <td>1.353005</td>\n      <td>0.003872</td>\n      <td>0.292055</td>\n      <td>-21.371157</td>\n      <td>...</td>\n      <td>0.003945</td>\n      <td>0.004131</td>\n      <td>0.011330</td>\n      <td>0.028188</td>\n      <td>0.002639</td>\n      <td>0.019079</td>\n      <td>133.333333</td>\n      <td>0.190708</td>\n      <td>129.0</td>\n      <td>BigRoom</td>\n    </tr>\n  </tbody>\n</table>\n<p>5 rows × 73 columns</p>\n</div>"
     },
     "metadata": {},
     "execution_count": 20
    }
   ],
   "source": [
    "df = spark.read.csv('Datasets/beatsdataset.csv', inferSchema=True, header=True)\n",
    "df.limit(5).toPandas()"
   ]
  },
  {
   "cell_type": "code",
   "execution_count": 21,
   "metadata": {},
   "outputs": [
    {
     "output_type": "stream",
     "name": "stdout",
     "text": [
      "root\n |-- _c0: integer (nullable = true)\n |-- 1-ZCRm: double (nullable = true)\n |-- 2-Energym: double (nullable = true)\n |-- 3-EnergyEntropym: double (nullable = true)\n |-- 4-SpectralCentroidm: double (nullable = true)\n |-- 5-SpectralSpreadm: double (nullable = true)\n |-- 6-SpectralEntropym: double (nullable = true)\n |-- 7-SpectralFluxm: double (nullable = true)\n |-- 8-SpectralRolloffm: double (nullable = true)\n |-- 9-MFCCs1m: double (nullable = true)\n |-- 10-MFCCs2m: double (nullable = true)\n |-- 11-MFCCs3m: double (nullable = true)\n |-- 12-MFCCs4m: double (nullable = true)\n |-- 13-MFCCs5m: double (nullable = true)\n |-- 14-MFCCs6m: double (nullable = true)\n |-- 15-MFCCs7m: double (nullable = true)\n |-- 16-MFCCs8m: double (nullable = true)\n |-- 17-MFCCs9m: double (nullable = true)\n |-- 18-MFCCs10m: double (nullable = true)\n |-- 19-MFCCs11m: double (nullable = true)\n |-- 20-MFCCs12m: double (nullable = true)\n |-- 21-MFCCs13m: double (nullable = true)\n |-- 22-ChromaVector1m: double (nullable = true)\n |-- 23-ChromaVector2m: double (nullable = true)\n |-- 24-ChromaVector3m: double (nullable = true)\n |-- 25-ChromaVector4m: double (nullable = true)\n |-- 26-ChromaVector5m: double (nullable = true)\n |-- 27-ChromaVector6m: double (nullable = true)\n |-- 28-ChromaVector7m: double (nullable = true)\n |-- 29-ChromaVector8m: double (nullable = true)\n |-- 30-ChromaVector9m: double (nullable = true)\n |-- 31-ChromaVector10m: double (nullable = true)\n |-- 32-ChromaVector11m: double (nullable = true)\n |-- 33-ChromaVector12m: double (nullable = true)\n |-- 34-ChromaDeviationm: double (nullable = true)\n |-- 35-ZCRstd: double (nullable = true)\n |-- 36-Energystd: double (nullable = true)\n |-- 37-EnergyEntropystd: double (nullable = true)\n |-- 38-SpectralCentroidstd: double (nullable = true)\n |-- 39-SpectralSpreadstd: double (nullable = true)\n |-- 40-SpectralEntropystd: double (nullable = true)\n |-- 41-SpectralFluxstd: double (nullable = true)\n |-- 42-SpectralRolloffstd: double (nullable = true)\n |-- 43-MFCCs1std: double (nullable = true)\n |-- 44-MFCCs2std: double (nullable = true)\n |-- 45-MFCCs3std: double (nullable = true)\n |-- 46-MFCCs4std: double (nullable = true)\n |-- 47-MFCCs5std: double (nullable = true)\n |-- 48-MFCCs6std: double (nullable = true)\n |-- 49-MFCCs7std: double (nullable = true)\n |-- 50-MFCCs8std: double (nullable = true)\n |-- 51-MFCCs9std: double (nullable = true)\n |-- 52-MFCCs10std: double (nullable = true)\n |-- 53-MFCCs11std: double (nullable = true)\n |-- 54-MFCCs12std: double (nullable = true)\n |-- 55-MFCCs13std: double (nullable = true)\n |-- 56-ChromaVector1std: double (nullable = true)\n |-- 57-ChromaVector2std: double (nullable = true)\n |-- 58-ChromaVector3std: double (nullable = true)\n |-- 59-ChromaVector4std: double (nullable = true)\n |-- 60-ChromaVector5std: double (nullable = true)\n |-- 61-ChromaVector6std: double (nullable = true)\n |-- 62-ChromaVector7std: double (nullable = true)\n |-- 63-ChromaVector8std: double (nullable = true)\n |-- 64-ChromaVector9std: double (nullable = true)\n |-- 65-ChromaVector10std: double (nullable = true)\n |-- 66-ChromaVector11std: double (nullable = true)\n |-- 67-ChromaVector12std: double (nullable = true)\n |-- 68-ChromaDeviationstd: double (nullable = true)\n |-- 69-BPM: double (nullable = true)\n |-- 70-BPMconf: double (nullable = true)\n |-- 71-BPMessentia: double (nullable = true)\n |-- class: string (nullable = true)\n\n"
     ]
    }
   ],
   "source": [
    "df.printSchema()"
   ]
  },
  {
   "cell_type": "code",
   "execution_count": 22,
   "metadata": {},
   "outputs": [
    {
     "output_type": "execute_result",
     "data": {
      "text/plain": [
       "                     0\n",
       "_c0                  0\n",
       "37-EnergyEntropystd  0\n",
       "53-MFCCs11std        0\n",
       "52-MFCCs10std        0\n",
       "51-MFCCs9std         0\n",
       "...                 ..\n",
       "24-ChromaVector3m    0\n",
       "23-ChromaVector2m    0\n",
       "22-ChromaVector1m    0\n",
       "21-MFCCs13m          0\n",
       "class                0\n",
       "\n",
       "[73 rows x 1 columns]"
      ],
      "text/html": "<div>\n<style scoped>\n    .dataframe tbody tr th:only-of-type {\n        vertical-align: middle;\n    }\n\n    .dataframe tbody tr th {\n        vertical-align: top;\n    }\n\n    .dataframe thead th {\n        text-align: right;\n    }\n</style>\n<table border=\"1\" class=\"dataframe\">\n  <thead>\n    <tr style=\"text-align: right;\">\n      <th></th>\n      <th>0</th>\n    </tr>\n  </thead>\n  <tbody>\n    <tr>\n      <th>_c0</th>\n      <td>0</td>\n    </tr>\n    <tr>\n      <th>37-EnergyEntropystd</th>\n      <td>0</td>\n    </tr>\n    <tr>\n      <th>53-MFCCs11std</th>\n      <td>0</td>\n    </tr>\n    <tr>\n      <th>52-MFCCs10std</th>\n      <td>0</td>\n    </tr>\n    <tr>\n      <th>51-MFCCs9std</th>\n      <td>0</td>\n    </tr>\n    <tr>\n      <th>...</th>\n      <td>...</td>\n    </tr>\n    <tr>\n      <th>24-ChromaVector3m</th>\n      <td>0</td>\n    </tr>\n    <tr>\n      <th>23-ChromaVector2m</th>\n      <td>0</td>\n    </tr>\n    <tr>\n      <th>22-ChromaVector1m</th>\n      <td>0</td>\n    </tr>\n    <tr>\n      <th>21-MFCCs13m</th>\n      <td>0</td>\n    </tr>\n    <tr>\n      <th>class</th>\n      <td>0</td>\n    </tr>\n  </tbody>\n</table>\n<p>73 rows × 1 columns</p>\n</div>"
     },
     "metadata": {},
     "execution_count": 22
    }
   ],
   "source": [
    "df.select([count(when(isnan(c) | col(c).isNull(), c)).alias(c) for c in df.columns]).toPandas().T.sort_values(0, ascending=False)"
   ]
  },
  {
   "cell_type": "code",
   "execution_count": 23,
   "metadata": {},
   "outputs": [
    {
     "output_type": "stream",
     "name": "stdout",
     "text": [
      "+--------------------+-----+\n|               class|count|\n+--------------------+-----+\n|           PsyTrance|  100|\n|           HardDance|  100|\n|              Breaks|  100|\n|  HardcoreHardTechno|  100|\n|   IndieDanceNuDisco|  100|\n|              Trance|  100|\n|           DeepHouse|  100|\n|ElectronicaDowntempo|  100|\n|           ReggaeDub|  100|\n|             Minimal|  100|\n|         DrumAndBass|  100|\n|             Dubstep|  100|\n|             BigRoom|  100|\n|              Techno|  100|\n|               House|  100|\n|         FutureHouse|  100|\n|        ElectroHouse|  100|\n|           GlitchHop|  100|\n|           TechHouse|  100|\n|              HipHop|  100|\n+--------------------+-----+\nonly showing top 20 rows\n\n"
     ]
    }
   ],
   "source": [
    "df.select('class').groupBy('class').count().show()"
   ]
  },
  {
   "cell_type": "code",
   "execution_count": 24,
   "metadata": {},
   "outputs": [],
   "source": [
    "string_indexer = StringIndexer(inputCol='class', outputCol='class_num')\n",
    "df = string_indexer.fit(df).transform(df)"
   ]
  },
  {
   "cell_type": "code",
   "execution_count": 26,
   "metadata": {},
   "outputs": [
    {
     "output_type": "stream",
     "name": "stdout",
     "text": [
      "+--------------------+---------+-----+\n|               class|class_num|count|\n+--------------------+---------+-----+\n|           ReggaeDub|     19.0|  100|\n|           FunkRAndB|      8.0|  100|\n|              Trance|     22.0|  100|\n|              Techno|     21.0|  100|\n|             Dubstep|      5.0|  100|\n|   IndieDanceNuDisco|     15.0|  100|\n|ElectronicaDowntempo|      7.0|  100|\n|               House|     14.0|  100|\n|  HardcoreHardTechno|     12.0|  100|\n|              HipHop|     13.0|  100|\n|           GlitchHop|     10.0|  100|\n|         DrumAndBass|      4.0|  100|\n|           PsyTrance|     18.0|  100|\n|    ProgressiveHouse|     17.0|  100|\n|        ElectroHouse|      6.0|  100|\n|           HardDance|     11.0|  100|\n|             Minimal|     16.0|  100|\n|           TechHouse|     20.0|  100|\n|           DeepHouse|      3.0|  100|\n|             BigRoom|      0.0|  100|\n+--------------------+---------+-----+\nonly showing top 20 rows\n\n"
     ]
    }
   ],
   "source": [
    "df.select('class','class_num').groupBy('class','class_num').count().show()"
   ]
  },
  {
   "cell_type": "code",
   "execution_count": 64,
   "metadata": {},
   "outputs": [],
   "source": [
    "df_train, df_test = df.randomSplit([0.8, 0.2], seed=42)\n",
    "\n",
    "# Functions in the pipeline\n",
    "evaluator = MulticlassClassificationEvaluator(labelCol='class_num', metricName='f1')\n",
    "assembler = VectorAssembler(inputCols=[c for c in df.columns if c not in ['class','class_num']], outputCol='features')\n",
    "scaler = StandardScaler(inputCol='features', outputCol='scaledFeatures', withStd=True, withMean=True)\n",
    "\n",
    "# classifiers\n",
    "rfc = RandomForestClassifier(featuresCol='scaledFeatures', labelCol='class_num')\n",
    "lr = LogisticRegression(featuresCol='scaledFeatures', labelCol='class_num')\n",
    "\n",
    "# Grid for each classifier\n",
    "paramGrid_rfc = ParamGridBuilder().addGrid(rfc.numTrees, [50,100]).build()\n",
    "paramGrid_lr = ParamGridBuilder().addGrid(lr.maxIter, [10]).addGrid(lr.regParam, [0.3]).build()\n",
    "\n",
    "def test_classifiers(clf, paramGrid):\n",
    "    # Definition of pipeline\n",
    "    pipeline = Pipeline(stages=[assembler, scaler, clf])\n",
    "    # Definition of the cross validator\n",
    "    cv = CrossValidator(\n",
    "        estimator=pipeline,\n",
    "        estimatorParamMaps=paramGrid, \n",
    "        evaluator=evaluator, \n",
    "        numFolds=5)\n",
    "    print('training classifier: {}\\n'.format(clf))\n",
    "    model = cv.fit(df_train)\n",
    "    pred_ml_test = model.transform(df_test)\n",
    "    pred_ml_test_pd = pred_ml_test.toPandas()\n",
    "    print(classification_report(pred_ml_test_pd.prediction, pred_ml_test_pd.class_num))\n",
    "    return model"
   ]
  },
  {
   "cell_type": "code",
   "execution_count": 65,
   "metadata": {},
   "outputs": [
    {
     "output_type": "stream",
     "name": "stdout",
     "text": [
      "training classifier: RandomForestClassifier_25924c0e9027\n",
      "\n",
      "              precision    recall  f1-score   support\n",
      "\n",
      "         0.0       1.00      0.81      0.89        21\n",
      "         1.0       0.86      0.80      0.83        15\n",
      "         2.0       0.56      0.90      0.69        10\n",
      "         3.0       0.91      0.77      0.83        13\n",
      "         4.0       1.00      0.73      0.84        22\n",
      "         5.0       0.71      0.79      0.75        19\n",
      "         6.0       0.71      1.00      0.83        12\n",
      "         7.0       0.59      0.67      0.62        15\n",
      "         8.0       0.82      0.56      0.67        25\n",
      "         9.0       0.75      0.75      0.75        16\n",
      "        10.0       0.83      0.95      0.88        20\n",
      "        11.0       0.71      0.71      0.71        17\n",
      "        12.0       0.96      0.79      0.86        28\n",
      "        13.0       0.53      0.82      0.64        11\n",
      "        14.0       0.44      0.78      0.56         9\n",
      "        15.0       0.35      0.50      0.41        12\n",
      "        16.0       0.60      0.67      0.63        18\n",
      "        17.0       0.53      0.47      0.50        17\n",
      "        18.0       0.88      0.81      0.85        27\n",
      "        19.0       0.87      0.83      0.85        24\n",
      "        20.0       0.79      0.52      0.63        21\n",
      "        21.0       0.78      0.88      0.82        16\n",
      "        22.0       0.92      0.80      0.86        15\n",
      "\n",
      "    accuracy                           0.75       403\n",
      "   macro avg       0.74      0.75      0.74       403\n",
      "weighted avg       0.78      0.75      0.75       403\n",
      "\n",
      "training classifier: LogisticRegression_ca6a637a4ac4\n",
      "\n",
      "              precision    recall  f1-score   support\n",
      "\n",
      "         0.0       0.71      0.48      0.57        25\n",
      "         1.0       0.36      0.62      0.45         8\n",
      "         2.0       0.38      0.46      0.41        13\n",
      "         3.0       0.55      0.38      0.44        16\n",
      "         4.0       0.94      0.58      0.71        26\n",
      "         5.0       0.62      0.48      0.54        27\n",
      "         6.0       0.06      1.00      0.11         1\n",
      "         7.0       0.47      0.53      0.50        15\n",
      "         8.0       0.65      0.46      0.54        24\n",
      "         9.0       0.25      0.67      0.36         6\n",
      "        10.0       0.35      1.00      0.52         8\n",
      "        11.0       0.59      0.45      0.51        22\n",
      "        12.0       0.83      0.56      0.67        34\n",
      "        13.0       0.41      0.50      0.45        14\n",
      "        14.0       0.25      0.27      0.26        15\n",
      "        15.0       0.18      0.38      0.24         8\n",
      "        16.0       0.65      0.46      0.54        28\n",
      "        17.0       0.40      0.35      0.38        17\n",
      "        18.0       0.52      0.72      0.60        18\n",
      "        19.0       0.70      0.55      0.62        29\n",
      "        20.0       0.43      0.35      0.39        17\n",
      "        21.0       0.22      0.57      0.32         7\n",
      "        22.0       0.85      0.44      0.58        25\n",
      "\n",
      "    accuracy                           0.50       403\n",
      "   macro avg       0.49      0.53      0.47       403\n",
      "weighted avg       0.59      0.50      0.52       403\n",
      "\n"
     ]
    }
   ],
   "source": [
    "# train / test all classifiers\n",
    "clf_to_test = [rfc, lr]\n",
    "grid_to_test = [paramGrid_rfc, paramGrid_lr]\n",
    "models_list = [test_classifiers(models, grids) for models, grids in zip(clf_to_test, grid_to_test)]"
   ]
  },
  {
   "cell_type": "code",
   "execution_count": 90,
   "metadata": {},
   "outputs": [
    {
     "output_type": "stream",
     "name": "stdout",
     "text": [
      "+--------------------+---------+----------+------------------+\n|               class|class_num|prediction|prediction_results|\n+--------------------+---------+----------+------------------+\n|           ReggaeDub|     19.0|      19.0|              true|\n|           ReggaeDub|     19.0|      19.0|              true|\n|           TechHouse|     20.0|      20.0|              true|\n|  HardcoreHardTechno|     12.0|      12.0|              true|\n|               House|     14.0|      14.0|              true|\n|              Techno|     21.0|      21.0|              true|\n|             BigRoom|      0.0|       0.0|              true|\n|              Trance|     22.0|      22.0|              true|\n|           DeepHouse|      3.0|       3.0|              true|\n|              Breaks|      1.0|       1.0|              true|\n|ElectronicaDowntempo|      7.0|       7.0|              true|\n|         DrumAndBass|      4.0|       4.0|              true|\n|           ReggaeDub|     19.0|      10.0|             false|\n|           HardDance|     11.0|      18.0|             false|\n|           TechHouse|     20.0|      20.0|              true|\n+--------------------+---------+----------+------------------+\nonly showing top 15 rows\n\n"
     ]
    }
   ],
   "source": [
    "result_test = models_list[0].transform(df_test)\n",
    "result_test = result_test.withColumn('prediction_results', result_test.class_num - result_test.prediction)\n",
    "\n",
    "res = udf(lambda x: True if x==0 else False)\n",
    "result_test = result_test.withColumn('prediction_results', res(result_test.prediction_results))\n",
    "\n",
    "result_test.select('class','class_num','prediction','prediction_results').orderBy(rand()).show(15)"
   ]
  },
  {
   "cell_type": "code",
   "execution_count": null,
   "metadata": {},
   "outputs": [],
   "source": []
  }
 ],
 "metadata": {
  "kernelspec": {
   "display_name": "Python 3",
   "language": "python",
   "name": "python3"
  },
  "language_info": {
   "codemirror_mode": {
    "name": "ipython",
    "version": 3
   },
   "file_extension": ".py",
   "mimetype": "text/x-python",
   "name": "python",
   "nbconvert_exporter": "python",
   "pygments_lexer": "ipython3",
   "version": "3.7.6-final"
  }
 },
 "nbformat": 4,
 "nbformat_minor": 2
}